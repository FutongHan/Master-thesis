{
 "cells": [
  {
   "cell_type": "markdown",
   "metadata": {},
   "source": [
    "# Baseline model"
   ]
  },
  {
   "cell_type": "markdown",
   "metadata": {},
   "source": [
    "Split the dataset"
   ]
  },
  {
   "cell_type": "code",
   "execution_count": 1,
   "metadata": {},
   "outputs": [],
   "source": [
    "import pandas as pd\n",
    "import numpy as np\n",
    "import matplotlib.pyplot as plt\n",
    "import seaborn as sns"
   ]
  },
  {
   "cell_type": "code",
   "execution_count": 2,
   "metadata": {},
   "outputs": [
    {
     "data": {
      "text/html": [
       "<div>\n",
       "<style scoped>\n",
       "    .dataframe tbody tr th:only-of-type {\n",
       "        vertical-align: middle;\n",
       "    }\n",
       "\n",
       "    .dataframe tbody tr th {\n",
       "        vertical-align: top;\n",
       "    }\n",
       "\n",
       "    .dataframe thead th {\n",
       "        text-align: right;\n",
       "    }\n",
       "</style>\n",
       "<table border=\"1\" class=\"dataframe\">\n",
       "  <thead>\n",
       "    <tr style=\"text-align: right;\">\n",
       "      <th></th>\n",
       "      <th>Time</th>\n",
       "      <th>V1</th>\n",
       "      <th>V2</th>\n",
       "      <th>V3</th>\n",
       "      <th>V4</th>\n",
       "      <th>V5</th>\n",
       "      <th>V6</th>\n",
       "      <th>V7</th>\n",
       "      <th>V8</th>\n",
       "      <th>V9</th>\n",
       "      <th>...</th>\n",
       "      <th>V21</th>\n",
       "      <th>V22</th>\n",
       "      <th>V23</th>\n",
       "      <th>V24</th>\n",
       "      <th>V25</th>\n",
       "      <th>V26</th>\n",
       "      <th>V27</th>\n",
       "      <th>V28</th>\n",
       "      <th>Amount</th>\n",
       "      <th>Class</th>\n",
       "    </tr>\n",
       "  </thead>\n",
       "  <tbody>\n",
       "    <tr>\n",
       "      <th>0</th>\n",
       "      <td>0.0</td>\n",
       "      <td>-1.359807</td>\n",
       "      <td>-0.072781</td>\n",
       "      <td>2.536347</td>\n",
       "      <td>1.378155</td>\n",
       "      <td>-0.338321</td>\n",
       "      <td>0.462388</td>\n",
       "      <td>0.239599</td>\n",
       "      <td>0.098698</td>\n",
       "      <td>0.363787</td>\n",
       "      <td>...</td>\n",
       "      <td>-0.018307</td>\n",
       "      <td>0.277838</td>\n",
       "      <td>-0.110474</td>\n",
       "      <td>0.066928</td>\n",
       "      <td>0.128539</td>\n",
       "      <td>-0.189115</td>\n",
       "      <td>0.133558</td>\n",
       "      <td>-0.021053</td>\n",
       "      <td>149.62</td>\n",
       "      <td>0</td>\n",
       "    </tr>\n",
       "    <tr>\n",
       "      <th>1</th>\n",
       "      <td>0.0</td>\n",
       "      <td>1.191857</td>\n",
       "      <td>0.266151</td>\n",
       "      <td>0.166480</td>\n",
       "      <td>0.448154</td>\n",
       "      <td>0.060018</td>\n",
       "      <td>-0.082361</td>\n",
       "      <td>-0.078803</td>\n",
       "      <td>0.085102</td>\n",
       "      <td>-0.255425</td>\n",
       "      <td>...</td>\n",
       "      <td>-0.225775</td>\n",
       "      <td>-0.638672</td>\n",
       "      <td>0.101288</td>\n",
       "      <td>-0.339846</td>\n",
       "      <td>0.167170</td>\n",
       "      <td>0.125895</td>\n",
       "      <td>-0.008983</td>\n",
       "      <td>0.014724</td>\n",
       "      <td>2.69</td>\n",
       "      <td>0</td>\n",
       "    </tr>\n",
       "    <tr>\n",
       "      <th>2</th>\n",
       "      <td>1.0</td>\n",
       "      <td>-1.358354</td>\n",
       "      <td>-1.340163</td>\n",
       "      <td>1.773209</td>\n",
       "      <td>0.379780</td>\n",
       "      <td>-0.503198</td>\n",
       "      <td>1.800499</td>\n",
       "      <td>0.791461</td>\n",
       "      <td>0.247676</td>\n",
       "      <td>-1.514654</td>\n",
       "      <td>...</td>\n",
       "      <td>0.247998</td>\n",
       "      <td>0.771679</td>\n",
       "      <td>0.909412</td>\n",
       "      <td>-0.689281</td>\n",
       "      <td>-0.327642</td>\n",
       "      <td>-0.139097</td>\n",
       "      <td>-0.055353</td>\n",
       "      <td>-0.059752</td>\n",
       "      <td>378.66</td>\n",
       "      <td>0</td>\n",
       "    </tr>\n",
       "    <tr>\n",
       "      <th>3</th>\n",
       "      <td>1.0</td>\n",
       "      <td>-0.966272</td>\n",
       "      <td>-0.185226</td>\n",
       "      <td>1.792993</td>\n",
       "      <td>-0.863291</td>\n",
       "      <td>-0.010309</td>\n",
       "      <td>1.247203</td>\n",
       "      <td>0.237609</td>\n",
       "      <td>0.377436</td>\n",
       "      <td>-1.387024</td>\n",
       "      <td>...</td>\n",
       "      <td>-0.108300</td>\n",
       "      <td>0.005274</td>\n",
       "      <td>-0.190321</td>\n",
       "      <td>-1.175575</td>\n",
       "      <td>0.647376</td>\n",
       "      <td>-0.221929</td>\n",
       "      <td>0.062723</td>\n",
       "      <td>0.061458</td>\n",
       "      <td>123.50</td>\n",
       "      <td>0</td>\n",
       "    </tr>\n",
       "    <tr>\n",
       "      <th>4</th>\n",
       "      <td>2.0</td>\n",
       "      <td>-1.158233</td>\n",
       "      <td>0.877737</td>\n",
       "      <td>1.548718</td>\n",
       "      <td>0.403034</td>\n",
       "      <td>-0.407193</td>\n",
       "      <td>0.095921</td>\n",
       "      <td>0.592941</td>\n",
       "      <td>-0.270533</td>\n",
       "      <td>0.817739</td>\n",
       "      <td>...</td>\n",
       "      <td>-0.009431</td>\n",
       "      <td>0.798278</td>\n",
       "      <td>-0.137458</td>\n",
       "      <td>0.141267</td>\n",
       "      <td>-0.206010</td>\n",
       "      <td>0.502292</td>\n",
       "      <td>0.219422</td>\n",
       "      <td>0.215153</td>\n",
       "      <td>69.99</td>\n",
       "      <td>0</td>\n",
       "    </tr>\n",
       "  </tbody>\n",
       "</table>\n",
       "<p>5 rows × 31 columns</p>\n",
       "</div>"
      ],
      "text/plain": [
       "   Time        V1        V2        V3        V4        V5        V6        V7  \\\n",
       "0   0.0 -1.359807 -0.072781  2.536347  1.378155 -0.338321  0.462388  0.239599   \n",
       "1   0.0  1.191857  0.266151  0.166480  0.448154  0.060018 -0.082361 -0.078803   \n",
       "2   1.0 -1.358354 -1.340163  1.773209  0.379780 -0.503198  1.800499  0.791461   \n",
       "3   1.0 -0.966272 -0.185226  1.792993 -0.863291 -0.010309  1.247203  0.237609   \n",
       "4   2.0 -1.158233  0.877737  1.548718  0.403034 -0.407193  0.095921  0.592941   \n",
       "\n",
       "         V8        V9  ...       V21       V22       V23       V24       V25  \\\n",
       "0  0.098698  0.363787  ... -0.018307  0.277838 -0.110474  0.066928  0.128539   \n",
       "1  0.085102 -0.255425  ... -0.225775 -0.638672  0.101288 -0.339846  0.167170   \n",
       "2  0.247676 -1.514654  ...  0.247998  0.771679  0.909412 -0.689281 -0.327642   \n",
       "3  0.377436 -1.387024  ... -0.108300  0.005274 -0.190321 -1.175575  0.647376   \n",
       "4 -0.270533  0.817739  ... -0.009431  0.798278 -0.137458  0.141267 -0.206010   \n",
       "\n",
       "        V26       V27       V28  Amount  Class  \n",
       "0 -0.189115  0.133558 -0.021053  149.62      0  \n",
       "1  0.125895 -0.008983  0.014724    2.69      0  \n",
       "2 -0.139097 -0.055353 -0.059752  378.66      0  \n",
       "3 -0.221929  0.062723  0.061458  123.50      0  \n",
       "4  0.502292  0.219422  0.215153   69.99      0  \n",
       "\n",
       "[5 rows x 31 columns]"
      ]
     },
     "execution_count": 2,
     "metadata": {},
     "output_type": "execute_result"
    }
   ],
   "source": [
    "df = pd.read_csv('creditcard.csv')\n",
    "df.head()"
   ]
  },
  {
   "cell_type": "code",
   "execution_count": 3,
   "metadata": {},
   "outputs": [],
   "source": [
    "from xverse.feature_subset import SplitXY\n",
    "\n",
    "def splitXY(df, target_column):\n",
    "\n",
    "    clf = SplitXY([target_column]) #Split the dataset into X and y\n",
    "    X, y = clf.fit_transform(df) #returns features (X) dataset and target(Y) as a numpy array\n",
    "    return X, y\n",
    "\n",
    "def make_train_test_split(X=None, y=None, test_size=0.3, random_state=1234):\n",
    "\n",
    "    from sklearn.model_selection import train_test_split\n",
    "    X_train, X_test, y_train, y_test = train_test_split(X, y, test_size=test_size, random_state=random_state)\n",
    "    return X_train, X_test, y_train, y_test"
   ]
  },
  {
   "cell_type": "code",
   "execution_count": 4,
   "metadata": {},
   "outputs": [],
   "source": [
    "selected_vars = ['V11', 'V12', 'V3', 'V19', 'V7', 'V14', 'V1', 'V4', 'V21', 'V2', 'V18', 'V16', 'V17', 'V9', 'V10']"
   ]
  },
  {
   "cell_type": "markdown",
   "metadata": {},
   "source": [
    "# Build logistic regression model"
   ]
  },
  {
   "cell_type": "code",
   "execution_count": 5,
   "metadata": {},
   "outputs": [],
   "source": [
    "from sklearn.metrics import accuracy_score, roc_curve, auc, classification_report, confusion_matrix\n",
    "from sklearn.linear_model import LogisticRegression"
   ]
  },
  {
   "cell_type": "code",
   "execution_count": 6,
   "metadata": {},
   "outputs": [],
   "source": [
    "def build_model(X, y):\n",
    "\n",
    "    clf = LogisticRegression()\n",
    "    clf.fit(X, y)\n",
    "    return clf"
   ]
  },
  {
   "cell_type": "code",
   "execution_count": 7,
   "metadata": {},
   "outputs": [],
   "source": [
    "def evaluate_model(clf, X, y):\n",
    "    \n",
    "    pred = clf.predict(X) #predicted classes\n",
    "    accuracy = accuracy_score(pred,y) # calculate accuracy\n",
    "    fpr, tpr, _ = roc_curve(y, clf.predict_proba(X)[:,1]) # roc_curve\n",
    "    auc_value = auc(fpr,tpr) # auc_value\n",
    "    report = classification_report(y, pred, labels=[0,1], output_dict=True)\n",
    "    report_df = pd.DataFrame(report).transpose()\n",
    "    report_df = report_df.reset_index()\n",
    "    model_eval  = report_df[report_df['index'].str.contains('1')][['precision','recall','f1-score']]\n",
    "    model_eval['accuracy']  = list(report_df[report_df['index'].str.contains('accuracy')]['support'])\n",
    "    model_eval['ROC']  = auc_value\n",
    "    cf_matrix = confusion_matrix(y, pred)\n",
    "    \n",
    "    return model_eval, cf_matrix"
   ]
  },
  {
   "cell_type": "code",
   "execution_count": 8,
   "metadata": {},
   "outputs": [],
   "source": [
    "def model_eval_data(clf, X_train, y_train, \n",
    "                         X_test, y_test, \n",
    "                         model_eval_train, \n",
    "                         model_eval_test,\n",
    "                         Name=None):\n",
    "    \n",
    "    temp_eval_train, cf_matrix_train = evaluate_model(clf, X_train, y_train)\n",
    "    temp_eval_test, cf_matrix_test = evaluate_model(clf, X_test, y_test)\n",
    "    temp_eval_train.index = [Name]\n",
    "    temp_eval_test.index = [Name]\n",
    "    \n",
    "    try:\n",
    "        model_eval_train = model_eval_train.append(temp_eval_train)\n",
    "        model_eval_test = model_eval_test.append(temp_eval_test)\n",
    "    except:\n",
    "        model_eval_train = temp_eval_train\n",
    "        model_eval_test = temp_eval_test\n",
    "    \n",
    "    return model_eval_train, model_eval_test, cf_matrix_train, cf_matrix_test"
   ]
  },
  {
   "cell_type": "code",
   "execution_count": 9,
   "metadata": {},
   "outputs": [],
   "source": [
    "def make_confusion_matrix_chart(cf_matrix_train, cf_matrix_test):\n",
    "    \n",
    "    plt.figure(1, figsize=(10,5))\n",
    "\n",
    "    plt.subplot(121)\n",
    "    sns.heatmap(cf_matrix_train, annot=True, yticklabels=['Not Fraud', 'Fraud'], \n",
    "                                xticklabels=['Not Fraud', 'Fraud'], fmt='g')\n",
    "    plt.ylabel(\"Actual\")\n",
    "    plt.xlabel(\"Pred\")\n",
    "    plt.ylim([0,2])\n",
    "    plt.title('Train data')\n",
    "\n",
    "    plt.subplot(122)\n",
    "    sns.heatmap(cf_matrix_test, annot=True, yticklabels=['Not Fraud', 'Fraud'], \n",
    "                                xticklabels=['Not Fraud', 'Fraud'], fmt='g')\n",
    "    plt.ylabel(\"Actual\")\n",
    "    plt.xlabel(\"Pred\")\n",
    "    plt.ylim([0,2])\n",
    "    plt.tight_layout()\n",
    "    plt.title('Test data')\n",
    "\n",
    "    plt.tight_layout()\n",
    "    return None"
   ]
  },
  {
   "cell_type": "code",
   "execution_count": 10,
   "metadata": {},
   "outputs": [],
   "source": [
    "model_eval_train = pd.DataFrame({},[])\n",
    "model_eval_test = pd.DataFrame({},[])"
   ]
  },
  {
   "cell_type": "markdown",
   "metadata": {},
   "source": [
    "Using imbalanced data"
   ]
  },
  {
   "cell_type": "code",
   "execution_count": 11,
   "metadata": {},
   "outputs": [],
   "source": [
    "X, y = splitXY(df, 'Class')\n",
    "X_train, X_test, y_train, y_test = make_train_test_split(X=X, y=y, test_size=0.3, random_state=1)"
   ]
  },
  {
   "cell_type": "code",
   "execution_count": 12,
   "metadata": {},
   "outputs": [],
   "source": [
    "X_train = X_train[selected_vars] #select the variables from variable selection proces\n",
    "X_test = X_test[selected_vars]"
   ]
  },
  {
   "cell_type": "code",
   "execution_count": 14,
   "metadata": {},
   "outputs": [],
   "source": [
    "clf = build_model(X_train, y_train)"
   ]
  },
  {
   "cell_type": "code",
   "execution_count": 15,
   "metadata": {},
   "outputs": [],
   "source": [
    "model_eval_train, model_eval_test, cf_matrix_train, cf_matrix_test = model_eval_data(clf, X_train, y_train, \n",
    "                                                         X_test, y_test, \n",
    "                                                         model_eval_train, \n",
    "                                                         model_eval_test,\n",
    "                                                         Name='imbalanced data - LogisticRegression')"
   ]
  },
  {
   "cell_type": "code",
   "execution_count": 16,
   "metadata": {},
   "outputs": [
    {
     "data": {
      "text/html": [
       "<div>\n",
       "<style scoped>\n",
       "    .dataframe tbody tr th:only-of-type {\n",
       "        vertical-align: middle;\n",
       "    }\n",
       "\n",
       "    .dataframe tbody tr th {\n",
       "        vertical-align: top;\n",
       "    }\n",
       "\n",
       "    .dataframe thead th {\n",
       "        text-align: right;\n",
       "    }\n",
       "</style>\n",
       "<table border=\"1\" class=\"dataframe\">\n",
       "  <thead>\n",
       "    <tr style=\"text-align: right;\">\n",
       "      <th></th>\n",
       "      <th>precision</th>\n",
       "      <th>recall</th>\n",
       "      <th>f1-score</th>\n",
       "      <th>accuracy</th>\n",
       "      <th>ROC</th>\n",
       "    </tr>\n",
       "  </thead>\n",
       "  <tbody>\n",
       "    <tr>\n",
       "      <th>imbalanced data - LogisticRegression</th>\n",
       "      <td>0.897638</td>\n",
       "      <td>0.638655</td>\n",
       "      <td>0.746318</td>\n",
       "      <td>0.999223</td>\n",
       "      <td>0.974718</td>\n",
       "    </tr>\n",
       "  </tbody>\n",
       "</table>\n",
       "</div>"
      ],
      "text/plain": [
       "                                      precision    recall  f1-score  accuracy  \\\n",
       "imbalanced data - LogisticRegression   0.897638  0.638655  0.746318  0.999223   \n",
       "\n",
       "                                           ROC  \n",
       "imbalanced data - LogisticRegression  0.974718  "
      ]
     },
     "execution_count": 16,
     "metadata": {},
     "output_type": "execute_result"
    }
   ],
   "source": [
    "model_eval_train"
   ]
  },
  {
   "cell_type": "code",
   "execution_count": 17,
   "metadata": {},
   "outputs": [
    {
     "data": {
      "text/html": [
       "<div>\n",
       "<style scoped>\n",
       "    .dataframe tbody tr th:only-of-type {\n",
       "        vertical-align: middle;\n",
       "    }\n",
       "\n",
       "    .dataframe tbody tr th {\n",
       "        vertical-align: top;\n",
       "    }\n",
       "\n",
       "    .dataframe thead th {\n",
       "        text-align: right;\n",
       "    }\n",
       "</style>\n",
       "<table border=\"1\" class=\"dataframe\">\n",
       "  <thead>\n",
       "    <tr style=\"text-align: right;\">\n",
       "      <th></th>\n",
       "      <th>precision</th>\n",
       "      <th>recall</th>\n",
       "      <th>f1-score</th>\n",
       "      <th>accuracy</th>\n",
       "      <th>ROC</th>\n",
       "    </tr>\n",
       "  </thead>\n",
       "  <tbody>\n",
       "    <tr>\n",
       "      <th>imbalanced data - LogisticRegression</th>\n",
       "      <td>0.846154</td>\n",
       "      <td>0.57037</td>\n",
       "      <td>0.681416</td>\n",
       "      <td>0.999157</td>\n",
       "      <td>0.96878</td>\n",
       "    </tr>\n",
       "  </tbody>\n",
       "</table>\n",
       "</div>"
      ],
      "text/plain": [
       "                                      precision   recall  f1-score  accuracy  \\\n",
       "imbalanced data - LogisticRegression   0.846154  0.57037  0.681416  0.999157   \n",
       "\n",
       "                                          ROC  \n",
       "imbalanced data - LogisticRegression  0.96878  "
      ]
     },
     "execution_count": 17,
     "metadata": {},
     "output_type": "execute_result"
    }
   ],
   "source": [
    "model_eval_test"
   ]
  },
  {
   "cell_type": "code",
   "execution_count": 19,
   "metadata": {},
   "outputs": [
    {
     "data": {
      "text/plain": [
       "<matplotlib.axes._subplots.AxesSubplot at 0x23feb164eb8>"
      ]
     },
     "execution_count": 19,
     "metadata": {},
     "output_type": "execute_result"
    },
    {
     "data": {
      "image/png": "[encoded data removed]",
      "text/plain": [
       "<Figure size 576x360 with 2 Axes>"
      ]
     },
     "metadata": {
      "needs_background": "light"
     },
     "output_type": "display_data"
    }
   ],
   "source": [
    "from sklearn.metrics import confusion_matrix\n",
    "%matplotlib inline\n",
    "\n",
    "y_pred = clf.predict(X_test)\n",
    "cm=confusion_matrix(y_test,y_pred)\n",
    "conf_matrix=pd.DataFrame(data=cm,columns=['Predicted:0','Predicted:1'],index=['Actual:0','Actual:1'])\n",
    "plt.figure(figsize = (8,5))\n",
    "sns.heatmap(conf_matrix, annot=True,fmt='d',cmap=\"YlGnBu\")"
   ]
  },
  {
   "cell_type": "code",
   "execution_count": 25,
   "metadata": {},
   "outputs": [
    {
     "name": "stdout",
     "output_type": "stream",
     "text": [
      "              precision    recall  f1-score   support\n",
      "\n",
      "           0       1.00      1.00      1.00     85308\n",
      "           1       0.85      0.57      0.68       135\n",
      "\n",
      "    accuracy                           1.00     85443\n",
      "   macro avg       0.92      0.79      0.84     85443\n",
      "weighted avg       1.00      1.00      1.00     85443\n",
      "\n"
     ]
    }
   ],
   "source": [
    "print(classification_report(y_test, y_pred))"
   ]
  },
  {
   "cell_type": "markdown",
   "metadata": {},
   "source": [
    "# Using imbalanced data without feature selection"
   ]
  },
  {
   "cell_type": "code",
   "execution_count": 29,
   "metadata": {},
   "outputs": [],
   "source": [
    "X, y = splitXY(df, 'Class')\n",
    "X_train, X_test, y_train, y_test = make_train_test_split(X=X, y=y, test_size=0.3, random_state=1)"
   ]
  },
  {
   "cell_type": "code",
   "execution_count": 21,
   "metadata": {},
   "outputs": [
    {
     "name": "stderr",
     "output_type": "stream",
     "text": [
      "C:\\anaconda\\lib\\site-packages\\sklearn\\linear_model\\_logistic.py:764: ConvergenceWarning: lbfgs failed to converge (status=1):\n",
      "STOP: TOTAL NO. of ITERATIONS REACHED LIMIT.\n",
      "\n",
      "Increase the number of iterations (max_iter) or scale the data as shown in:\n",
      "    https://scikit-learn.org/stable/modules/preprocessing.html\n",
      "Please also refer to the documentation for alternative solver options:\n",
      "    https://scikit-learn.org/stable/modules/linear_model.html#logistic-regression\n",
      "  extra_warning_msg=_LOGISTIC_SOLVER_CONVERGENCE_MSG)\n"
     ]
    }
   ],
   "source": [
    "clf1 = build_model(X_train, y_train)"
   ]
  },
  {
   "cell_type": "code",
   "execution_count": 22,
   "metadata": {},
   "outputs": [],
   "source": [
    "model_eval_train, model_eval_test, cf_matrix_train, cf_matrix_test = model_eval_data(clf1, X_train, y_train, \n",
    "                                                         X_test, y_test, \n",
    "                                                         model_eval_train, \n",
    "                                                         model_eval_test,\n",
    "                                                         Name='imbalanced data - LogisticRegression(without FS)')"
   ]
  },
  {
   "cell_type": "code",
   "execution_count": 23,
   "metadata": {},
   "outputs": [
    {
     "data": {
      "text/html": [
       "<div>\n",
       "<style scoped>\n",
       "    .dataframe tbody tr th:only-of-type {\n",
       "        vertical-align: middle;\n",
       "    }\n",
       "\n",
       "    .dataframe tbody tr th {\n",
       "        vertical-align: top;\n",
       "    }\n",
       "\n",
       "    .dataframe thead th {\n",
       "        text-align: right;\n",
       "    }\n",
       "</style>\n",
       "<table border=\"1\" class=\"dataframe\">\n",
       "  <thead>\n",
       "    <tr style=\"text-align: right;\">\n",
       "      <th></th>\n",
       "      <th>precision</th>\n",
       "      <th>recall</th>\n",
       "      <th>f1-score</th>\n",
       "      <th>accuracy</th>\n",
       "      <th>ROC</th>\n",
       "    </tr>\n",
       "  </thead>\n",
       "  <tbody>\n",
       "    <tr>\n",
       "      <th>imbalanced data - LogisticRegression</th>\n",
       "      <td>0.897638</td>\n",
       "      <td>0.638655</td>\n",
       "      <td>0.746318</td>\n",
       "      <td>0.999223</td>\n",
       "      <td>0.974718</td>\n",
       "    </tr>\n",
       "    <tr>\n",
       "      <th>imbalanced data - LogisticRegression(without FS)</th>\n",
       "      <td>0.719764</td>\n",
       "      <td>0.683473</td>\n",
       "      <td>0.701149</td>\n",
       "      <td>0.998957</td>\n",
       "      <td>0.933974</td>\n",
       "    </tr>\n",
       "  </tbody>\n",
       "</table>\n",
       "</div>"
      ],
      "text/plain": [
       "                                                  precision    recall  \\\n",
       "imbalanced data - LogisticRegression               0.897638  0.638655   \n",
       "imbalanced data - LogisticRegression(without FS)   0.719764  0.683473   \n",
       "\n",
       "                                                  f1-score  accuracy       ROC  \n",
       "imbalanced data - LogisticRegression              0.746318  0.999223  0.974718  \n",
       "imbalanced data - LogisticRegression(without FS)  0.701149  0.998957  0.933974  "
      ]
     },
     "execution_count": 23,
     "metadata": {},
     "output_type": "execute_result"
    }
   ],
   "source": [
    "model_eval_train"
   ]
  },
  {
   "cell_type": "code",
   "execution_count": 24,
   "metadata": {},
   "outputs": [
    {
     "data": {
      "text/html": [
       "<div>\n",
       "<style scoped>\n",
       "    .dataframe tbody tr th:only-of-type {\n",
       "        vertical-align: middle;\n",
       "    }\n",
       "\n",
       "    .dataframe tbody tr th {\n",
       "        vertical-align: top;\n",
       "    }\n",
       "\n",
       "    .dataframe thead th {\n",
       "        text-align: right;\n",
       "    }\n",
       "</style>\n",
       "<table border=\"1\" class=\"dataframe\">\n",
       "  <thead>\n",
       "    <tr style=\"text-align: right;\">\n",
       "      <th></th>\n",
       "      <th>precision</th>\n",
       "      <th>recall</th>\n",
       "      <th>f1-score</th>\n",
       "      <th>accuracy</th>\n",
       "      <th>ROC</th>\n",
       "    </tr>\n",
       "  </thead>\n",
       "  <tbody>\n",
       "    <tr>\n",
       "      <th>imbalanced data - LogisticRegression</th>\n",
       "      <td>0.846154</td>\n",
       "      <td>0.570370</td>\n",
       "      <td>0.681416</td>\n",
       "      <td>0.999157</td>\n",
       "      <td>0.968780</td>\n",
       "    </tr>\n",
       "    <tr>\n",
       "      <th>imbalanced data - LogisticRegression(without FS)</th>\n",
       "      <td>0.705882</td>\n",
       "      <td>0.622222</td>\n",
       "      <td>0.661417</td>\n",
       "      <td>0.998993</td>\n",
       "      <td>0.881542</td>\n",
       "    </tr>\n",
       "  </tbody>\n",
       "</table>\n",
       "</div>"
      ],
      "text/plain": [
       "                                                  precision    recall  \\\n",
       "imbalanced data - LogisticRegression               0.846154  0.570370   \n",
       "imbalanced data - LogisticRegression(without FS)   0.705882  0.622222   \n",
       "\n",
       "                                                  f1-score  accuracy       ROC  \n",
       "imbalanced data - LogisticRegression              0.681416  0.999157  0.968780  \n",
       "imbalanced data - LogisticRegression(without FS)  0.661417  0.998993  0.881542  "
      ]
     },
     "execution_count": 24,
     "metadata": {},
     "output_type": "execute_result"
    }
   ],
   "source": [
    "model_eval_test"
   ]
  },
  {
   "cell_type": "code",
   "execution_count": 27,
   "metadata": {},
   "outputs": [
    {
     "data": {
      "text/plain": [
       "<matplotlib.axes._subplots.AxesSubplot at 0x23ff105a048>"
      ]
     },
     "execution_count": 27,
     "metadata": {},
     "output_type": "execute_result"
    },
    {
     "data": {
      "image/png": "[encoded data removed]",
      "text/plain": [
       "<Figure size 576x360 with 2 Axes>"
      ]
     },
     "metadata": {
      "needs_background": "light"
     },
     "output_type": "display_data"
    }
   ],
   "source": [
    "from sklearn.metrics import confusion_matrix\n",
    "%matplotlib inline\n",
    "\n",
    "y_pred = clf1.predict(X_test)\n",
    "cm=confusion_matrix(y_test,y_pred)\n",
    "conf_matrix=pd.DataFrame(data=cm,columns=['Predicted:0','Predicted:1'],index=['Actual:0','Actual:1'])\n",
    "plt.figure(figsize = (8,5))\n",
    "sns.heatmap(conf_matrix, annot=True,fmt='d',cmap=\"YlGnBu\")"
   ]
  },
  {
   "cell_type": "code",
   "execution_count": 28,
   "metadata": {},
   "outputs": [
    {
     "name": "stdout",
     "output_type": "stream",
     "text": [
      "              precision    recall  f1-score   support\n",
      "\n",
      "           0       1.00      1.00      1.00     85308\n",
      "           1       0.71      0.62      0.66       135\n",
      "\n",
      "    accuracy                           1.00     85443\n",
      "   macro avg       0.85      0.81      0.83     85443\n",
      "weighted avg       1.00      1.00      1.00     85443\n",
      "\n"
     ]
    }
   ],
   "source": [
    "print(classification_report(y_test, y_pred))"
   ]
  },
  {
   "cell_type": "markdown",
   "metadata": {},
   "source": [
    "# Randomsampling+Logistic regression"
   ]
  },
  {
   "cell_type": "markdown",
   "metadata": {},
   "source": [
    "This is the baseline model using imbalanced data and simple logistic regression.\n",
    "\n",
    "Then I will use the first sampling techniques on it: Random oversampling"
   ]
  },
  {
   "cell_type": "code",
   "execution_count": 30,
   "metadata": {},
   "outputs": [],
   "source": [
    "from imblearn.over_sampling import RandomOverSampler"
   ]
  },
  {
   "cell_type": "code",
   "execution_count": 31,
   "metadata": {},
   "outputs": [],
   "source": [
    "X, y = splitXY(df, 'Class')\n",
    "X_train, X_test, y_train, y_test = make_train_test_split(X=X, y=y, test_size=0.3, random_state=1)\n",
    "X_train = X_train[selected_vars] #select the variables from variable selection proces\n",
    "X_test = X_test[selected_vars]"
   ]
  },
  {
   "cell_type": "code",
   "execution_count": 32,
   "metadata": {},
   "outputs": [],
   "source": [
    "X_resampled, y_resampled = RandomOverSampler().fit_sample(X_train, y_train)"
   ]
  },
  {
   "cell_type": "code",
   "execution_count": 33,
   "metadata": {},
   "outputs": [],
   "source": [
    "clf2 = build_model(X_resampled, y_resampled)"
   ]
  },
  {
   "cell_type": "code",
   "execution_count": 34,
   "metadata": {},
   "outputs": [],
   "source": [
    "model_eval_train, model_eval_test, cf_matrix_train, cf_matrix_test = model_eval_data(clf2, X_train, y_train, \n",
    "                                                         X_test, y_test, \n",
    "                                                         model_eval_train, \n",
    "                                                         model_eval_test,\n",
    "                                                         Name='RandomOversampling data')"
   ]
  },
  {
   "cell_type": "code",
   "execution_count": 35,
   "metadata": {},
   "outputs": [
    {
     "data": {
      "text/html": [
       "<div>\n",
       "<style scoped>\n",
       "    .dataframe tbody tr th:only-of-type {\n",
       "        vertical-align: middle;\n",
       "    }\n",
       "\n",
       "    .dataframe tbody tr th {\n",
       "        vertical-align: top;\n",
       "    }\n",
       "\n",
       "    .dataframe thead th {\n",
       "        text-align: right;\n",
       "    }\n",
       "</style>\n",
       "<table border=\"1\" class=\"dataframe\">\n",
       "  <thead>\n",
       "    <tr style=\"text-align: right;\">\n",
       "      <th></th>\n",
       "      <th>precision</th>\n",
       "      <th>recall</th>\n",
       "      <th>f1-score</th>\n",
       "      <th>accuracy</th>\n",
       "      <th>ROC</th>\n",
       "    </tr>\n",
       "  </thead>\n",
       "  <tbody>\n",
       "    <tr>\n",
       "      <th>imbalanced data - LogisticRegression</th>\n",
       "      <td>0.897638</td>\n",
       "      <td>0.638655</td>\n",
       "      <td>0.746318</td>\n",
       "      <td>0.999223</td>\n",
       "      <td>0.974718</td>\n",
       "    </tr>\n",
       "    <tr>\n",
       "      <th>imbalanced data - LogisticRegression(without FS)</th>\n",
       "      <td>0.719764</td>\n",
       "      <td>0.683473</td>\n",
       "      <td>0.701149</td>\n",
       "      <td>0.998957</td>\n",
       "      <td>0.933974</td>\n",
       "    </tr>\n",
       "    <tr>\n",
       "      <th>RandomOversampling data</th>\n",
       "      <td>0.084492</td>\n",
       "      <td>0.901961</td>\n",
       "      <td>0.154511</td>\n",
       "      <td>0.982324</td>\n",
       "      <td>0.979848</td>\n",
       "    </tr>\n",
       "  </tbody>\n",
       "</table>\n",
       "</div>"
      ],
      "text/plain": [
       "                                                  precision    recall  \\\n",
       "imbalanced data - LogisticRegression               0.897638  0.638655   \n",
       "imbalanced data - LogisticRegression(without FS)   0.719764  0.683473   \n",
       "RandomOversampling data                            0.084492  0.901961   \n",
       "\n",
       "                                                  f1-score  accuracy       ROC  \n",
       "imbalanced data - LogisticRegression              0.746318  0.999223  0.974718  \n",
       "imbalanced data - LogisticRegression(without FS)  0.701149  0.998957  0.933974  \n",
       "RandomOversampling data                           0.154511  0.982324  0.979848  "
      ]
     },
     "execution_count": 35,
     "metadata": {},
     "output_type": "execute_result"
    }
   ],
   "source": [
    "model_eval_train"
   ]
  },
  {
   "cell_type": "code",
   "execution_count": 36,
   "metadata": {},
   "outputs": [
    {
     "data": {
      "text/html": [
       "<div>\n",
       "<style scoped>\n",
       "    .dataframe tbody tr th:only-of-type {\n",
       "        vertical-align: middle;\n",
       "    }\n",
       "\n",
       "    .dataframe tbody tr th {\n",
       "        vertical-align: top;\n",
       "    }\n",
       "\n",
       "    .dataframe thead th {\n",
       "        text-align: right;\n",
       "    }\n",
       "</style>\n",
       "<table border=\"1\" class=\"dataframe\">\n",
       "  <thead>\n",
       "    <tr style=\"text-align: right;\">\n",
       "      <th></th>\n",
       "      <th>precision</th>\n",
       "      <th>recall</th>\n",
       "      <th>f1-score</th>\n",
       "      <th>accuracy</th>\n",
       "      <th>ROC</th>\n",
       "    </tr>\n",
       "  </thead>\n",
       "  <tbody>\n",
       "    <tr>\n",
       "      <th>imbalanced data - LogisticRegression</th>\n",
       "      <td>0.846154</td>\n",
       "      <td>0.570370</td>\n",
       "      <td>0.681416</td>\n",
       "      <td>0.999157</td>\n",
       "      <td>0.968780</td>\n",
       "    </tr>\n",
       "    <tr>\n",
       "      <th>imbalanced data - LogisticRegression(without FS)</th>\n",
       "      <td>0.705882</td>\n",
       "      <td>0.622222</td>\n",
       "      <td>0.661417</td>\n",
       "      <td>0.998993</td>\n",
       "      <td>0.881542</td>\n",
       "    </tr>\n",
       "    <tr>\n",
       "      <th>RandomOversampling data</th>\n",
       "      <td>0.074192</td>\n",
       "      <td>0.866667</td>\n",
       "      <td>0.136682</td>\n",
       "      <td>0.982702</td>\n",
       "      <td>0.981411</td>\n",
       "    </tr>\n",
       "  </tbody>\n",
       "</table>\n",
       "</div>"
      ],
      "text/plain": [
       "                                                  precision    recall  \\\n",
       "imbalanced data - LogisticRegression               0.846154  0.570370   \n",
       "imbalanced data - LogisticRegression(without FS)   0.705882  0.622222   \n",
       "RandomOversampling data                            0.074192  0.866667   \n",
       "\n",
       "                                                  f1-score  accuracy       ROC  \n",
       "imbalanced data - LogisticRegression              0.681416  0.999157  0.968780  \n",
       "imbalanced data - LogisticRegression(without FS)  0.661417  0.998993  0.881542  \n",
       "RandomOversampling data                           0.136682  0.982702  0.981411  "
      ]
     },
     "execution_count": 36,
     "metadata": {},
     "output_type": "execute_result"
    }
   ],
   "source": [
    "model_eval_test"
   ]
  },
  {
   "cell_type": "code",
   "execution_count": 38,
   "metadata": {},
   "outputs": [
    {
     "data": {
      "text/plain": [
       "<matplotlib.axes._subplots.AxesSubplot at 0x23f89eb1940>"
      ]
     },
     "execution_count": 38,
     "metadata": {},
     "output_type": "execute_result"
    },
    {
     "data": {
      "image/png": "[encoded data removed]",
      "text/plain": [
       "<Figure size 576x360 with 2 Axes>"
      ]
     },
     "metadata": {
      "needs_background": "light"
     },
     "output_type": "display_data"
    }
   ],
   "source": [
    "from sklearn.metrics import confusion_matrix\n",
    "%matplotlib inline\n",
    "\n",
    "y_pred = clf2.predict(X_test)\n",
    "cm=confusion_matrix(y_test,y_pred)\n",
    "conf_matrix=pd.DataFrame(data=cm,columns=['Predicted:0','Predicted:1'],index=['Actual:0','Actual:1'])\n",
    "plt.figure(figsize = (8,5))\n",
    "sns.heatmap(conf_matrix, annot=True,fmt='d',cmap=\"YlGnBu\")"
   ]
  },
  {
   "cell_type": "code",
   "execution_count": 39,
   "metadata": {},
   "outputs": [
    {
     "name": "stdout",
     "output_type": "stream",
     "text": [
      "              precision    recall  f1-score   support\n",
      "\n",
      "           0       1.00      0.98      0.99     85308\n",
      "           1       0.07      0.87      0.14       135\n",
      "\n",
      "    accuracy                           0.98     85443\n",
      "   macro avg       0.54      0.92      0.56     85443\n",
      "weighted avg       1.00      0.98      0.99     85443\n",
      "\n"
     ]
    }
   ],
   "source": [
    "print(classification_report(y_test, y_pred))"
   ]
  },
  {
   "cell_type": "markdown",
   "metadata": {},
   "source": [
    "# Smote-logisticregression"
   ]
  },
  {
   "cell_type": "code",
   "execution_count": 40,
   "metadata": {},
   "outputs": [],
   "source": [
    "from imblearn.over_sampling import SMOTE\n",
    "#from sklearn.model_selection import GridSearchCV"
   ]
  },
  {
   "cell_type": "code",
   "execution_count": 41,
   "metadata": {},
   "outputs": [],
   "source": [
    "X, y = splitXY(df, 'Class')\n",
    "X_train, X_test, y_train, y_test = make_train_test_split(X=X, y=y, test_size=0.3, random_state=0)\n",
    "X_train = X_train[selected_vars] #select the variables from variable selection proces\n",
    "X_test = X_test[selected_vars]"
   ]
  },
  {
   "cell_type": "code",
   "execution_count": 42,
   "metadata": {},
   "outputs": [],
   "source": [
    "smote = SMOTE(random_state=5)\n",
    "X_sm, y_sm = smote.fit_resample(X_train, y_train)"
   ]
  },
  {
   "cell_type": "code",
   "execution_count": 43,
   "metadata": {},
   "outputs": [],
   "source": [
    "clf3 = build_model(X_sm, y_sm)"
   ]
  },
  {
   "cell_type": "code",
   "execution_count": 45,
   "metadata": {},
   "outputs": [],
   "source": [
    "model_eval_train, model_eval_test, cf_matrix_train, cf_matrix_test = model_eval_data(clf3, X_train, y_train, \n",
    "                                                         X_test, y_test, \n",
    "                                                         model_eval_train, \n",
    "                                                         model_eval_test,\n",
    "                                                         Name='SMOTE - LogisticRegression')"
   ]
  },
  {
   "cell_type": "code",
   "execution_count": 46,
   "metadata": {},
   "outputs": [],
   "source": [
    "y_pred = clf3.predict(X_test)"
   ]
  },
  {
   "cell_type": "code",
   "execution_count": 47,
   "metadata": {},
   "outputs": [
    {
     "data": {
      "text/plain": [
       "<matplotlib.axes._subplots.AxesSubplot at 0x23f84ebad30>"
      ]
     },
     "execution_count": 47,
     "metadata": {},
     "output_type": "execute_result"
    },
    {
     "data": {
      "image/png": "[encoded data removed]",
      "text/plain": [
       "<Figure size 576x360 with 2 Axes>"
      ]
     },
     "metadata": {
      "needs_background": "light"
     },
     "output_type": "display_data"
    }
   ],
   "source": [
    "from sklearn.metrics import confusion_matrix\n",
    "%matplotlib inline\n",
    "\n",
    "y_pred = clf3.predict(X_test)\n",
    "cm=confusion_matrix(y_test,y_pred)\n",
    "conf_matrix=pd.DataFrame(data=cm,columns=['Predicted:0','Predicted:1'],index=['Actual:0','Actual:1'])\n",
    "plt.figure(figsize = (8,5))\n",
    "sns.heatmap(conf_matrix, annot=True,fmt='d',cmap=\"YlGnBu\")"
   ]
  },
  {
   "cell_type": "code",
   "execution_count": 48,
   "metadata": {},
   "outputs": [
    {
     "data": {
      "text/html": [
       "<div>\n",
       "<style scoped>\n",
       "    .dataframe tbody tr th:only-of-type {\n",
       "        vertical-align: middle;\n",
       "    }\n",
       "\n",
       "    .dataframe tbody tr th {\n",
       "        vertical-align: top;\n",
       "    }\n",
       "\n",
       "    .dataframe thead th {\n",
       "        text-align: right;\n",
       "    }\n",
       "</style>\n",
       "<table border=\"1\" class=\"dataframe\">\n",
       "  <thead>\n",
       "    <tr style=\"text-align: right;\">\n",
       "      <th></th>\n",
       "      <th>precision</th>\n",
       "      <th>recall</th>\n",
       "      <th>f1-score</th>\n",
       "      <th>accuracy</th>\n",
       "      <th>ROC</th>\n",
       "    </tr>\n",
       "  </thead>\n",
       "  <tbody>\n",
       "    <tr>\n",
       "      <th>imbalanced data - LogisticRegression</th>\n",
       "      <td>0.897638</td>\n",
       "      <td>0.638655</td>\n",
       "      <td>0.746318</td>\n",
       "      <td>0.999223</td>\n",
       "      <td>0.974718</td>\n",
       "    </tr>\n",
       "    <tr>\n",
       "      <th>imbalanced data - LogisticRegression(without FS)</th>\n",
       "      <td>0.719764</td>\n",
       "      <td>0.683473</td>\n",
       "      <td>0.701149</td>\n",
       "      <td>0.998957</td>\n",
       "      <td>0.933974</td>\n",
       "    </tr>\n",
       "    <tr>\n",
       "      <th>RandomOversampling data</th>\n",
       "      <td>0.084492</td>\n",
       "      <td>0.901961</td>\n",
       "      <td>0.154511</td>\n",
       "      <td>0.982324</td>\n",
       "      <td>0.979848</td>\n",
       "    </tr>\n",
       "    <tr>\n",
       "      <th>SMOTE - LogisticRegression</th>\n",
       "      <td>0.057586</td>\n",
       "      <td>0.904348</td>\n",
       "      <td>0.108277</td>\n",
       "      <td>0.974223</td>\n",
       "      <td>0.980405</td>\n",
       "    </tr>\n",
       "  </tbody>\n",
       "</table>\n",
       "</div>"
      ],
      "text/plain": [
       "                                                  precision    recall  \\\n",
       "imbalanced data - LogisticRegression               0.897638  0.638655   \n",
       "imbalanced data - LogisticRegression(without FS)   0.719764  0.683473   \n",
       "RandomOversampling data                            0.084492  0.901961   \n",
       "SMOTE - LogisticRegression                         0.057586  0.904348   \n",
       "\n",
       "                                                  f1-score  accuracy       ROC  \n",
       "imbalanced data - LogisticRegression              0.746318  0.999223  0.974718  \n",
       "imbalanced data - LogisticRegression(without FS)  0.701149  0.998957  0.933974  \n",
       "RandomOversampling data                           0.154511  0.982324  0.979848  \n",
       "SMOTE - LogisticRegression                        0.108277  0.974223  0.980405  "
      ]
     },
     "execution_count": 48,
     "metadata": {},
     "output_type": "execute_result"
    }
   ],
   "source": [
    "model_eval_train"
   ]
  },
  {
   "cell_type": "code",
   "execution_count": 49,
   "metadata": {},
   "outputs": [
    {
     "data": {
      "text/html": [
       "<div>\n",
       "<style scoped>\n",
       "    .dataframe tbody tr th:only-of-type {\n",
       "        vertical-align: middle;\n",
       "    }\n",
       "\n",
       "    .dataframe tbody tr th {\n",
       "        vertical-align: top;\n",
       "    }\n",
       "\n",
       "    .dataframe thead th {\n",
       "        text-align: right;\n",
       "    }\n",
       "</style>\n",
       "<table border=\"1\" class=\"dataframe\">\n",
       "  <thead>\n",
       "    <tr style=\"text-align: right;\">\n",
       "      <th></th>\n",
       "      <th>precision</th>\n",
       "      <th>recall</th>\n",
       "      <th>f1-score</th>\n",
       "      <th>accuracy</th>\n",
       "      <th>ROC</th>\n",
       "    </tr>\n",
       "  </thead>\n",
       "  <tbody>\n",
       "    <tr>\n",
       "      <th>imbalanced data - LogisticRegression</th>\n",
       "      <td>0.846154</td>\n",
       "      <td>0.570370</td>\n",
       "      <td>0.681416</td>\n",
       "      <td>0.999157</td>\n",
       "      <td>0.968780</td>\n",
       "    </tr>\n",
       "    <tr>\n",
       "      <th>imbalanced data - LogisticRegression(without FS)</th>\n",
       "      <td>0.705882</td>\n",
       "      <td>0.622222</td>\n",
       "      <td>0.661417</td>\n",
       "      <td>0.998993</td>\n",
       "      <td>0.881542</td>\n",
       "    </tr>\n",
       "    <tr>\n",
       "      <th>RandomOversampling data</th>\n",
       "      <td>0.074192</td>\n",
       "      <td>0.866667</td>\n",
       "      <td>0.136682</td>\n",
       "      <td>0.982702</td>\n",
       "      <td>0.981411</td>\n",
       "    </tr>\n",
       "    <tr>\n",
       "      <th>SMOTE - LogisticRegression</th>\n",
       "      <td>0.057971</td>\n",
       "      <td>0.897959</td>\n",
       "      <td>0.108911</td>\n",
       "      <td>0.974720</td>\n",
       "      <td>0.977955</td>\n",
       "    </tr>\n",
       "  </tbody>\n",
       "</table>\n",
       "</div>"
      ],
      "text/plain": [
       "                                                  precision    recall  \\\n",
       "imbalanced data - LogisticRegression               0.846154  0.570370   \n",
       "imbalanced data - LogisticRegression(without FS)   0.705882  0.622222   \n",
       "RandomOversampling data                            0.074192  0.866667   \n",
       "SMOTE - LogisticRegression                         0.057971  0.897959   \n",
       "\n",
       "                                                  f1-score  accuracy       ROC  \n",
       "imbalanced data - LogisticRegression              0.681416  0.999157  0.968780  \n",
       "imbalanced data - LogisticRegression(without FS)  0.661417  0.998993  0.881542  \n",
       "RandomOversampling data                           0.136682  0.982702  0.981411  \n",
       "SMOTE - LogisticRegression                        0.108911  0.974720  0.977955  "
      ]
     },
     "execution_count": 49,
     "metadata": {},
     "output_type": "execute_result"
    }
   ],
   "source": [
    "model_eval_test"
   ]
  },
  {
   "cell_type": "code",
   "execution_count": 50,
   "metadata": {},
   "outputs": [
    {
     "name": "stdout",
     "output_type": "stream",
     "text": [
      "              precision    recall  f1-score   support\n",
      "\n",
      "           0       1.00      0.97      0.99     85296\n",
      "           1       0.06      0.90      0.11       147\n",
      "\n",
      "    accuracy                           0.97     85443\n",
      "   macro avg       0.53      0.94      0.55     85443\n",
      "weighted avg       1.00      0.97      0.99     85443\n",
      "\n"
     ]
    }
   ],
   "source": [
    "print(classification_report(y_test, y_pred))"
   ]
  },
  {
   "cell_type": "markdown",
   "metadata": {},
   "source": [
    "# Borderline-Smote+Logistic Regression"
   ]
  },
  {
   "cell_type": "code",
   "execution_count": 51,
   "metadata": {},
   "outputs": [],
   "source": [
    "from imblearn.over_sampling import BorderlineSMOTE"
   ]
  },
  {
   "cell_type": "code",
   "execution_count": 52,
   "metadata": {},
   "outputs": [],
   "source": [
    "X, y = splitXY(df, 'Class')\n",
    "X_train, X_test, y_train, y_test = make_train_test_split(X=X, y=y, test_size=0.3, random_state=1)\n",
    "X_train = X_train[selected_vars] #select the variables from variable selection proces\n",
    "X_test = X_test[selected_vars]"
   ]
  },
  {
   "cell_type": "code",
   "execution_count": 53,
   "metadata": {},
   "outputs": [],
   "source": [
    "bsm = BorderlineSMOTE(random_state=1,kind=\"borderline-1\")"
   ]
  },
  {
   "cell_type": "code",
   "execution_count": 54,
   "metadata": {},
   "outputs": [],
   "source": [
    "X_bsm, y_bsm = bsm.fit_resample(X_train, y_train)"
   ]
  },
  {
   "cell_type": "code",
   "execution_count": 55,
   "metadata": {},
   "outputs": [],
   "source": [
    "clf5 = build_model(X_bsm, y_bsm)"
   ]
  },
  {
   "cell_type": "code",
   "execution_count": 56,
   "metadata": {},
   "outputs": [],
   "source": [
    "model_eval_train, model_eval_test, cf_matrix_train, cf_matrix_test = model_eval_data(clf5, X_train, y_train, \n",
    "                                                         X_test, y_test, \n",
    "                                                         model_eval_train, \n",
    "                                                         model_eval_test,\n",
    "                                                         Name='Borderline-SMOTE - LogisticRegression')"
   ]
  },
  {
   "cell_type": "code",
   "execution_count": 57,
   "metadata": {},
   "outputs": [
    {
     "data": {
      "text/html": [
       "<div>\n",
       "<style scoped>\n",
       "    .dataframe tbody tr th:only-of-type {\n",
       "        vertical-align: middle;\n",
       "    }\n",
       "\n",
       "    .dataframe tbody tr th {\n",
       "        vertical-align: top;\n",
       "    }\n",
       "\n",
       "    .dataframe thead th {\n",
       "        text-align: right;\n",
       "    }\n",
       "</style>\n",
       "<table border=\"1\" class=\"dataframe\">\n",
       "  <thead>\n",
       "    <tr style=\"text-align: right;\">\n",
       "      <th></th>\n",
       "      <th>precision</th>\n",
       "      <th>recall</th>\n",
       "      <th>f1-score</th>\n",
       "      <th>accuracy</th>\n",
       "      <th>ROC</th>\n",
       "    </tr>\n",
       "  </thead>\n",
       "  <tbody>\n",
       "    <tr>\n",
       "      <th>imbalanced data - LogisticRegression</th>\n",
       "      <td>0.897638</td>\n",
       "      <td>0.638655</td>\n",
       "      <td>0.746318</td>\n",
       "      <td>0.999223</td>\n",
       "      <td>0.974718</td>\n",
       "    </tr>\n",
       "    <tr>\n",
       "      <th>imbalanced data - LogisticRegression(without FS)</th>\n",
       "      <td>0.719764</td>\n",
       "      <td>0.683473</td>\n",
       "      <td>0.701149</td>\n",
       "      <td>0.998957</td>\n",
       "      <td>0.933974</td>\n",
       "    </tr>\n",
       "    <tr>\n",
       "      <th>RandomOversampling data</th>\n",
       "      <td>0.084492</td>\n",
       "      <td>0.901961</td>\n",
       "      <td>0.154511</td>\n",
       "      <td>0.982324</td>\n",
       "      <td>0.979848</td>\n",
       "    </tr>\n",
       "    <tr>\n",
       "      <th>SMOTE - LogisticRegression</th>\n",
       "      <td>0.057586</td>\n",
       "      <td>0.904348</td>\n",
       "      <td>0.108277</td>\n",
       "      <td>0.974223</td>\n",
       "      <td>0.980405</td>\n",
       "    </tr>\n",
       "    <tr>\n",
       "      <th>Borderline-SMOTE - LogisticRegression</th>\n",
       "      <td>0.172622</td>\n",
       "      <td>0.879552</td>\n",
       "      <td>0.288603</td>\n",
       "      <td>0.992235</td>\n",
       "      <td>0.948088</td>\n",
       "    </tr>\n",
       "  </tbody>\n",
       "</table>\n",
       "</div>"
      ],
      "text/plain": [
       "                                                  precision    recall  \\\n",
       "imbalanced data - LogisticRegression               0.897638  0.638655   \n",
       "imbalanced data - LogisticRegression(without FS)   0.719764  0.683473   \n",
       "RandomOversampling data                            0.084492  0.901961   \n",
       "SMOTE - LogisticRegression                         0.057586  0.904348   \n",
       "Borderline-SMOTE - LogisticRegression              0.172622  0.879552   \n",
       "\n",
       "                                                  f1-score  accuracy       ROC  \n",
       "imbalanced data - LogisticRegression              0.746318  0.999223  0.974718  \n",
       "imbalanced data - LogisticRegression(without FS)  0.701149  0.998957  0.933974  \n",
       "RandomOversampling data                           0.154511  0.982324  0.979848  \n",
       "SMOTE - LogisticRegression                        0.108277  0.974223  0.980405  \n",
       "Borderline-SMOTE - LogisticRegression             0.288603  0.992235  0.948088  "
      ]
     },
     "execution_count": 57,
     "metadata": {},
     "output_type": "execute_result"
    }
   ],
   "source": [
    "model_eval_train"
   ]
  },
  {
   "cell_type": "code",
   "execution_count": 58,
   "metadata": {},
   "outputs": [
    {
     "data": {
      "text/html": [
       "<div>\n",
       "<style scoped>\n",
       "    .dataframe tbody tr th:only-of-type {\n",
       "        vertical-align: middle;\n",
       "    }\n",
       "\n",
       "    .dataframe tbody tr th {\n",
       "        vertical-align: top;\n",
       "    }\n",
       "\n",
       "    .dataframe thead th {\n",
       "        text-align: right;\n",
       "    }\n",
       "</style>\n",
       "<table border=\"1\" class=\"dataframe\">\n",
       "  <thead>\n",
       "    <tr style=\"text-align: right;\">\n",
       "      <th></th>\n",
       "      <th>precision</th>\n",
       "      <th>recall</th>\n",
       "      <th>f1-score</th>\n",
       "      <th>accuracy</th>\n",
       "      <th>ROC</th>\n",
       "    </tr>\n",
       "  </thead>\n",
       "  <tbody>\n",
       "    <tr>\n",
       "      <th>imbalanced data - LogisticRegression</th>\n",
       "      <td>0.846154</td>\n",
       "      <td>0.570370</td>\n",
       "      <td>0.681416</td>\n",
       "      <td>0.999157</td>\n",
       "      <td>0.968780</td>\n",
       "    </tr>\n",
       "    <tr>\n",
       "      <th>imbalanced data - LogisticRegression(without FS)</th>\n",
       "      <td>0.705882</td>\n",
       "      <td>0.622222</td>\n",
       "      <td>0.661417</td>\n",
       "      <td>0.998993</td>\n",
       "      <td>0.881542</td>\n",
       "    </tr>\n",
       "    <tr>\n",
       "      <th>RandomOversampling data</th>\n",
       "      <td>0.074192</td>\n",
       "      <td>0.866667</td>\n",
       "      <td>0.136682</td>\n",
       "      <td>0.982702</td>\n",
       "      <td>0.981411</td>\n",
       "    </tr>\n",
       "    <tr>\n",
       "      <th>SMOTE - LogisticRegression</th>\n",
       "      <td>0.057971</td>\n",
       "      <td>0.897959</td>\n",
       "      <td>0.108911</td>\n",
       "      <td>0.974720</td>\n",
       "      <td>0.977955</td>\n",
       "    </tr>\n",
       "    <tr>\n",
       "      <th>Borderline-SMOTE - LogisticRegression</th>\n",
       "      <td>0.147175</td>\n",
       "      <td>0.829630</td>\n",
       "      <td>0.250000</td>\n",
       "      <td>0.992135</td>\n",
       "      <td>0.933410</td>\n",
       "    </tr>\n",
       "  </tbody>\n",
       "</table>\n",
       "</div>"
      ],
      "text/plain": [
       "                                                  precision    recall  \\\n",
       "imbalanced data - LogisticRegression               0.846154  0.570370   \n",
       "imbalanced data - LogisticRegression(without FS)   0.705882  0.622222   \n",
       "RandomOversampling data                            0.074192  0.866667   \n",
       "SMOTE - LogisticRegression                         0.057971  0.897959   \n",
       "Borderline-SMOTE - LogisticRegression              0.147175  0.829630   \n",
       "\n",
       "                                                  f1-score  accuracy       ROC  \n",
       "imbalanced data - LogisticRegression              0.681416  0.999157  0.968780  \n",
       "imbalanced data - LogisticRegression(without FS)  0.661417  0.998993  0.881542  \n",
       "RandomOversampling data                           0.136682  0.982702  0.981411  \n",
       "SMOTE - LogisticRegression                        0.108911  0.974720  0.977955  \n",
       "Borderline-SMOTE - LogisticRegression             0.250000  0.992135  0.933410  "
      ]
     },
     "execution_count": 58,
     "metadata": {},
     "output_type": "execute_result"
    }
   ],
   "source": [
    "model_eval_test"
   ]
  },
  {
   "cell_type": "code",
   "execution_count": 59,
   "metadata": {},
   "outputs": [
    {
     "data": {
      "text/plain": [
       "<matplotlib.axes._subplots.AxesSubplot at 0x23f84ea53c8>"
      ]
     },
     "execution_count": 59,
     "metadata": {},
     "output_type": "execute_result"
    },
    {
     "data": {
      "image/png": "[encoded data removed]",
      "text/plain": [
       "<Figure size 576x360 with 2 Axes>"
      ]
     },
     "metadata": {
      "needs_background": "light"
     },
     "output_type": "display_data"
    }
   ],
   "source": [
    "from sklearn.metrics import confusion_matrix\n",
    "%matplotlib inline\n",
    "\n",
    "y_pred = clf5.predict(X_test)\n",
    "cm=confusion_matrix(y_test,y_pred)\n",
    "conf_matrix=pd.DataFrame(data=cm,columns=['Predicted:0','Predicted:1'],index=['Actual:0','Actual:1'])\n",
    "plt.figure(figsize = (8,5))\n",
    "sns.heatmap(conf_matrix, annot=True,fmt='d',cmap=\"YlGnBu\")"
   ]
  },
  {
   "cell_type": "code",
   "execution_count": 60,
   "metadata": {},
   "outputs": [
    {
     "name": "stdout",
     "output_type": "stream",
     "text": [
      "              precision    recall  f1-score   support\n",
      "\n",
      "           0       1.00      0.99      1.00     85308\n",
      "           1       0.15      0.83      0.25       135\n",
      "\n",
      "    accuracy                           0.99     85443\n",
      "   macro avg       0.57      0.91      0.62     85443\n",
      "weighted avg       1.00      0.99      0.99     85443\n",
      "\n"
     ]
    }
   ],
   "source": [
    "print(classification_report(y_test, y_pred))"
   ]
  },
  {
   "cell_type": "markdown",
   "metadata": {},
   "source": [
    "ADASYN"
   ]
  },
  {
   "cell_type": "code",
   "execution_count": 61,
   "metadata": {},
   "outputs": [],
   "source": [
    "from imblearn.over_sampling import ADASYN "
   ]
  },
  {
   "cell_type": "code",
   "execution_count": 62,
   "metadata": {},
   "outputs": [],
   "source": [
    "X, y = splitXY(df, 'Class')\n",
    "X_train, X_test, y_train, y_test = make_train_test_split(X=X, y=y, test_size=0.3, random_state=1)\n",
    "X_train = X_train[selected_vars] #select the variables from variable selection proces\n",
    "X_test = X_test[selected_vars]"
   ]
  },
  {
   "cell_type": "code",
   "execution_count": 63,
   "metadata": {},
   "outputs": [],
   "source": [
    "ada = ADASYN()\n",
    "adaX, aday = ada.fit_sample(X_train, y_train)"
   ]
  },
  {
   "cell_type": "code",
   "execution_count": 64,
   "metadata": {},
   "outputs": [],
   "source": [
    "clf4 = build_model(adaX, aday)"
   ]
  },
  {
   "cell_type": "code",
   "execution_count": 65,
   "metadata": {},
   "outputs": [],
   "source": [
    "model_eval_train, model_eval_test, cf_matrix_train, cf_matrix_test = model_eval_data(clf4, X_train, y_train, \n",
    "                                                         X_test, y_test, \n",
    "                                                         model_eval_train, \n",
    "                                                         model_eval_test,\n",
    "                                                         Name='ADASYN LogisticRegression')"
   ]
  },
  {
   "cell_type": "code",
   "execution_count": 66,
   "metadata": {},
   "outputs": [
    {
     "data": {
      "text/html": [
       "<div>\n",
       "<style scoped>\n",
       "    .dataframe tbody tr th:only-of-type {\n",
       "        vertical-align: middle;\n",
       "    }\n",
       "\n",
       "    .dataframe tbody tr th {\n",
       "        vertical-align: top;\n",
       "    }\n",
       "\n",
       "    .dataframe thead th {\n",
       "        text-align: right;\n",
       "    }\n",
       "</style>\n",
       "<table border=\"1\" class=\"dataframe\">\n",
       "  <thead>\n",
       "    <tr style=\"text-align: right;\">\n",
       "      <th></th>\n",
       "      <th>precision</th>\n",
       "      <th>recall</th>\n",
       "      <th>f1-score</th>\n",
       "      <th>accuracy</th>\n",
       "      <th>ROC</th>\n",
       "    </tr>\n",
       "  </thead>\n",
       "  <tbody>\n",
       "    <tr>\n",
       "      <th>imbalanced data - LogisticRegression</th>\n",
       "      <td>0.897638</td>\n",
       "      <td>0.638655</td>\n",
       "      <td>0.746318</td>\n",
       "      <td>0.999223</td>\n",
       "      <td>0.974718</td>\n",
       "    </tr>\n",
       "    <tr>\n",
       "      <th>imbalanced data - LogisticRegression(without FS)</th>\n",
       "      <td>0.719764</td>\n",
       "      <td>0.683473</td>\n",
       "      <td>0.701149</td>\n",
       "      <td>0.998957</td>\n",
       "      <td>0.933974</td>\n",
       "    </tr>\n",
       "    <tr>\n",
       "      <th>RandomOversampling data</th>\n",
       "      <td>0.084492</td>\n",
       "      <td>0.901961</td>\n",
       "      <td>0.154511</td>\n",
       "      <td>0.982324</td>\n",
       "      <td>0.979848</td>\n",
       "    </tr>\n",
       "    <tr>\n",
       "      <th>SMOTE - LogisticRegression</th>\n",
       "      <td>0.057586</td>\n",
       "      <td>0.904348</td>\n",
       "      <td>0.108277</td>\n",
       "      <td>0.974223</td>\n",
       "      <td>0.980405</td>\n",
       "    </tr>\n",
       "    <tr>\n",
       "      <th>Borderline-SMOTE - LogisticRegression</th>\n",
       "      <td>0.172622</td>\n",
       "      <td>0.879552</td>\n",
       "      <td>0.288603</td>\n",
       "      <td>0.992235</td>\n",
       "      <td>0.948088</td>\n",
       "    </tr>\n",
       "    <tr>\n",
       "      <th>ADASYN LogisticRegression</th>\n",
       "      <td>0.016206</td>\n",
       "      <td>0.949580</td>\n",
       "      <td>0.031868</td>\n",
       "      <td>0.896686</td>\n",
       "      <td>0.980474</td>\n",
       "    </tr>\n",
       "  </tbody>\n",
       "</table>\n",
       "</div>"
      ],
      "text/plain": [
       "                                                  precision    recall  \\\n",
       "imbalanced data - LogisticRegression               0.897638  0.638655   \n",
       "imbalanced data - LogisticRegression(without FS)   0.719764  0.683473   \n",
       "RandomOversampling data                            0.084492  0.901961   \n",
       "SMOTE - LogisticRegression                         0.057586  0.904348   \n",
       "Borderline-SMOTE - LogisticRegression              0.172622  0.879552   \n",
       "ADASYN LogisticRegression                          0.016206  0.949580   \n",
       "\n",
       "                                                  f1-score  accuracy       ROC  \n",
       "imbalanced data - LogisticRegression              0.746318  0.999223  0.974718  \n",
       "imbalanced data - LogisticRegression(without FS)  0.701149  0.998957  0.933974  \n",
       "RandomOversampling data                           0.154511  0.982324  0.979848  \n",
       "SMOTE - LogisticRegression                        0.108277  0.974223  0.980405  \n",
       "Borderline-SMOTE - LogisticRegression             0.288603  0.992235  0.948088  \n",
       "ADASYN LogisticRegression                         0.031868  0.896686  0.980474  "
      ]
     },
     "execution_count": 66,
     "metadata": {},
     "output_type": "execute_result"
    }
   ],
   "source": [
    "model_eval_train"
   ]
  },
  {
   "cell_type": "code",
   "execution_count": 67,
   "metadata": {},
   "outputs": [
    {
     "data": {
      "text/html": [
       "<div>\n",
       "<style scoped>\n",
       "    .dataframe tbody tr th:only-of-type {\n",
       "        vertical-align: middle;\n",
       "    }\n",
       "\n",
       "    .dataframe tbody tr th {\n",
       "        vertical-align: top;\n",
       "    }\n",
       "\n",
       "    .dataframe thead th {\n",
       "        text-align: right;\n",
       "    }\n",
       "</style>\n",
       "<table border=\"1\" class=\"dataframe\">\n",
       "  <thead>\n",
       "    <tr style=\"text-align: right;\">\n",
       "      <th></th>\n",
       "      <th>precision</th>\n",
       "      <th>recall</th>\n",
       "      <th>f1-score</th>\n",
       "      <th>accuracy</th>\n",
       "      <th>ROC</th>\n",
       "    </tr>\n",
       "  </thead>\n",
       "  <tbody>\n",
       "    <tr>\n",
       "      <th>imbalanced data - LogisticRegression</th>\n",
       "      <td>0.846154</td>\n",
       "      <td>0.570370</td>\n",
       "      <td>0.681416</td>\n",
       "      <td>0.999157</td>\n",
       "      <td>0.968780</td>\n",
       "    </tr>\n",
       "    <tr>\n",
       "      <th>imbalanced data - LogisticRegression(without FS)</th>\n",
       "      <td>0.705882</td>\n",
       "      <td>0.622222</td>\n",
       "      <td>0.661417</td>\n",
       "      <td>0.998993</td>\n",
       "      <td>0.881542</td>\n",
       "    </tr>\n",
       "    <tr>\n",
       "      <th>RandomOversampling data</th>\n",
       "      <td>0.074192</td>\n",
       "      <td>0.866667</td>\n",
       "      <td>0.136682</td>\n",
       "      <td>0.982702</td>\n",
       "      <td>0.981411</td>\n",
       "    </tr>\n",
       "    <tr>\n",
       "      <th>SMOTE - LogisticRegression</th>\n",
       "      <td>0.057971</td>\n",
       "      <td>0.897959</td>\n",
       "      <td>0.108911</td>\n",
       "      <td>0.974720</td>\n",
       "      <td>0.977955</td>\n",
       "    </tr>\n",
       "    <tr>\n",
       "      <th>Borderline-SMOTE - LogisticRegression</th>\n",
       "      <td>0.147175</td>\n",
       "      <td>0.829630</td>\n",
       "      <td>0.250000</td>\n",
       "      <td>0.992135</td>\n",
       "      <td>0.933410</td>\n",
       "    </tr>\n",
       "    <tr>\n",
       "      <th>ADASYN LogisticRegression</th>\n",
       "      <td>0.014520</td>\n",
       "      <td>0.962963</td>\n",
       "      <td>0.028609</td>\n",
       "      <td>0.896680</td>\n",
       "      <td>0.982796</td>\n",
       "    </tr>\n",
       "  </tbody>\n",
       "</table>\n",
       "</div>"
      ],
      "text/plain": [
       "                                                  precision    recall  \\\n",
       "imbalanced data - LogisticRegression               0.846154  0.570370   \n",
       "imbalanced data - LogisticRegression(without FS)   0.705882  0.622222   \n",
       "RandomOversampling data                            0.074192  0.866667   \n",
       "SMOTE - LogisticRegression                         0.057971  0.897959   \n",
       "Borderline-SMOTE - LogisticRegression              0.147175  0.829630   \n",
       "ADASYN LogisticRegression                          0.014520  0.962963   \n",
       "\n",
       "                                                  f1-score  accuracy       ROC  \n",
       "imbalanced data - LogisticRegression              0.681416  0.999157  0.968780  \n",
       "imbalanced data - LogisticRegression(without FS)  0.661417  0.998993  0.881542  \n",
       "RandomOversampling data                           0.136682  0.982702  0.981411  \n",
       "SMOTE - LogisticRegression                        0.108911  0.974720  0.977955  \n",
       "Borderline-SMOTE - LogisticRegression             0.250000  0.992135  0.933410  \n",
       "ADASYN LogisticRegression                         0.028609  0.896680  0.982796  "
      ]
     },
     "execution_count": 67,
     "metadata": {},
     "output_type": "execute_result"
    }
   ],
   "source": [
    "model_eval_test"
   ]
  },
  {
   "cell_type": "code",
   "execution_count": 68,
   "metadata": {},
   "outputs": [
    {
     "data": {
      "text/plain": [
       "<matplotlib.axes._subplots.AxesSubplot at 0x23f84e98e80>"
      ]
     },
     "execution_count": 68,
     "metadata": {},
     "output_type": "execute_result"
    },
    {
     "data": {
      "image/png": "[encoded data removed]",
      "text/plain": [
       "<Figure size 576x360 with 2 Axes>"
      ]
     },
     "metadata": {
      "needs_background": "light"
     },
     "output_type": "display_data"
    }
   ],
   "source": [
    "from sklearn.metrics import confusion_matrix\n",
    "%matplotlib inline\n",
    "\n",
    "y_pred = clf4.predict(X_test)\n",
    "cm=confusion_matrix(y_test,y_pred)\n",
    "conf_matrix=pd.DataFrame(data=cm,columns=['Predicted:0','Predicted:1'],index=['Actual:0','Actual:1'])\n",
    "plt.figure(figsize = (8,5))\n",
    "sns.heatmap(conf_matrix, annot=True,fmt='d',cmap=\"YlGnBu\")"
   ]
  },
  {
   "cell_type": "code",
   "execution_count": 69,
   "metadata": {},
   "outputs": [
    {
     "name": "stdout",
     "output_type": "stream",
     "text": [
      "              precision    recall  f1-score   support\n",
      "\n",
      "           0       1.00      0.90      0.95     85308\n",
      "           1       0.01      0.96      0.03       135\n",
      "\n",
      "    accuracy                           0.90     85443\n",
      "   macro avg       0.51      0.93      0.49     85443\n",
      "weighted avg       1.00      0.90      0.94     85443\n",
      "\n"
     ]
    }
   ],
   "source": [
    "print(classification_report(y_test, y_pred))"
   ]
  },
  {
   "cell_type": "markdown",
   "metadata": {},
   "source": [
    "# Comparison of different models"
   ]
  },
  {
   "cell_type": "code",
   "execution_count": 70,
   "metadata": {},
   "outputs": [],
   "source": [
    "final_eval_test = model_eval_test.copy(deep=True)"
   ]
  },
  {
   "cell_type": "code",
   "execution_count": 71,
   "metadata": {},
   "outputs": [],
   "source": [
    "model_eval_test.reset_index(inplace=True)"
   ]
  },
  {
   "cell_type": "code",
   "execution_count": 72,
   "metadata": {},
   "outputs": [],
   "source": [
    "model_eval_test.rename({'index': 'Method'}, axis=1, inplace=True)"
   ]
  },
  {
   "cell_type": "markdown",
   "metadata": {},
   "source": [
    "General Result"
   ]
  },
  {
   "cell_type": "code",
   "execution_count": 73,
   "metadata": {},
   "outputs": [
    {
     "data": {
      "text/html": [
       "<div>\n",
       "<style scoped>\n",
       "    .dataframe tbody tr th:only-of-type {\n",
       "        vertical-align: middle;\n",
       "    }\n",
       "\n",
       "    .dataframe tbody tr th {\n",
       "        vertical-align: top;\n",
       "    }\n",
       "\n",
       "    .dataframe thead th {\n",
       "        text-align: right;\n",
       "    }\n",
       "</style>\n",
       "<table border=\"1\" class=\"dataframe\">\n",
       "  <thead>\n",
       "    <tr style=\"text-align: right;\">\n",
       "      <th></th>\n",
       "      <th>Method</th>\n",
       "      <th>precision</th>\n",
       "      <th>recall</th>\n",
       "      <th>f1-score</th>\n",
       "      <th>accuracy</th>\n",
       "      <th>ROC</th>\n",
       "    </tr>\n",
       "  </thead>\n",
       "  <tbody>\n",
       "    <tr>\n",
       "      <th>0</th>\n",
       "      <td>imbalanced data - LogisticRegression</td>\n",
       "      <td>0.846154</td>\n",
       "      <td>0.570370</td>\n",
       "      <td>0.681416</td>\n",
       "      <td>0.999157</td>\n",
       "      <td>0.968780</td>\n",
       "    </tr>\n",
       "    <tr>\n",
       "      <th>1</th>\n",
       "      <td>imbalanced data - LogisticRegression(without FS)</td>\n",
       "      <td>0.705882</td>\n",
       "      <td>0.622222</td>\n",
       "      <td>0.661417</td>\n",
       "      <td>0.998993</td>\n",
       "      <td>0.881542</td>\n",
       "    </tr>\n",
       "    <tr>\n",
       "      <th>2</th>\n",
       "      <td>RandomOversampling data</td>\n",
       "      <td>0.074192</td>\n",
       "      <td>0.866667</td>\n",
       "      <td>0.136682</td>\n",
       "      <td>0.982702</td>\n",
       "      <td>0.981411</td>\n",
       "    </tr>\n",
       "    <tr>\n",
       "      <th>3</th>\n",
       "      <td>SMOTE - LogisticRegression</td>\n",
       "      <td>0.057971</td>\n",
       "      <td>0.897959</td>\n",
       "      <td>0.108911</td>\n",
       "      <td>0.974720</td>\n",
       "      <td>0.977955</td>\n",
       "    </tr>\n",
       "    <tr>\n",
       "      <th>4</th>\n",
       "      <td>Borderline-SMOTE - LogisticRegression</td>\n",
       "      <td>0.147175</td>\n",
       "      <td>0.829630</td>\n",
       "      <td>0.250000</td>\n",
       "      <td>0.992135</td>\n",
       "      <td>0.933410</td>\n",
       "    </tr>\n",
       "    <tr>\n",
       "      <th>5</th>\n",
       "      <td>ADASYN LogisticRegression</td>\n",
       "      <td>0.014520</td>\n",
       "      <td>0.962963</td>\n",
       "      <td>0.028609</td>\n",
       "      <td>0.896680</td>\n",
       "      <td>0.982796</td>\n",
       "    </tr>\n",
       "  </tbody>\n",
       "</table>\n",
       "</div>"
      ],
      "text/plain": [
       "                                             Method  precision    recall  \\\n",
       "0              imbalanced data - LogisticRegression   0.846154  0.570370   \n",
       "1  imbalanced data - LogisticRegression(without FS)   0.705882  0.622222   \n",
       "2                           RandomOversampling data   0.074192  0.866667   \n",
       "3                        SMOTE - LogisticRegression   0.057971  0.897959   \n",
       "4             Borderline-SMOTE - LogisticRegression   0.147175  0.829630   \n",
       "5                         ADASYN LogisticRegression   0.014520  0.962963   \n",
       "\n",
       "   f1-score  accuracy       ROC  \n",
       "0  0.681416  0.999157  0.968780  \n",
       "1  0.661417  0.998993  0.881542  \n",
       "2  0.136682  0.982702  0.981411  \n",
       "3  0.108911  0.974720  0.977955  \n",
       "4  0.250000  0.992135  0.933410  \n",
       "5  0.028609  0.896680  0.982796  "
      ]
     },
     "execution_count": 73,
     "metadata": {},
     "output_type": "execute_result"
    }
   ],
   "source": [
    "model_eval_test"
   ]
  },
  {
   "cell_type": "code",
   "execution_count": 74,
   "metadata": {},
   "outputs": [],
   "source": [
    "tidy = model_eval_test.melt(id_vars='Method').rename(columns=str.title)"
   ]
  },
  {
   "cell_type": "code",
   "execution_count": 75,
   "metadata": {},
   "outputs": [
    {
     "data": {
      "image/png": "[encoded data removed]",
      "text/plain": [
       "<Figure size 1080x720 with 1 Axes>"
      ]
     },
     "metadata": {
      "needs_background": "light"
     },
     "output_type": "display_data"
    }
   ],
   "source": [
    "plt.figure(figsize=(15,10))\n",
    "sns.barplot(x='Variable', y='Value', hue='Method', data=tidy)\n",
    "plt.tight_layout()"
   ]
  },
  {
   "cell_type": "markdown",
   "metadata": {},
   "source": [
    "Focus on Minority"
   ]
  },
  {
   "cell_type": "code",
   "execution_count": null,
   "metadata": {},
   "outputs": [],
   "source": []
  }
 ],
 "metadata": {
  "kernelspec": {
   "display_name": "Python 3",
   "language": "python",
   "name": "python3"
  },
  "language_info": {
   "codemirror_mode": {
    "name": "ipython",
    "version": 3
   },
   "file_extension": ".py",
   "mimetype": "text/x-python",
   "name": "python",
   "nbconvert_exporter": "python",
   "pygments_lexer": "ipython3",
   "version": "3.6.5"
  }
 },
 "nbformat": 4,
 "nbformat_minor": 4
}
