{
 "cells": [
  {
   "cell_type": "markdown",
   "metadata": {},
   "source": [
    "# Baseline model"
   ]
  },
  {
   "cell_type": "markdown",
   "metadata": {},
   "source": [
    "Split the dataset"
   ]
  },
  {
   "cell_type": "code",
   "execution_count": 1,
   "metadata": {},
   "outputs": [],
   "source": [
    "import pandas as pd\n",
    "import numpy as np\n",
    "import matplotlib.pyplot as plt\n",
    "import seaborn as sns"
   ]
  },
  {
   "cell_type": "code",
   "execution_count": 2,
   "metadata": {},
   "outputs": [
    {
     "data": {
      "text/html": [
       "<div>\n",
       "<style scoped>\n",
       "    .dataframe tbody tr th:only-of-type {\n",
       "        vertical-align: middle;\n",
       "    }\n",
       "\n",
       "    .dataframe tbody tr th {\n",
       "        vertical-align: top;\n",
       "    }\n",
       "\n",
       "    .dataframe thead th {\n",
       "        text-align: right;\n",
       "    }\n",
       "</style>\n",
       "<table border=\"1\" class=\"dataframe\">\n",
       "  <thead>\n",
       "    <tr style=\"text-align: right;\">\n",
       "      <th></th>\n",
       "      <th>Time</th>\n",
       "      <th>V1</th>\n",
       "      <th>V2</th>\n",
       "      <th>V3</th>\n",
       "      <th>V4</th>\n",
       "      <th>V5</th>\n",
       "      <th>V6</th>\n",
       "      <th>V7</th>\n",
       "      <th>V8</th>\n",
       "      <th>V9</th>\n",
       "      <th>...</th>\n",
       "      <th>V21</th>\n",
       "      <th>V22</th>\n",
       "      <th>V23</th>\n",
       "      <th>V24</th>\n",
       "      <th>V25</th>\n",
       "      <th>V26</th>\n",
       "      <th>V27</th>\n",
       "      <th>V28</th>\n",
       "      <th>Amount</th>\n",
       "      <th>Class</th>\n",
       "    </tr>\n",
       "  </thead>\n",
       "  <tbody>\n",
       "    <tr>\n",
       "      <th>0</th>\n",
       "      <td>0.0</td>\n",
       "      <td>-1.359807</td>\n",
       "      <td>-0.072781</td>\n",
       "      <td>2.536347</td>\n",
       "      <td>1.378155</td>\n",
       "      <td>-0.338321</td>\n",
       "      <td>0.462388</td>\n",
       "      <td>0.239599</td>\n",
       "      <td>0.098698</td>\n",
       "      <td>0.363787</td>\n",
       "      <td>...</td>\n",
       "      <td>-0.018307</td>\n",
       "      <td>0.277838</td>\n",
       "      <td>-0.110474</td>\n",
       "      <td>0.066928</td>\n",
       "      <td>0.128539</td>\n",
       "      <td>-0.189115</td>\n",
       "      <td>0.133558</td>\n",
       "      <td>-0.021053</td>\n",
       "      <td>149.62</td>\n",
       "      <td>0</td>\n",
       "    </tr>\n",
       "    <tr>\n",
       "      <th>1</th>\n",
       "      <td>0.0</td>\n",
       "      <td>1.191857</td>\n",
       "      <td>0.266151</td>\n",
       "      <td>0.166480</td>\n",
       "      <td>0.448154</td>\n",
       "      <td>0.060018</td>\n",
       "      <td>-0.082361</td>\n",
       "      <td>-0.078803</td>\n",
       "      <td>0.085102</td>\n",
       "      <td>-0.255425</td>\n",
       "      <td>...</td>\n",
       "      <td>-0.225775</td>\n",
       "      <td>-0.638672</td>\n",
       "      <td>0.101288</td>\n",
       "      <td>-0.339846</td>\n",
       "      <td>0.167170</td>\n",
       "      <td>0.125895</td>\n",
       "      <td>-0.008983</td>\n",
       "      <td>0.014724</td>\n",
       "      <td>2.69</td>\n",
       "      <td>0</td>\n",
       "    </tr>\n",
       "    <tr>\n",
       "      <th>2</th>\n",
       "      <td>1.0</td>\n",
       "      <td>-1.358354</td>\n",
       "      <td>-1.340163</td>\n",
       "      <td>1.773209</td>\n",
       "      <td>0.379780</td>\n",
       "      <td>-0.503198</td>\n",
       "      <td>1.800499</td>\n",
       "      <td>0.791461</td>\n",
       "      <td>0.247676</td>\n",
       "      <td>-1.514654</td>\n",
       "      <td>...</td>\n",
       "      <td>0.247998</td>\n",
       "      <td>0.771679</td>\n",
       "      <td>0.909412</td>\n",
       "      <td>-0.689281</td>\n",
       "      <td>-0.327642</td>\n",
       "      <td>-0.139097</td>\n",
       "      <td>-0.055353</td>\n",
       "      <td>-0.059752</td>\n",
       "      <td>378.66</td>\n",
       "      <td>0</td>\n",
       "    </tr>\n",
       "    <tr>\n",
       "      <th>3</th>\n",
       "      <td>1.0</td>\n",
       "      <td>-0.966272</td>\n",
       "      <td>-0.185226</td>\n",
       "      <td>1.792993</td>\n",
       "      <td>-0.863291</td>\n",
       "      <td>-0.010309</td>\n",
       "      <td>1.247203</td>\n",
       "      <td>0.237609</td>\n",
       "      <td>0.377436</td>\n",
       "      <td>-1.387024</td>\n",
       "      <td>...</td>\n",
       "      <td>-0.108300</td>\n",
       "      <td>0.005274</td>\n",
       "      <td>-0.190321</td>\n",
       "      <td>-1.175575</td>\n",
       "      <td>0.647376</td>\n",
       "      <td>-0.221929</td>\n",
       "      <td>0.062723</td>\n",
       "      <td>0.061458</td>\n",
       "      <td>123.50</td>\n",
       "      <td>0</td>\n",
       "    </tr>\n",
       "    <tr>\n",
       "      <th>4</th>\n",
       "      <td>2.0</td>\n",
       "      <td>-1.158233</td>\n",
       "      <td>0.877737</td>\n",
       "      <td>1.548718</td>\n",
       "      <td>0.403034</td>\n",
       "      <td>-0.407193</td>\n",
       "      <td>0.095921</td>\n",
       "      <td>0.592941</td>\n",
       "      <td>-0.270533</td>\n",
       "      <td>0.817739</td>\n",
       "      <td>...</td>\n",
       "      <td>-0.009431</td>\n",
       "      <td>0.798278</td>\n",
       "      <td>-0.137458</td>\n",
       "      <td>0.141267</td>\n",
       "      <td>-0.206010</td>\n",
       "      <td>0.502292</td>\n",
       "      <td>0.219422</td>\n",
       "      <td>0.215153</td>\n",
       "      <td>69.99</td>\n",
       "      <td>0</td>\n",
       "    </tr>\n",
       "  </tbody>\n",
       "</table>\n",
       "<p>5 rows × 31 columns</p>\n",
       "</div>"
      ],
      "text/plain": [
       "   Time        V1        V2        V3        V4        V5        V6        V7  \\\n",
       "0   0.0 -1.359807 -0.072781  2.536347  1.378155 -0.338321  0.462388  0.239599   \n",
       "1   0.0  1.191857  0.266151  0.166480  0.448154  0.060018 -0.082361 -0.078803   \n",
       "2   1.0 -1.358354 -1.340163  1.773209  0.379780 -0.503198  1.800499  0.791461   \n",
       "3   1.0 -0.966272 -0.185226  1.792993 -0.863291 -0.010309  1.247203  0.237609   \n",
       "4   2.0 -1.158233  0.877737  1.548718  0.403034 -0.407193  0.095921  0.592941   \n",
       "\n",
       "         V8        V9  ...       V21       V22       V23       V24       V25  \\\n",
       "0  0.098698  0.363787  ... -0.018307  0.277838 -0.110474  0.066928  0.128539   \n",
       "1  0.085102 -0.255425  ... -0.225775 -0.638672  0.101288 -0.339846  0.167170   \n",
       "2  0.247676 -1.514654  ...  0.247998  0.771679  0.909412 -0.689281 -0.327642   \n",
       "3  0.377436 -1.387024  ... -0.108300  0.005274 -0.190321 -1.175575  0.647376   \n",
       "4 -0.270533  0.817739  ... -0.009431  0.798278 -0.137458  0.141267 -0.206010   \n",
       "\n",
       "        V26       V27       V28  Amount  Class  \n",
       "0 -0.189115  0.133558 -0.021053  149.62      0  \n",
       "1  0.125895 -0.008983  0.014724    2.69      0  \n",
       "2 -0.139097 -0.055353 -0.059752  378.66      0  \n",
       "3 -0.221929  0.062723  0.061458  123.50      0  \n",
       "4  0.502292  0.219422  0.215153   69.99      0  \n",
       "\n",
       "[5 rows x 31 columns]"
      ]
     },
     "execution_count": 2,
     "metadata": {},
     "output_type": "execute_result"
    }
   ],
   "source": [
    "df = pd.read_csv('creditcard.csv')\n",
    "df.head()"
   ]
  },
  {
   "cell_type": "code",
   "execution_count": 3,
   "metadata": {},
   "outputs": [],
   "source": [
    "from xverse.feature_subset import SplitXY\n",
    "\n",
    "def splitXY(df, target_column):\n",
    "\n",
    "    clf = SplitXY([target_column]) #Split the dataset into X and y\n",
    "    X, y = clf.fit_transform(df) #returns features (X) dataset and target(Y) as a numpy array\n",
    "    return X, y\n",
    "\n",
    "def make_train_test_split(X=None, y=None, test_size=0.3, random_state=1234):\n",
    "\n",
    "    from sklearn.model_selection import train_test_split\n",
    "    X_train, X_test, y_train, y_test = train_test_split(X, y, test_size=test_size, random_state=random_state)\n",
    "    return X_train, X_test, y_train, y_test"
   ]
  },
  {
   "cell_type": "code",
   "execution_count": 4,
   "metadata": {},
   "outputs": [],
   "source": [
    "selected_vars = ['V11', 'V12', 'V3', 'V19', 'V7', 'V14', 'V1', 'V4', 'V21', 'V2', 'V18', 'V16', 'V17', 'V9', 'V10']"
   ]
  },
  {
   "cell_type": "markdown",
   "metadata": {},
   "source": [
    "# Build logistic regression model"
   ]
  },
  {
   "cell_type": "code",
   "execution_count": 5,
   "metadata": {},
   "outputs": [],
   "source": [
    "from sklearn.metrics import accuracy_score, roc_curve, auc, classification_report, confusion_matrix\n",
    "from sklearn.linear_model import LogisticRegression"
   ]
  },
  {
   "cell_type": "code",
   "execution_count": 6,
   "metadata": {},
   "outputs": [],
   "source": [
    "def build_model(X, y):\n",
    "\n",
    "    clf = LogisticRegression()\n",
    "    clf.fit(X, y)\n",
    "    return clf"
   ]
  },
  {
   "cell_type": "code",
   "execution_count": 7,
   "metadata": {},
   "outputs": [],
   "source": [
    "def evaluate_model(clf, X, y):\n",
    "    \n",
    "    pred = clf.predict(X) #predicted classes\n",
    "    accuracy = accuracy_score(pred,y) # calculate accuracy\n",
    "    fpr, tpr, _ = roc_curve(y, clf.predict_proba(X)[:,1]) # roc_curve\n",
    "    auc_value = auc(fpr,tpr) # auc_value\n",
    "    report = classification_report(y, pred, labels=[0,1], output_dict=True)\n",
    "    report_df = pd.DataFrame(report).transpose()\n",
    "    report_df = report_df.reset_index()\n",
    "    model_eval  = report_df[report_df['index'].str.contains('1')][['precision','recall','f1-score']]\n",
    "    model_eval['accuracy']  = list(report_df[report_df['index'].str.contains('accuracy')]['support'])\n",
    "    model_eval['ROC']  = auc_value\n",
    "    cf_matrix = confusion_matrix(y, pred)\n",
    "    \n",
    "    return model_eval, cf_matrix"
   ]
  },
  {
   "cell_type": "code",
   "execution_count": 8,
   "metadata": {},
   "outputs": [],
   "source": [
    "def model_eval_data(clf, X_train, y_train, \n",
    "                         X_test, y_test, \n",
    "                         model_eval_train, \n",
    "                         model_eval_test,\n",
    "                         Name=None):\n",
    "    \n",
    "    temp_eval_train, cf_matrix_train = evaluate_model(clf, X_train, y_train)\n",
    "    temp_eval_test, cf_matrix_test = evaluate_model(clf, X_test, y_test)\n",
    "    temp_eval_train.index = [Name]\n",
    "    temp_eval_test.index = [Name]\n",
    "    \n",
    "    try:\n",
    "        model_eval_train = model_eval_train.append(temp_eval_train)\n",
    "        model_eval_test = model_eval_test.append(temp_eval_test)\n",
    "    except:\n",
    "        model_eval_train = temp_eval_train\n",
    "        model_eval_test = temp_eval_test\n",
    "    \n",
    "    return model_eval_train, model_eval_test, cf_matrix_train, cf_matrix_test"
   ]
  },
  {
   "cell_type": "code",
   "execution_count": 9,
   "metadata": {},
   "outputs": [],
   "source": [
    "def make_confusion_matrix_chart(cf_matrix_train, cf_matrix_test):\n",
    "    \n",
    "    plt.figure(1, figsize=(10,5))\n",
    "\n",
    "    plt.subplot(121)\n",
    "    sns.heatmap(cf_matrix_train, annot=True, yticklabels=['Not Fraud', 'Fraud'], \n",
    "                                xticklabels=['Not Fraud', 'Fraud'], fmt='g')\n",
    "    plt.ylabel(\"Actual\")\n",
    "    plt.xlabel(\"Pred\")\n",
    "    plt.ylim([0,2])\n",
    "    plt.title('Train data')\n",
    "\n",
    "    plt.subplot(122)\n",
    "    sns.heatmap(cf_matrix_test, annot=True, yticklabels=['Not Fraud', 'Fraud'], \n",
    "                                xticklabels=['Not Fraud', 'Fraud'], fmt='g')\n",
    "    plt.ylabel(\"Actual\")\n",
    "    plt.xlabel(\"Pred\")\n",
    "    plt.ylim([0,2])\n",
    "    plt.tight_layout()\n",
    "    plt.title('Test data')\n",
    "\n",
    "    plt.tight_layout()\n",
    "    return None"
   ]
  },
  {
   "cell_type": "code",
   "execution_count": 10,
   "metadata": {},
   "outputs": [],
   "source": [
    "model_eval_train = pd.DataFrame({},[])\n",
    "model_eval_test = pd.DataFrame({},[])"
   ]
  },
  {
   "cell_type": "markdown",
   "metadata": {},
   "source": [
    "Using imbalanced data"
   ]
  },
  {
   "cell_type": "code",
   "execution_count": 11,
   "metadata": {},
   "outputs": [],
   "source": [
    "X, y = splitXY(df, 'Class')\n",
    "X_train, X_test, y_train, y_test = make_train_test_split(X=X, y=y, test_size=0.3, random_state=1)"
   ]
  },
  {
   "cell_type": "code",
   "execution_count": 12,
   "metadata": {},
   "outputs": [],
   "source": [
    "X_train = X_train[selected_vars] #select the variables from variable selection proces\n",
    "X_test = X_test[selected_vars]"
   ]
  },
  {
   "cell_type": "code",
   "execution_count": 13,
   "metadata": {},
   "outputs": [],
   "source": [
    "clf = build_model(X_train, y_train)"
   ]
  },
  {
   "cell_type": "code",
   "execution_count": 14,
   "metadata": {},
   "outputs": [],
   "source": [
    "model_eval_train, model_eval_test, cf_matrix_train, cf_matrix_test = model_eval_data(clf, X_train, y_train, \n",
    "                                                         X_test, y_test, \n",
    "                                                         model_eval_train, \n",
    "                                                         model_eval_test,\n",
    "                                                         Name='imbalanced data - LogisticRegression')"
   ]
  },
  {
   "cell_type": "code",
   "execution_count": 15,
   "metadata": {},
   "outputs": [
    {
     "data": {
      "text/html": [
       "<div>\n",
       "<style scoped>\n",
       "    .dataframe tbody tr th:only-of-type {\n",
       "        vertical-align: middle;\n",
       "    }\n",
       "\n",
       "    .dataframe tbody tr th {\n",
       "        vertical-align: top;\n",
       "    }\n",
       "\n",
       "    .dataframe thead th {\n",
       "        text-align: right;\n",
       "    }\n",
       "</style>\n",
       "<table border=\"1\" class=\"dataframe\">\n",
       "  <thead>\n",
       "    <tr style=\"text-align: right;\">\n",
       "      <th></th>\n",
       "      <th>precision</th>\n",
       "      <th>recall</th>\n",
       "      <th>f1-score</th>\n",
       "      <th>accuracy</th>\n",
       "      <th>ROC</th>\n",
       "    </tr>\n",
       "  </thead>\n",
       "  <tbody>\n",
       "    <tr>\n",
       "      <th>imbalanced data - LogisticRegression</th>\n",
       "      <td>0.897638</td>\n",
       "      <td>0.638655</td>\n",
       "      <td>0.746318</td>\n",
       "      <td>0.999223</td>\n",
       "      <td>0.974718</td>\n",
       "    </tr>\n",
       "  </tbody>\n",
       "</table>\n",
       "</div>"
      ],
      "text/plain": [
       "                                      precision    recall  f1-score  accuracy  \\\n",
       "imbalanced data - LogisticRegression   0.897638  0.638655  0.746318  0.999223   \n",
       "\n",
       "                                           ROC  \n",
       "imbalanced data - LogisticRegression  0.974718  "
      ]
     },
     "execution_count": 15,
     "metadata": {},
     "output_type": "execute_result"
    }
   ],
   "source": [
    "model_eval_train"
   ]
  },
  {
   "cell_type": "code",
   "execution_count": 16,
   "metadata": {},
   "outputs": [
    {
     "data": {
      "text/html": [
       "<div>\n",
       "<style scoped>\n",
       "    .dataframe tbody tr th:only-of-type {\n",
       "        vertical-align: middle;\n",
       "    }\n",
       "\n",
       "    .dataframe tbody tr th {\n",
       "        vertical-align: top;\n",
       "    }\n",
       "\n",
       "    .dataframe thead th {\n",
       "        text-align: right;\n",
       "    }\n",
       "</style>\n",
       "<table border=\"1\" class=\"dataframe\">\n",
       "  <thead>\n",
       "    <tr style=\"text-align: right;\">\n",
       "      <th></th>\n",
       "      <th>precision</th>\n",
       "      <th>recall</th>\n",
       "      <th>f1-score</th>\n",
       "      <th>accuracy</th>\n",
       "      <th>ROC</th>\n",
       "    </tr>\n",
       "  </thead>\n",
       "  <tbody>\n",
       "    <tr>\n",
       "      <th>imbalanced data - LogisticRegression</th>\n",
       "      <td>0.846154</td>\n",
       "      <td>0.57037</td>\n",
       "      <td>0.681416</td>\n",
       "      <td>0.999157</td>\n",
       "      <td>0.96878</td>\n",
       "    </tr>\n",
       "  </tbody>\n",
       "</table>\n",
       "</div>"
      ],
      "text/plain": [
       "                                      precision   recall  f1-score  accuracy  \\\n",
       "imbalanced data - LogisticRegression   0.846154  0.57037  0.681416  0.999157   \n",
       "\n",
       "                                          ROC  \n",
       "imbalanced data - LogisticRegression  0.96878  "
      ]
     },
     "execution_count": 16,
     "metadata": {},
     "output_type": "execute_result"
    }
   ],
   "source": [
    "model_eval_test"
   ]
  },
  {
   "cell_type": "code",
   "execution_count": 17,
   "metadata": {},
   "outputs": [
    {
     "data": {
      "text/plain": [
       "<matplotlib.axes._subplots.AxesSubplot at 0x17600959898>"
      ]
     },
     "execution_count": 17,
     "metadata": {},
     "output_type": "execute_result"
    },
    {
     "data": {
      "image/png": "[encoded data removed]",
      "text/plain": [
       "<Figure size 576x360 with 2 Axes>"
      ]
     },
     "metadata": {
      "needs_background": "light"
     },
     "output_type": "display_data"
    }
   ],
   "source": [
    "from sklearn.metrics import confusion_matrix\n",
    "%matplotlib inline\n",
    "\n",
    "y_pred = clf.predict(X_test)\n",
    "cm=confusion_matrix(y_test,y_pred)\n",
    "conf_matrix=pd.DataFrame(data=cm,columns=['Predicted:0','Predicted:1'],index=['Actual:0','Actual:1'])\n",
    "plt.figure(figsize = (8,5))\n",
    "sns.heatmap(conf_matrix, annot=True,fmt='d',cmap=\"YlGnBu\")"
   ]
  },
  {
   "cell_type": "code",
   "execution_count": 18,
   "metadata": {},
   "outputs": [
    {
     "name": "stdout",
     "output_type": "stream",
     "text": [
      "              precision    recall  f1-score   support\n",
      "\n",
      "           0       1.00      1.00      1.00     85308\n",
      "           1       0.85      0.57      0.68       135\n",
      "\n",
      "    accuracy                           1.00     85443\n",
      "   macro avg       0.92      0.79      0.84     85443\n",
      "weighted avg       1.00      1.00      1.00     85443\n",
      "\n"
     ]
    }
   ],
   "source": [
    "print(classification_report(y_test, y_pred))"
   ]
  },
  {
   "cell_type": "markdown",
   "metadata": {},
   "source": [
    "Change threshold"
   ]
  },
  {
   "cell_type": "code",
   "execution_count": 19,
   "metadata": {},
   "outputs": [
    {
     "name": "stderr",
     "output_type": "stream",
     "text": [
      "C:\\anaconda\\lib\\site-packages\\sklearn\\utils\\validation.py:70: FutureWarning: Pass threshold=0.0 as keyword args. From version 0.25 passing these as positional arguments will result in an error\n",
      "  FutureWarning)\n"
     ]
    },
    {
     "name": "stdout",
     "output_type": "stream",
     "text": [
      "With 0.0 threshold the Confusion Matrix is  \n",
      " [[    0 85308]\n",
      " [    0   135]] \n",
      " with 135 correct predictions and 0 Type II errors( False Negatives) \n",
      "\n",
      " Sensitivity:  1.0 Specificity:  0.0 \n",
      "\n",
      "\n",
      "\n"
     ]
    },
    {
     "name": "stderr",
     "output_type": "stream",
     "text": [
      "C:\\anaconda\\lib\\site-packages\\sklearn\\utils\\validation.py:70: FutureWarning: Pass threshold=0.1 as keyword args. From version 0.25 passing these as positional arguments will result in an error\n",
      "  FutureWarning)\n"
     ]
    },
    {
     "name": "stdout",
     "output_type": "stream",
     "text": [
      "With 0.1 threshold the Confusion Matrix is  \n",
      " [[85277    31]\n",
      " [   33   102]] \n",
      " with 85379 correct predictions and 33 Type II errors( False Negatives) \n",
      "\n",
      " Sensitivity:  0.7555555555555555 Specificity:  0.9996366108688517 \n",
      "\n",
      "\n",
      "\n"
     ]
    },
    {
     "name": "stderr",
     "output_type": "stream",
     "text": [
      "C:\\anaconda\\lib\\site-packages\\sklearn\\utils\\validation.py:70: FutureWarning: Pass threshold=0.2 as keyword args. From version 0.25 passing these as positional arguments will result in an error\n",
      "  FutureWarning)\n"
     ]
    },
    {
     "name": "stdout",
     "output_type": "stream",
     "text": [
      "With 0.2 threshold the Confusion Matrix is  \n",
      " [[85283    25]\n",
      " [   46    89]] \n",
      " with 85372 correct predictions and 46 Type II errors( False Negatives) \n",
      "\n",
      " Sensitivity:  0.6592592592592592 Specificity:  0.9997069442490739 \n",
      "\n",
      "\n",
      "\n"
     ]
    },
    {
     "name": "stderr",
     "output_type": "stream",
     "text": [
      "C:\\anaconda\\lib\\site-packages\\sklearn\\utils\\validation.py:70: FutureWarning: Pass threshold=0.3 as keyword args. From version 0.25 passing these as positional arguments will result in an error\n",
      "  FutureWarning)\n"
     ]
    },
    {
     "name": "stdout",
     "output_type": "stream",
     "text": [
      "With 0.3 threshold the Confusion Matrix is  \n",
      " [[85284    24]\n",
      " [   51    84]] \n",
      " with 85368 correct predictions and 51 Type II errors( False Negatives) \n",
      "\n",
      " Sensitivity:  0.6222222222222222 Specificity:  0.999718666479111 \n",
      "\n",
      "\n",
      "\n"
     ]
    },
    {
     "name": "stderr",
     "output_type": "stream",
     "text": [
      "C:\\anaconda\\lib\\site-packages\\sklearn\\utils\\validation.py:70: FutureWarning: Pass threshold=0.4 as keyword args. From version 0.25 passing these as positional arguments will result in an error\n",
      "  FutureWarning)\n"
     ]
    },
    {
     "name": "stdout",
     "output_type": "stream",
     "text": [
      "With 0.4 threshold the Confusion Matrix is  \n",
      " [[85290    18]\n",
      " [   56    79]] \n",
      " with 85369 correct predictions and 56 Type II errors( False Negatives) \n",
      "\n",
      " Sensitivity:  0.5851851851851851 Specificity:  0.9997889998593332 \n",
      "\n",
      "\n",
      "\n"
     ]
    },
    {
     "name": "stderr",
     "output_type": "stream",
     "text": [
      "C:\\anaconda\\lib\\site-packages\\sklearn\\utils\\validation.py:70: FutureWarning: Pass threshold=0.5 as keyword args. From version 0.25 passing these as positional arguments will result in an error\n",
      "  FutureWarning)\n"
     ]
    },
    {
     "name": "stdout",
     "output_type": "stream",
     "text": [
      "With 0.5 threshold the Confusion Matrix is  \n",
      " [[85294    14]\n",
      " [   58    77]] \n",
      " with 85371 correct predictions and 58 Type II errors( False Negatives) \n",
      "\n",
      " Sensitivity:  0.5703703703703704 Specificity:  0.9998358887794814 \n",
      "\n",
      "\n",
      "\n"
     ]
    },
    {
     "name": "stderr",
     "output_type": "stream",
     "text": [
      "C:\\anaconda\\lib\\site-packages\\sklearn\\utils\\validation.py:70: FutureWarning: Pass threshold=0.6 as keyword args. From version 0.25 passing these as positional arguments will result in an error\n",
      "  FutureWarning)\n"
     ]
    },
    {
     "name": "stdout",
     "output_type": "stream",
     "text": [
      "With 0.6 threshold the Confusion Matrix is  \n",
      " [[85295    13]\n",
      " [   60    75]] \n",
      " with 85370 correct predictions and 60 Type II errors( False Negatives) \n",
      "\n",
      " Sensitivity:  0.5555555555555556 Specificity:  0.9998476110095185 \n",
      "\n",
      "\n",
      "\n"
     ]
    },
    {
     "name": "stderr",
     "output_type": "stream",
     "text": [
      "C:\\anaconda\\lib\\site-packages\\sklearn\\utils\\validation.py:70: FutureWarning: Pass threshold=0.7 as keyword args. From version 0.25 passing these as positional arguments will result in an error\n",
      "  FutureWarning)\n"
     ]
    },
    {
     "name": "stdout",
     "output_type": "stream",
     "text": [
      "With 0.7 threshold the Confusion Matrix is  \n",
      " [[85296    12]\n",
      " [   62    73]] \n",
      " with 85369 correct predictions and 62 Type II errors( False Negatives) \n",
      "\n",
      " Sensitivity:  0.5407407407407407 Specificity:  0.9998593332395554 \n",
      "\n",
      "\n",
      "\n"
     ]
    },
    {
     "name": "stderr",
     "output_type": "stream",
     "text": [
      "C:\\anaconda\\lib\\site-packages\\sklearn\\utils\\validation.py:70: FutureWarning: Pass threshold=0.8 as keyword args. From version 0.25 passing these as positional arguments will result in an error\n",
      "  FutureWarning)\n"
     ]
    },
    {
     "name": "stdout",
     "output_type": "stream",
     "text": [
      "With 0.8 threshold the Confusion Matrix is  \n",
      " [[85296    12]\n",
      " [   64    71]] \n",
      " with 85367 correct predictions and 64 Type II errors( False Negatives) \n",
      "\n",
      " Sensitivity:  0.5259259259259259 Specificity:  0.9998593332395554 \n",
      "\n",
      "\n",
      "\n"
     ]
    },
    {
     "name": "stderr",
     "output_type": "stream",
     "text": [
      "C:\\anaconda\\lib\\site-packages\\sklearn\\utils\\validation.py:70: FutureWarning: Pass threshold=0.9 as keyword args. From version 0.25 passing these as positional arguments will result in an error\n",
      "  FutureWarning)\n"
     ]
    },
    {
     "name": "stdout",
     "output_type": "stream",
     "text": [
      "With 0.9 threshold the Confusion Matrix is  \n",
      " [[85297    11]\n",
      " [   74    61]] \n",
      " with 85358 correct predictions and 74 Type II errors( False Negatives) \n",
      "\n",
      " Sensitivity:  0.45185185185185184 Specificity:  0.9998710554695925 \n",
      "\n",
      "\n",
      "\n"
     ]
    },
    {
     "name": "stderr",
     "output_type": "stream",
     "text": [
      "C:\\anaconda\\lib\\site-packages\\sklearn\\utils\\validation.py:70: FutureWarning: Pass threshold=1.0 as keyword args. From version 0.25 passing these as positional arguments will result in an error\n",
      "  FutureWarning)\n"
     ]
    },
    {
     "name": "stdout",
     "output_type": "stream",
     "text": [
      "With 1.0 threshold the Confusion Matrix is  \n",
      " [[85308     0]\n",
      " [  135     0]] \n",
      " with 85308 correct predictions and 135 Type II errors( False Negatives) \n",
      "\n",
      " Sensitivity:  0.0 Specificity:  1.0 \n",
      "\n",
      "\n",
      "\n"
     ]
    }
   ],
   "source": [
    "from sklearn.preprocessing import binarize\n",
    "\n",
    "sensitivity_result = []\n",
    "specifity_result = []\n",
    "for i in range(0,11):\n",
    "    cm2=0\n",
    "    y_pred_prob_yes=clf.predict_proba(X_test)\n",
    "    y_pred2=binarize(y_pred_prob_yes,i/10)[:,1]\n",
    "    cm2=confusion_matrix(y_test,y_pred2)\n",
    "    sensitivity_result.append(cm2[1,1]/(float(cm2[1,1]+cm2[1,0])))\n",
    "    specifity_result.append(cm2[0,0]/(float(cm2[0,0]+cm2[0,1])))\n",
    "    print ('With',i/10,'threshold the Confusion Matrix is ','\\n',cm2,'\\n',\n",
    "            'with',cm2[0,0]+cm2[1,1],'correct predictions and',cm2[1,0],'Type II errors( False Negatives)','\\n\\n',\n",
    "          'Sensitivity: ',cm2[1,1]/(float(cm2[1,1]+cm2[1,0])),'Specificity: ',cm2[0,0]/(float(cm2[0,0]+cm2[0,1])),'\\n\\n\\n')"
   ]
  },
  {
   "cell_type": "markdown",
   "metadata": {},
   "source": [
    "Threshold higher,sensitivity lower, specificity higher."
   ]
  },
  {
   "cell_type": "code",
   "execution_count": 41,
   "metadata": {},
   "outputs": [
    {
     "name": "stdout",
     "output_type": "stream",
     "text": [
      "[0.   0.77 1.  ] [1.   0.76 0.  ]\n",
      "[0.   0.78 1.  ] [1.   0.66 0.  ]\n",
      "[0.   0.78 1.  ] [1.   0.62 0.  ]\n",
      "[0.   0.81 1.  ] [1.   0.59 0.  ]\n",
      "[0.   0.85 1.  ] [1.   0.57 0.  ]\n",
      "[0.   0.85 1.  ] [1.   0.56 0.  ]\n",
      "[0.   0.86 1.  ] [1.   0.54 0.  ]\n",
      "[0.   0.86 1.  ] [1.   0.53 0.  ]\n",
      "[0.   0.85 1.  ] [1.   0.45 0.  ]\n"
     ]
    },
    {
     "data": {
      "image/png": "[encoded data removed]",
      "text/plain": [
       "<Figure size 864x504 with 1 Axes>"
      ]
     },
     "metadata": {
      "needs_background": "light"
     },
     "output_type": "display_data"
    }
   ],
   "source": [
    "from itertools import cycle\n",
    "from sklearn.metrics import precision_recall_curve\n",
    "\n",
    "thresholds = [0.1,0.2,0.3,0.4,0.5,0.6,0.7,0.8,0.9]\n",
    "colors = cycle(['navy', 'turquoise', 'darkorange', 'cornflowerblue', 'teal', 'red', 'yellow', 'green', 'blue','black'])\n",
    "\n",
    "plt.figure(figsize=(12,7))\n",
    "\n",
    "j = 1\n",
    "for i,color in zip(thresholds,colors):\n",
    "    y_test_predictions_prob = y_pred_prob_yes[:,1] > i \n",
    "\n",
    "    precision, recall, thresholds = precision_recall_curve(y_test, y_test_predictions_prob)\n",
    "    print(precision, recall)\n",
    "    area = auc(recall, precision)\n",
    "    \n",
    "    # Plot Precision-Recall curve\n",
    "    plt.plot(recall, precision, color=color,\n",
    "                 label='Threshold: %s, AUC=%0.5f' %(i , area))\n",
    "    plt.xlabel('Recall')\n",
    "    plt.ylabel('Precision')\n",
    "    plt.ylim([0.0, 1.05])\n",
    "    plt.xlim([0.0, 1.0])\n",
    "    plt.title('Precision-Recall Curve')\n",
    "    plt.legend(loc=\"lower left\")"
   ]
  },
  {
   "cell_type": "code",
   "execution_count": 39,
   "metadata": {},
   "outputs": [
    {
     "name": "stdout",
     "output_type": "stream",
     "text": [
      "Recall metric in the testing dataset while threshold=0.1: 0.7555555555555555\n",
      "Recall metric in the testing dataset while threshold=0.2: 0.6592592592592592\n",
      "Recall metric in the testing dataset while threshold=0.3: 0.6222222222222222\n",
      "Recall metric in the testing dataset while threshold=0.4: 0.5851851851851851\n",
      "Recall metric in the testing dataset while threshold=0.5: 0.5703703703703704\n",
      "Recall metric in the testing dataset while threshold=0.6: 0.5555555555555556\n",
      "Recall metric in the testing dataset while threshold=0.7: 0.5407407407407407\n",
      "Recall metric in the testing dataset while threshold=0.8: 0.5259259259259259\n",
      "Recall metric in the testing dataset while threshold=0.9: 0.45185185185185184\n"
     ]
    },
    {
     "data": {
      "image/png": "[encoded data removed]",
      "text/plain": [
       "<Figure size 1080x720 with 18 Axes>"
      ]
     },
     "metadata": {
      "needs_background": "light"
     },
     "output_type": "display_data"
    }
   ],
   "source": [
    "plt.figure(figsize=(15,10))\n",
    "thresholds = [0.1,0.2,0.3,0.4,0.5,0.6,0.7,0.8,0.9]\n",
    "j = 1\n",
    "for i in thresholds:\n",
    "    y_test_predictions_prob=y_pred_prob_yes[:,1] > i\n",
    "    plt.subplot(3,3,j)\n",
    "    j += 1\n",
    "    cnf_matrix = confusion_matrix(y_test,y_test_predictions_prob)\n",
    "    np.set_printoptions(precision=2)\n",
    "    print('Recall metric in the test dataset while threshold=%s:'%i,cnf_matrix[1,1]/(cnf_matrix[1,0]+cnf_matrix[1,1])) \n",
    "    conf_matrix=pd.DataFrame(data=cnf_matrix,columns=['Predicted:0','Predicted:1'],index=['Actual:0','Actual:1'])\n",
    "    sns.heatmap(conf_matrix, annot=True,fmt='d',cmap=\"YlGnBu\")\n",
    "plt.show()"
   ]
  },
  {
   "cell_type": "markdown",
   "metadata": {},
   "source": [
    "# Using imbalanced data without feature selection"
   ]
  },
  {
   "cell_type": "code",
   "execution_count": 19,
   "metadata": {},
   "outputs": [],
   "source": [
    "X, y = splitXY(df, 'Class')\n",
    "X_train, X_test, y_train, y_test = make_train_test_split(X=X, y=y, test_size=0.3, random_state=1)"
   ]
  },
  {
   "cell_type": "code",
   "execution_count": 20,
   "metadata": {},
   "outputs": [
    {
     "name": "stderr",
     "output_type": "stream",
     "text": [
      "C:\\anaconda\\lib\\site-packages\\sklearn\\linear_model\\_logistic.py:764: ConvergenceWarning: lbfgs failed to converge (status=1):\n",
      "STOP: TOTAL NO. of ITERATIONS REACHED LIMIT.\n",
      "\n",
      "Increase the number of iterations (max_iter) or scale the data as shown in:\n",
      "    https://scikit-learn.org/stable/modules/preprocessing.html\n",
      "Please also refer to the documentation for alternative solver options:\n",
      "    https://scikit-learn.org/stable/modules/linear_model.html#logistic-regression\n",
      "  extra_warning_msg=_LOGISTIC_SOLVER_CONVERGENCE_MSG)\n"
     ]
    }
   ],
   "source": [
    "clf1 = build_model(X_train, y_train)"
   ]
  },
  {
   "cell_type": "code",
   "execution_count": 21,
   "metadata": {},
   "outputs": [],
   "source": [
    "model_eval_train, model_eval_test, cf_matrix_train, cf_matrix_test = model_eval_data(clf1, X_train, y_train, \n",
    "                                                         X_test, y_test, \n",
    "                                                         model_eval_train, \n",
    "                                                         model_eval_test,\n",
    "                                                         Name='imbalanced data - LogisticRegression(without FS)')"
   ]
  },
  {
   "cell_type": "code",
   "execution_count": 22,
   "metadata": {},
   "outputs": [
    {
     "data": {
      "text/html": [
       "<div>\n",
       "<style scoped>\n",
       "    .dataframe tbody tr th:only-of-type {\n",
       "        vertical-align: middle;\n",
       "    }\n",
       "\n",
       "    .dataframe tbody tr th {\n",
       "        vertical-align: top;\n",
       "    }\n",
       "\n",
       "    .dataframe thead th {\n",
       "        text-align: right;\n",
       "    }\n",
       "</style>\n",
       "<table border=\"1\" class=\"dataframe\">\n",
       "  <thead>\n",
       "    <tr style=\"text-align: right;\">\n",
       "      <th></th>\n",
       "      <th>precision</th>\n",
       "      <th>recall</th>\n",
       "      <th>f1-score</th>\n",
       "      <th>accuracy</th>\n",
       "      <th>ROC</th>\n",
       "    </tr>\n",
       "  </thead>\n",
       "  <tbody>\n",
       "    <tr>\n",
       "      <th>imbalanced data - LogisticRegression</th>\n",
       "      <td>0.897638</td>\n",
       "      <td>0.638655</td>\n",
       "      <td>0.746318</td>\n",
       "      <td>0.999223</td>\n",
       "      <td>0.974718</td>\n",
       "    </tr>\n",
       "    <tr>\n",
       "      <th>imbalanced data - LogisticRegression(without FS)</th>\n",
       "      <td>0.719764</td>\n",
       "      <td>0.683473</td>\n",
       "      <td>0.701149</td>\n",
       "      <td>0.998957</td>\n",
       "      <td>0.933974</td>\n",
       "    </tr>\n",
       "  </tbody>\n",
       "</table>\n",
       "</div>"
      ],
      "text/plain": [
       "                                                  precision    recall  \\\n",
       "imbalanced data - LogisticRegression               0.897638  0.638655   \n",
       "imbalanced data - LogisticRegression(without FS)   0.719764  0.683473   \n",
       "\n",
       "                                                  f1-score  accuracy       ROC  \n",
       "imbalanced data - LogisticRegression              0.746318  0.999223  0.974718  \n",
       "imbalanced data - LogisticRegression(without FS)  0.701149  0.998957  0.933974  "
      ]
     },
     "execution_count": 22,
     "metadata": {},
     "output_type": "execute_result"
    }
   ],
   "source": [
    "model_eval_train"
   ]
  },
  {
   "cell_type": "code",
   "execution_count": 23,
   "metadata": {},
   "outputs": [
    {
     "data": {
      "text/html": [
       "<div>\n",
       "<style scoped>\n",
       "    .dataframe tbody tr th:only-of-type {\n",
       "        vertical-align: middle;\n",
       "    }\n",
       "\n",
       "    .dataframe tbody tr th {\n",
       "        vertical-align: top;\n",
       "    }\n",
       "\n",
       "    .dataframe thead th {\n",
       "        text-align: right;\n",
       "    }\n",
       "</style>\n",
       "<table border=\"1\" class=\"dataframe\">\n",
       "  <thead>\n",
       "    <tr style=\"text-align: right;\">\n",
       "      <th></th>\n",
       "      <th>precision</th>\n",
       "      <th>recall</th>\n",
       "      <th>f1-score</th>\n",
       "      <th>accuracy</th>\n",
       "      <th>ROC</th>\n",
       "    </tr>\n",
       "  </thead>\n",
       "  <tbody>\n",
       "    <tr>\n",
       "      <th>imbalanced data - LogisticRegression</th>\n",
       "      <td>0.846154</td>\n",
       "      <td>0.570370</td>\n",
       "      <td>0.681416</td>\n",
       "      <td>0.999157</td>\n",
       "      <td>0.968780</td>\n",
       "    </tr>\n",
       "    <tr>\n",
       "      <th>imbalanced data - LogisticRegression(without FS)</th>\n",
       "      <td>0.705882</td>\n",
       "      <td>0.622222</td>\n",
       "      <td>0.661417</td>\n",
       "      <td>0.998993</td>\n",
       "      <td>0.881542</td>\n",
       "    </tr>\n",
       "  </tbody>\n",
       "</table>\n",
       "</div>"
      ],
      "text/plain": [
       "                                                  precision    recall  \\\n",
       "imbalanced data - LogisticRegression               0.846154  0.570370   \n",
       "imbalanced data - LogisticRegression(without FS)   0.705882  0.622222   \n",
       "\n",
       "                                                  f1-score  accuracy       ROC  \n",
       "imbalanced data - LogisticRegression              0.681416  0.999157  0.968780  \n",
       "imbalanced data - LogisticRegression(without FS)  0.661417  0.998993  0.881542  "
      ]
     },
     "execution_count": 23,
     "metadata": {},
     "output_type": "execute_result"
    }
   ],
   "source": [
    "model_eval_test"
   ]
  },
  {
   "cell_type": "code",
   "execution_count": 24,
   "metadata": {},
   "outputs": [
    {
     "data": {
      "text/plain": [
       "<matplotlib.axes._subplots.AxesSubplot at 0x1bb07f06780>"
      ]
     },
     "execution_count": 24,
     "metadata": {},
     "output_type": "execute_result"
    },
    {
     "data": {
      "image/png": "[encoded data removed]",
      "text/plain": [
       "<Figure size 576x360 with 2 Axes>"
      ]
     },
     "metadata": {
      "needs_background": "light"
     },
     "output_type": "display_data"
    }
   ],
   "source": [
    "from sklearn.metrics import confusion_matrix\n",
    "%matplotlib inline\n",
    "\n",
    "y_pred = clf1.predict(X_test)\n",
    "cm=confusion_matrix(y_test,y_pred)\n",
    "conf_matrix=pd.DataFrame(data=cm,columns=['Predicted:0','Predicted:1'],index=['Actual:0','Actual:1'])\n",
    "plt.figure(figsize = (8,5))\n",
    "sns.heatmap(conf_matrix, annot=True,fmt='d',cmap=\"YlGnBu\")"
   ]
  },
  {
   "cell_type": "code",
   "execution_count": 25,
   "metadata": {},
   "outputs": [
    {
     "name": "stdout",
     "output_type": "stream",
     "text": [
      "              precision    recall  f1-score   support\n",
      "\n",
      "           0       1.00      1.00      1.00     85308\n",
      "           1       0.71      0.62      0.66       135\n",
      "\n",
      "    accuracy                           1.00     85443\n",
      "   macro avg       0.85      0.81      0.83     85443\n",
      "weighted avg       1.00      1.00      1.00     85443\n",
      "\n"
     ]
    }
   ],
   "source": [
    "print(classification_report(y_test, y_pred))"
   ]
  },
  {
   "cell_type": "markdown",
   "metadata": {},
   "source": [
    "# Randomsampling+Logistic regression"
   ]
  },
  {
   "cell_type": "markdown",
   "metadata": {},
   "source": [
    "This is the baseline model using imbalanced data and simple logistic regression.\n",
    "\n",
    "Then I will use the first sampling techniques on it: Random oversampling"
   ]
  },
  {
   "cell_type": "code",
   "execution_count": 26,
   "metadata": {},
   "outputs": [],
   "source": [
    "from imblearn.over_sampling import RandomOverSampler"
   ]
  },
  {
   "cell_type": "code",
   "execution_count": 27,
   "metadata": {},
   "outputs": [],
   "source": [
    "X, y = splitXY(df, 'Class')\n",
    "X_train, X_test, y_train, y_test = make_train_test_split(X=X, y=y, test_size=0.3, random_state=1)\n",
    "X_train = X_train[selected_vars] #select the variables from variable selection proces\n",
    "X_test = X_test[selected_vars]"
   ]
  },
  {
   "cell_type": "code",
   "execution_count": 28,
   "metadata": {},
   "outputs": [],
   "source": [
    "X_resampled, y_resampled = RandomOverSampler().fit_sample(X_train, y_train)"
   ]
  },
  {
   "cell_type": "code",
   "execution_count": 29,
   "metadata": {},
   "outputs": [],
   "source": [
    "clf2 = build_model(X_resampled, y_resampled)"
   ]
  },
  {
   "cell_type": "code",
   "execution_count": 30,
   "metadata": {},
   "outputs": [],
   "source": [
    "model_eval_train, model_eval_test, cf_matrix_train, cf_matrix_test = model_eval_data(clf2, X_train, y_train, \n",
    "                                                         X_test, y_test, \n",
    "                                                         model_eval_train, \n",
    "                                                         model_eval_test,\n",
    "                                                         Name='RandomOversampling - Logistic Regression')"
   ]
  },
  {
   "cell_type": "code",
   "execution_count": 31,
   "metadata": {},
   "outputs": [
    {
     "data": {
      "text/html": [
       "<div>\n",
       "<style scoped>\n",
       "    .dataframe tbody tr th:only-of-type {\n",
       "        vertical-align: middle;\n",
       "    }\n",
       "\n",
       "    .dataframe tbody tr th {\n",
       "        vertical-align: top;\n",
       "    }\n",
       "\n",
       "    .dataframe thead th {\n",
       "        text-align: right;\n",
       "    }\n",
       "</style>\n",
       "<table border=\"1\" class=\"dataframe\">\n",
       "  <thead>\n",
       "    <tr style=\"text-align: right;\">\n",
       "      <th></th>\n",
       "      <th>precision</th>\n",
       "      <th>recall</th>\n",
       "      <th>f1-score</th>\n",
       "      <th>accuracy</th>\n",
       "      <th>ROC</th>\n",
       "    </tr>\n",
       "  </thead>\n",
       "  <tbody>\n",
       "    <tr>\n",
       "      <th>imbalanced data - LogisticRegression</th>\n",
       "      <td>0.897638</td>\n",
       "      <td>0.638655</td>\n",
       "      <td>0.746318</td>\n",
       "      <td>0.999223</td>\n",
       "      <td>0.974718</td>\n",
       "    </tr>\n",
       "    <tr>\n",
       "      <th>imbalanced data - LogisticRegression(without FS)</th>\n",
       "      <td>0.719764</td>\n",
       "      <td>0.683473</td>\n",
       "      <td>0.701149</td>\n",
       "      <td>0.998957</td>\n",
       "      <td>0.933974</td>\n",
       "    </tr>\n",
       "    <tr>\n",
       "      <th>RandomOversampling data</th>\n",
       "      <td>0.083702</td>\n",
       "      <td>0.901961</td>\n",
       "      <td>0.153187</td>\n",
       "      <td>0.982143</td>\n",
       "      <td>0.979792</td>\n",
       "    </tr>\n",
       "  </tbody>\n",
       "</table>\n",
       "</div>"
      ],
      "text/plain": [
       "                                                  precision    recall  \\\n",
       "imbalanced data - LogisticRegression               0.897638  0.638655   \n",
       "imbalanced data - LogisticRegression(without FS)   0.719764  0.683473   \n",
       "RandomOversampling data                            0.083702  0.901961   \n",
       "\n",
       "                                                  f1-score  accuracy       ROC  \n",
       "imbalanced data - LogisticRegression              0.746318  0.999223  0.974718  \n",
       "imbalanced data - LogisticRegression(without FS)  0.701149  0.998957  0.933974  \n",
       "RandomOversampling data                           0.153187  0.982143  0.979792  "
      ]
     },
     "execution_count": 31,
     "metadata": {},
     "output_type": "execute_result"
    }
   ],
   "source": [
    "model_eval_train"
   ]
  },
  {
   "cell_type": "code",
   "execution_count": 32,
   "metadata": {},
   "outputs": [
    {
     "data": {
      "text/html": [
       "<div>\n",
       "<style scoped>\n",
       "    .dataframe tbody tr th:only-of-type {\n",
       "        vertical-align: middle;\n",
       "    }\n",
       "\n",
       "    .dataframe tbody tr th {\n",
       "        vertical-align: top;\n",
       "    }\n",
       "\n",
       "    .dataframe thead th {\n",
       "        text-align: right;\n",
       "    }\n",
       "</style>\n",
       "<table border=\"1\" class=\"dataframe\">\n",
       "  <thead>\n",
       "    <tr style=\"text-align: right;\">\n",
       "      <th></th>\n",
       "      <th>precision</th>\n",
       "      <th>recall</th>\n",
       "      <th>f1-score</th>\n",
       "      <th>accuracy</th>\n",
       "      <th>ROC</th>\n",
       "    </tr>\n",
       "  </thead>\n",
       "  <tbody>\n",
       "    <tr>\n",
       "      <th>imbalanced data - LogisticRegression</th>\n",
       "      <td>0.846154</td>\n",
       "      <td>0.570370</td>\n",
       "      <td>0.681416</td>\n",
       "      <td>0.999157</td>\n",
       "      <td>0.968780</td>\n",
       "    </tr>\n",
       "    <tr>\n",
       "      <th>imbalanced data - LogisticRegression(without FS)</th>\n",
       "      <td>0.705882</td>\n",
       "      <td>0.622222</td>\n",
       "      <td>0.661417</td>\n",
       "      <td>0.998993</td>\n",
       "      <td>0.881542</td>\n",
       "    </tr>\n",
       "    <tr>\n",
       "      <th>RandomOversampling data</th>\n",
       "      <td>0.073354</td>\n",
       "      <td>0.866667</td>\n",
       "      <td>0.135260</td>\n",
       "      <td>0.982491</td>\n",
       "      <td>0.981285</td>\n",
       "    </tr>\n",
       "  </tbody>\n",
       "</table>\n",
       "</div>"
      ],
      "text/plain": [
       "                                                  precision    recall  \\\n",
       "imbalanced data - LogisticRegression               0.846154  0.570370   \n",
       "imbalanced data - LogisticRegression(without FS)   0.705882  0.622222   \n",
       "RandomOversampling data                            0.073354  0.866667   \n",
       "\n",
       "                                                  f1-score  accuracy       ROC  \n",
       "imbalanced data - LogisticRegression              0.681416  0.999157  0.968780  \n",
       "imbalanced data - LogisticRegression(without FS)  0.661417  0.998993  0.881542  \n",
       "RandomOversampling data                           0.135260  0.982491  0.981285  "
      ]
     },
     "execution_count": 32,
     "metadata": {},
     "output_type": "execute_result"
    }
   ],
   "source": [
    "model_eval_test"
   ]
  },
  {
   "cell_type": "code",
   "execution_count": 33,
   "metadata": {},
   "outputs": [
    {
     "data": {
      "text/plain": [
       "<matplotlib.axes._subplots.AxesSubplot at 0x1bb0e5ce278>"
      ]
     },
     "execution_count": 33,
     "metadata": {},
     "output_type": "execute_result"
    },
    {
     "data": {
      "image/png": "[encoded data removed]",
      "text/plain": [
       "<Figure size 576x360 with 2 Axes>"
      ]
     },
     "metadata": {
      "needs_background": "light"
     },
     "output_type": "display_data"
    }
   ],
   "source": [
    "from sklearn.metrics import confusion_matrix\n",
    "%matplotlib inline\n",
    "\n",
    "y_pred = clf2.predict(X_test)\n",
    "cm=confusion_matrix(y_test,y_pred)\n",
    "conf_matrix=pd.DataFrame(data=cm,columns=['Predicted:0','Predicted:1'],index=['Actual:0','Actual:1'])\n",
    "plt.figure(figsize = (8,5))\n",
    "sns.heatmap(conf_matrix, annot=True,fmt='d',cmap=\"YlGnBu\")"
   ]
  },
  {
   "cell_type": "code",
   "execution_count": 34,
   "metadata": {},
   "outputs": [
    {
     "name": "stdout",
     "output_type": "stream",
     "text": [
      "              precision    recall  f1-score   support\n",
      "\n",
      "           0       1.00      0.98      0.99     85308\n",
      "           1       0.07      0.87      0.14       135\n",
      "\n",
      "    accuracy                           0.98     85443\n",
      "   macro avg       0.54      0.92      0.56     85443\n",
      "weighted avg       1.00      0.98      0.99     85443\n",
      "\n"
     ]
    }
   ],
   "source": [
    "print(classification_report(y_test, y_pred))"
   ]
  },
  {
   "cell_type": "markdown",
   "metadata": {},
   "source": [
    "# Smote-logisticregression"
   ]
  },
  {
   "cell_type": "code",
   "execution_count": 35,
   "metadata": {},
   "outputs": [],
   "source": [
    "from imblearn.over_sampling import SMOTE\n",
    "#from sklearn.model_selection import GridSearchCV"
   ]
  },
  {
   "cell_type": "code",
   "execution_count": 36,
   "metadata": {},
   "outputs": [],
   "source": [
    "X, y = splitXY(df, 'Class')\n",
    "X_train, X_test, y_train, y_test = make_train_test_split(X=X, y=y, test_size=0.3, random_state=0)\n",
    "X_train = X_train[selected_vars] #select the variables from variable selection proces\n",
    "X_test = X_test[selected_vars]"
   ]
  },
  {
   "cell_type": "code",
   "execution_count": 37,
   "metadata": {},
   "outputs": [],
   "source": [
    "smote = SMOTE(random_state=5)\n",
    "X_sm, y_sm = smote.fit_resample(X_train, y_train)"
   ]
  },
  {
   "cell_type": "code",
   "execution_count": 38,
   "metadata": {},
   "outputs": [],
   "source": [
    "clf3 = build_model(X_sm, y_sm)"
   ]
  },
  {
   "cell_type": "code",
   "execution_count": 39,
   "metadata": {},
   "outputs": [],
   "source": [
    "model_eval_train, model_eval_test, cf_matrix_train, cf_matrix_test = model_eval_data(clf3, X_train, y_train, \n",
    "                                                         X_test, y_test, \n",
    "                                                         model_eval_train, \n",
    "                                                         model_eval_test,\n",
    "                                                         Name='SMOTE - LogisticRegression')"
   ]
  },
  {
   "cell_type": "code",
   "execution_count": 40,
   "metadata": {},
   "outputs": [],
   "source": [
    "y_pred = clf3.predict(X_test)"
   ]
  },
  {
   "cell_type": "code",
   "execution_count": 41,
   "metadata": {},
   "outputs": [
    {
     "data": {
      "text/plain": [
       "<matplotlib.axes._subplots.AxesSubplot at 0x1bb0db3a780>"
      ]
     },
     "execution_count": 41,
     "metadata": {},
     "output_type": "execute_result"
    },
    {
     "data": {
      "image/png": "[encoded data removed]",
      "text/plain": [
       "<Figure size 576x360 with 2 Axes>"
      ]
     },
     "metadata": {
      "needs_background": "light"
     },
     "output_type": "display_data"
    }
   ],
   "source": [
    "from sklearn.metrics import confusion_matrix\n",
    "%matplotlib inline\n",
    "\n",
    "y_pred = clf3.predict(X_test)\n",
    "cm=confusion_matrix(y_test,y_pred)\n",
    "conf_matrix=pd.DataFrame(data=cm,columns=['Predicted:0','Predicted:1'],index=['Actual:0','Actual:1'])\n",
    "plt.figure(figsize = (8,5))\n",
    "sns.heatmap(conf_matrix, annot=True,fmt='d',cmap=\"YlGnBu\")"
   ]
  },
  {
   "cell_type": "code",
   "execution_count": 42,
   "metadata": {},
   "outputs": [
    {
     "data": {
      "text/html": [
       "<div>\n",
       "<style scoped>\n",
       "    .dataframe tbody tr th:only-of-type {\n",
       "        vertical-align: middle;\n",
       "    }\n",
       "\n",
       "    .dataframe tbody tr th {\n",
       "        vertical-align: top;\n",
       "    }\n",
       "\n",
       "    .dataframe thead th {\n",
       "        text-align: right;\n",
       "    }\n",
       "</style>\n",
       "<table border=\"1\" class=\"dataframe\">\n",
       "  <thead>\n",
       "    <tr style=\"text-align: right;\">\n",
       "      <th></th>\n",
       "      <th>precision</th>\n",
       "      <th>recall</th>\n",
       "      <th>f1-score</th>\n",
       "      <th>accuracy</th>\n",
       "      <th>ROC</th>\n",
       "    </tr>\n",
       "  </thead>\n",
       "  <tbody>\n",
       "    <tr>\n",
       "      <th>imbalanced data - LogisticRegression</th>\n",
       "      <td>0.897638</td>\n",
       "      <td>0.638655</td>\n",
       "      <td>0.746318</td>\n",
       "      <td>0.999223</td>\n",
       "      <td>0.974718</td>\n",
       "    </tr>\n",
       "    <tr>\n",
       "      <th>imbalanced data - LogisticRegression(without FS)</th>\n",
       "      <td>0.719764</td>\n",
       "      <td>0.683473</td>\n",
       "      <td>0.701149</td>\n",
       "      <td>0.998957</td>\n",
       "      <td>0.933974</td>\n",
       "    </tr>\n",
       "    <tr>\n",
       "      <th>RandomOversampling data</th>\n",
       "      <td>0.083702</td>\n",
       "      <td>0.901961</td>\n",
       "      <td>0.153187</td>\n",
       "      <td>0.982143</td>\n",
       "      <td>0.979792</td>\n",
       "    </tr>\n",
       "    <tr>\n",
       "      <th>SMOTE - LogisticRegression</th>\n",
       "      <td>0.057586</td>\n",
       "      <td>0.904348</td>\n",
       "      <td>0.108277</td>\n",
       "      <td>0.974223</td>\n",
       "      <td>0.980405</td>\n",
       "    </tr>\n",
       "  </tbody>\n",
       "</table>\n",
       "</div>"
      ],
      "text/plain": [
       "                                                  precision    recall  \\\n",
       "imbalanced data - LogisticRegression               0.897638  0.638655   \n",
       "imbalanced data - LogisticRegression(without FS)   0.719764  0.683473   \n",
       "RandomOversampling data                            0.083702  0.901961   \n",
       "SMOTE - LogisticRegression                         0.057586  0.904348   \n",
       "\n",
       "                                                  f1-score  accuracy       ROC  \n",
       "imbalanced data - LogisticRegression              0.746318  0.999223  0.974718  \n",
       "imbalanced data - LogisticRegression(without FS)  0.701149  0.998957  0.933974  \n",
       "RandomOversampling data                           0.153187  0.982143  0.979792  \n",
       "SMOTE - LogisticRegression                        0.108277  0.974223  0.980405  "
      ]
     },
     "execution_count": 42,
     "metadata": {},
     "output_type": "execute_result"
    }
   ],
   "source": [
    "model_eval_train"
   ]
  },
  {
   "cell_type": "code",
   "execution_count": 43,
   "metadata": {},
   "outputs": [
    {
     "data": {
      "text/html": [
       "<div>\n",
       "<style scoped>\n",
       "    .dataframe tbody tr th:only-of-type {\n",
       "        vertical-align: middle;\n",
       "    }\n",
       "\n",
       "    .dataframe tbody tr th {\n",
       "        vertical-align: top;\n",
       "    }\n",
       "\n",
       "    .dataframe thead th {\n",
       "        text-align: right;\n",
       "    }\n",
       "</style>\n",
       "<table border=\"1\" class=\"dataframe\">\n",
       "  <thead>\n",
       "    <tr style=\"text-align: right;\">\n",
       "      <th></th>\n",
       "      <th>precision</th>\n",
       "      <th>recall</th>\n",
       "      <th>f1-score</th>\n",
       "      <th>accuracy</th>\n",
       "      <th>ROC</th>\n",
       "    </tr>\n",
       "  </thead>\n",
       "  <tbody>\n",
       "    <tr>\n",
       "      <th>imbalanced data - LogisticRegression</th>\n",
       "      <td>0.846154</td>\n",
       "      <td>0.570370</td>\n",
       "      <td>0.681416</td>\n",
       "      <td>0.999157</td>\n",
       "      <td>0.968780</td>\n",
       "    </tr>\n",
       "    <tr>\n",
       "      <th>imbalanced data - LogisticRegression(without FS)</th>\n",
       "      <td>0.705882</td>\n",
       "      <td>0.622222</td>\n",
       "      <td>0.661417</td>\n",
       "      <td>0.998993</td>\n",
       "      <td>0.881542</td>\n",
       "    </tr>\n",
       "    <tr>\n",
       "      <th>RandomOversampling data</th>\n",
       "      <td>0.073354</td>\n",
       "      <td>0.866667</td>\n",
       "      <td>0.135260</td>\n",
       "      <td>0.982491</td>\n",
       "      <td>0.981285</td>\n",
       "    </tr>\n",
       "    <tr>\n",
       "      <th>SMOTE - LogisticRegression</th>\n",
       "      <td>0.057971</td>\n",
       "      <td>0.897959</td>\n",
       "      <td>0.108911</td>\n",
       "      <td>0.974720</td>\n",
       "      <td>0.977955</td>\n",
       "    </tr>\n",
       "  </tbody>\n",
       "</table>\n",
       "</div>"
      ],
      "text/plain": [
       "                                                  precision    recall  \\\n",
       "imbalanced data - LogisticRegression               0.846154  0.570370   \n",
       "imbalanced data - LogisticRegression(without FS)   0.705882  0.622222   \n",
       "RandomOversampling data                            0.073354  0.866667   \n",
       "SMOTE - LogisticRegression                         0.057971  0.897959   \n",
       "\n",
       "                                                  f1-score  accuracy       ROC  \n",
       "imbalanced data - LogisticRegression              0.681416  0.999157  0.968780  \n",
       "imbalanced data - LogisticRegression(without FS)  0.661417  0.998993  0.881542  \n",
       "RandomOversampling data                           0.135260  0.982491  0.981285  \n",
       "SMOTE - LogisticRegression                        0.108911  0.974720  0.977955  "
      ]
     },
     "execution_count": 43,
     "metadata": {},
     "output_type": "execute_result"
    }
   ],
   "source": [
    "model_eval_test"
   ]
  },
  {
   "cell_type": "code",
   "execution_count": 44,
   "metadata": {},
   "outputs": [
    {
     "name": "stdout",
     "output_type": "stream",
     "text": [
      "              precision    recall  f1-score   support\n",
      "\n",
      "           0       1.00      0.97      0.99     85296\n",
      "           1       0.06      0.90      0.11       147\n",
      "\n",
      "    accuracy                           0.97     85443\n",
      "   macro avg       0.53      0.94      0.55     85443\n",
      "weighted avg       1.00      0.97      0.99     85443\n",
      "\n"
     ]
    }
   ],
   "source": [
    "print(classification_report(y_test, y_pred))"
   ]
  },
  {
   "cell_type": "markdown",
   "metadata": {},
   "source": [
    "# Borderline-Smote+Logistic Regression"
   ]
  },
  {
   "cell_type": "code",
   "execution_count": 45,
   "metadata": {},
   "outputs": [],
   "source": [
    "from imblearn.over_sampling import BorderlineSMOTE"
   ]
  },
  {
   "cell_type": "code",
   "execution_count": 46,
   "metadata": {},
   "outputs": [],
   "source": [
    "X, y = splitXY(df, 'Class')\n",
    "X_train, X_test, y_train, y_test = make_train_test_split(X=X, y=y, test_size=0.3, random_state=1)\n",
    "X_train = X_train[selected_vars] #select the variables from variable selection proces\n",
    "X_test = X_test[selected_vars]"
   ]
  },
  {
   "cell_type": "code",
   "execution_count": 47,
   "metadata": {},
   "outputs": [],
   "source": [
    "bsm = BorderlineSMOTE(random_state=1,kind=\"borderline-1\")"
   ]
  },
  {
   "cell_type": "code",
   "execution_count": 48,
   "metadata": {},
   "outputs": [],
   "source": [
    "X_bsm, y_bsm = bsm.fit_resample(X_train, y_train)"
   ]
  },
  {
   "cell_type": "code",
   "execution_count": 49,
   "metadata": {},
   "outputs": [],
   "source": [
    "clf5 = build_model(X_bsm, y_bsm)"
   ]
  },
  {
   "cell_type": "code",
   "execution_count": 50,
   "metadata": {},
   "outputs": [],
   "source": [
    "model_eval_train, model_eval_test, cf_matrix_train, cf_matrix_test = model_eval_data(clf5, X_train, y_train, \n",
    "                                                         X_test, y_test, \n",
    "                                                         model_eval_train, \n",
    "                                                         model_eval_test,\n",
    "                                                         Name='Borderline-SMOTE - LogisticRegression')"
   ]
  },
  {
   "cell_type": "code",
   "execution_count": 51,
   "metadata": {},
   "outputs": [
    {
     "data": {
      "text/html": [
       "<div>\n",
       "<style scoped>\n",
       "    .dataframe tbody tr th:only-of-type {\n",
       "        vertical-align: middle;\n",
       "    }\n",
       "\n",
       "    .dataframe tbody tr th {\n",
       "        vertical-align: top;\n",
       "    }\n",
       "\n",
       "    .dataframe thead th {\n",
       "        text-align: right;\n",
       "    }\n",
       "</style>\n",
       "<table border=\"1\" class=\"dataframe\">\n",
       "  <thead>\n",
       "    <tr style=\"text-align: right;\">\n",
       "      <th></th>\n",
       "      <th>precision</th>\n",
       "      <th>recall</th>\n",
       "      <th>f1-score</th>\n",
       "      <th>accuracy</th>\n",
       "      <th>ROC</th>\n",
       "    </tr>\n",
       "  </thead>\n",
       "  <tbody>\n",
       "    <tr>\n",
       "      <th>imbalanced data - LogisticRegression</th>\n",
       "      <td>0.897638</td>\n",
       "      <td>0.638655</td>\n",
       "      <td>0.746318</td>\n",
       "      <td>0.999223</td>\n",
       "      <td>0.974718</td>\n",
       "    </tr>\n",
       "    <tr>\n",
       "      <th>imbalanced data - LogisticRegression(without FS)</th>\n",
       "      <td>0.719764</td>\n",
       "      <td>0.683473</td>\n",
       "      <td>0.701149</td>\n",
       "      <td>0.998957</td>\n",
       "      <td>0.933974</td>\n",
       "    </tr>\n",
       "    <tr>\n",
       "      <th>RandomOversampling data</th>\n",
       "      <td>0.083702</td>\n",
       "      <td>0.901961</td>\n",
       "      <td>0.153187</td>\n",
       "      <td>0.982143</td>\n",
       "      <td>0.979792</td>\n",
       "    </tr>\n",
       "    <tr>\n",
       "      <th>SMOTE - LogisticRegression</th>\n",
       "      <td>0.057586</td>\n",
       "      <td>0.904348</td>\n",
       "      <td>0.108277</td>\n",
       "      <td>0.974223</td>\n",
       "      <td>0.980405</td>\n",
       "    </tr>\n",
       "    <tr>\n",
       "      <th>Borderline-SMOTE - LogisticRegression</th>\n",
       "      <td>0.172622</td>\n",
       "      <td>0.879552</td>\n",
       "      <td>0.288603</td>\n",
       "      <td>0.992235</td>\n",
       "      <td>0.948088</td>\n",
       "    </tr>\n",
       "  </tbody>\n",
       "</table>\n",
       "</div>"
      ],
      "text/plain": [
       "                                                  precision    recall  \\\n",
       "imbalanced data - LogisticRegression               0.897638  0.638655   \n",
       "imbalanced data - LogisticRegression(without FS)   0.719764  0.683473   \n",
       "RandomOversampling data                            0.083702  0.901961   \n",
       "SMOTE - LogisticRegression                         0.057586  0.904348   \n",
       "Borderline-SMOTE - LogisticRegression              0.172622  0.879552   \n",
       "\n",
       "                                                  f1-score  accuracy       ROC  \n",
       "imbalanced data - LogisticRegression              0.746318  0.999223  0.974718  \n",
       "imbalanced data - LogisticRegression(without FS)  0.701149  0.998957  0.933974  \n",
       "RandomOversampling data                           0.153187  0.982143  0.979792  \n",
       "SMOTE - LogisticRegression                        0.108277  0.974223  0.980405  \n",
       "Borderline-SMOTE - LogisticRegression             0.288603  0.992235  0.948088  "
      ]
     },
     "execution_count": 51,
     "metadata": {},
     "output_type": "execute_result"
    }
   ],
   "source": [
    "model_eval_train"
   ]
  },
  {
   "cell_type": "code",
   "execution_count": 52,
   "metadata": {},
   "outputs": [
    {
     "data": {
      "text/html": [
       "<div>\n",
       "<style scoped>\n",
       "    .dataframe tbody tr th:only-of-type {\n",
       "        vertical-align: middle;\n",
       "    }\n",
       "\n",
       "    .dataframe tbody tr th {\n",
       "        vertical-align: top;\n",
       "    }\n",
       "\n",
       "    .dataframe thead th {\n",
       "        text-align: right;\n",
       "    }\n",
       "</style>\n",
       "<table border=\"1\" class=\"dataframe\">\n",
       "  <thead>\n",
       "    <tr style=\"text-align: right;\">\n",
       "      <th></th>\n",
       "      <th>precision</th>\n",
       "      <th>recall</th>\n",
       "      <th>f1-score</th>\n",
       "      <th>accuracy</th>\n",
       "      <th>ROC</th>\n",
       "    </tr>\n",
       "  </thead>\n",
       "  <tbody>\n",
       "    <tr>\n",
       "      <th>imbalanced data - LogisticRegression</th>\n",
       "      <td>0.846154</td>\n",
       "      <td>0.570370</td>\n",
       "      <td>0.681416</td>\n",
       "      <td>0.999157</td>\n",
       "      <td>0.968780</td>\n",
       "    </tr>\n",
       "    <tr>\n",
       "      <th>imbalanced data - LogisticRegression(without FS)</th>\n",
       "      <td>0.705882</td>\n",
       "      <td>0.622222</td>\n",
       "      <td>0.661417</td>\n",
       "      <td>0.998993</td>\n",
       "      <td>0.881542</td>\n",
       "    </tr>\n",
       "    <tr>\n",
       "      <th>RandomOversampling data</th>\n",
       "      <td>0.073354</td>\n",
       "      <td>0.866667</td>\n",
       "      <td>0.135260</td>\n",
       "      <td>0.982491</td>\n",
       "      <td>0.981285</td>\n",
       "    </tr>\n",
       "    <tr>\n",
       "      <th>SMOTE - LogisticRegression</th>\n",
       "      <td>0.057971</td>\n",
       "      <td>0.897959</td>\n",
       "      <td>0.108911</td>\n",
       "      <td>0.974720</td>\n",
       "      <td>0.977955</td>\n",
       "    </tr>\n",
       "    <tr>\n",
       "      <th>Borderline-SMOTE - LogisticRegression</th>\n",
       "      <td>0.147175</td>\n",
       "      <td>0.829630</td>\n",
       "      <td>0.250000</td>\n",
       "      <td>0.992135</td>\n",
       "      <td>0.933410</td>\n",
       "    </tr>\n",
       "  </tbody>\n",
       "</table>\n",
       "</div>"
      ],
      "text/plain": [
       "                                                  precision    recall  \\\n",
       "imbalanced data - LogisticRegression               0.846154  0.570370   \n",
       "imbalanced data - LogisticRegression(without FS)   0.705882  0.622222   \n",
       "RandomOversampling data                            0.073354  0.866667   \n",
       "SMOTE - LogisticRegression                         0.057971  0.897959   \n",
       "Borderline-SMOTE - LogisticRegression              0.147175  0.829630   \n",
       "\n",
       "                                                  f1-score  accuracy       ROC  \n",
       "imbalanced data - LogisticRegression              0.681416  0.999157  0.968780  \n",
       "imbalanced data - LogisticRegression(without FS)  0.661417  0.998993  0.881542  \n",
       "RandomOversampling data                           0.135260  0.982491  0.981285  \n",
       "SMOTE - LogisticRegression                        0.108911  0.974720  0.977955  \n",
       "Borderline-SMOTE - LogisticRegression             0.250000  0.992135  0.933410  "
      ]
     },
     "execution_count": 52,
     "metadata": {},
     "output_type": "execute_result"
    }
   ],
   "source": [
    "model_eval_test"
   ]
  },
  {
   "cell_type": "code",
   "execution_count": 53,
   "metadata": {},
   "outputs": [
    {
     "data": {
      "text/plain": [
       "<matplotlib.axes._subplots.AxesSubplot at 0x1bb0e61c390>"
      ]
     },
     "execution_count": 53,
     "metadata": {},
     "output_type": "execute_result"
    },
    {
     "data": {
      "image/png": "[encoded data removed]",
      "text/plain": [
       "<Figure size 576x360 with 2 Axes>"
      ]
     },
     "metadata": {
      "needs_background": "light"
     },
     "output_type": "display_data"
    }
   ],
   "source": [
    "from sklearn.metrics import confusion_matrix\n",
    "%matplotlib inline\n",
    "\n",
    "y_pred = clf5.predict(X_test)\n",
    "cm=confusion_matrix(y_test,y_pred)\n",
    "conf_matrix=pd.DataFrame(data=cm,columns=['Predicted:0','Predicted:1'],index=['Actual:0','Actual:1'])\n",
    "plt.figure(figsize = (8,5))\n",
    "sns.heatmap(conf_matrix, annot=True,fmt='d',cmap=\"YlGnBu\")"
   ]
  },
  {
   "cell_type": "code",
   "execution_count": 54,
   "metadata": {},
   "outputs": [
    {
     "name": "stdout",
     "output_type": "stream",
     "text": [
      "              precision    recall  f1-score   support\n",
      "\n",
      "           0       1.00      0.99      1.00     85308\n",
      "           1       0.15      0.83      0.25       135\n",
      "\n",
      "    accuracy                           0.99     85443\n",
      "   macro avg       0.57      0.91      0.62     85443\n",
      "weighted avg       1.00      0.99      0.99     85443\n",
      "\n"
     ]
    }
   ],
   "source": [
    "print(classification_report(y_test, y_pred))"
   ]
  },
  {
   "cell_type": "markdown",
   "metadata": {},
   "source": [
    "ADASYN"
   ]
  },
  {
   "cell_type": "code",
   "execution_count": 55,
   "metadata": {},
   "outputs": [],
   "source": [
    "from imblearn.over_sampling import ADASYN "
   ]
  },
  {
   "cell_type": "code",
   "execution_count": 56,
   "metadata": {},
   "outputs": [],
   "source": [
    "X, y = splitXY(df, 'Class')\n",
    "X_train, X_test, y_train, y_test = make_train_test_split(X=X, y=y, test_size=0.3, random_state=1)\n",
    "X_train = X_train[selected_vars] #select the variables from variable selection proces\n",
    "X_test = X_test[selected_vars]"
   ]
  },
  {
   "cell_type": "code",
   "execution_count": 57,
   "metadata": {},
   "outputs": [],
   "source": [
    "ada = ADASYN()\n",
    "adaX, aday = ada.fit_sample(X_train, y_train)"
   ]
  },
  {
   "cell_type": "code",
   "execution_count": 58,
   "metadata": {},
   "outputs": [],
   "source": [
    "clf4 = build_model(adaX, aday)"
   ]
  },
  {
   "cell_type": "code",
   "execution_count": 59,
   "metadata": {},
   "outputs": [],
   "source": [
    "model_eval_train, model_eval_test, cf_matrix_train, cf_matrix_test = model_eval_data(clf4, X_train, y_train, \n",
    "                                                         X_test, y_test, \n",
    "                                                         model_eval_train, \n",
    "                                                         model_eval_test,\n",
    "                                                         Name='ADASYN LogisticRegression')"
   ]
  },
  {
   "cell_type": "code",
   "execution_count": 60,
   "metadata": {},
   "outputs": [
    {
     "data": {
      "text/html": [
       "<div>\n",
       "<style scoped>\n",
       "    .dataframe tbody tr th:only-of-type {\n",
       "        vertical-align: middle;\n",
       "    }\n",
       "\n",
       "    .dataframe tbody tr th {\n",
       "        vertical-align: top;\n",
       "    }\n",
       "\n",
       "    .dataframe thead th {\n",
       "        text-align: right;\n",
       "    }\n",
       "</style>\n",
       "<table border=\"1\" class=\"dataframe\">\n",
       "  <thead>\n",
       "    <tr style=\"text-align: right;\">\n",
       "      <th></th>\n",
       "      <th>precision</th>\n",
       "      <th>recall</th>\n",
       "      <th>f1-score</th>\n",
       "      <th>accuracy</th>\n",
       "      <th>ROC</th>\n",
       "    </tr>\n",
       "  </thead>\n",
       "  <tbody>\n",
       "    <tr>\n",
       "      <th>imbalanced data - LogisticRegression</th>\n",
       "      <td>0.897638</td>\n",
       "      <td>0.638655</td>\n",
       "      <td>0.746318</td>\n",
       "      <td>0.999223</td>\n",
       "      <td>0.974718</td>\n",
       "    </tr>\n",
       "    <tr>\n",
       "      <th>imbalanced data - LogisticRegression(without FS)</th>\n",
       "      <td>0.719764</td>\n",
       "      <td>0.683473</td>\n",
       "      <td>0.701149</td>\n",
       "      <td>0.998957</td>\n",
       "      <td>0.933974</td>\n",
       "    </tr>\n",
       "    <tr>\n",
       "      <th>RandomOversampling data</th>\n",
       "      <td>0.083702</td>\n",
       "      <td>0.901961</td>\n",
       "      <td>0.153187</td>\n",
       "      <td>0.982143</td>\n",
       "      <td>0.979792</td>\n",
       "    </tr>\n",
       "    <tr>\n",
       "      <th>SMOTE - LogisticRegression</th>\n",
       "      <td>0.057586</td>\n",
       "      <td>0.904348</td>\n",
       "      <td>0.108277</td>\n",
       "      <td>0.974223</td>\n",
       "      <td>0.980405</td>\n",
       "    </tr>\n",
       "    <tr>\n",
       "      <th>Borderline-SMOTE - LogisticRegression</th>\n",
       "      <td>0.172622</td>\n",
       "      <td>0.879552</td>\n",
       "      <td>0.288603</td>\n",
       "      <td>0.992235</td>\n",
       "      <td>0.948088</td>\n",
       "    </tr>\n",
       "    <tr>\n",
       "      <th>ADASYN LogisticRegression</th>\n",
       "      <td>0.016256</td>\n",
       "      <td>0.952381</td>\n",
       "      <td>0.031967</td>\n",
       "      <td>0.896712</td>\n",
       "      <td>0.980465</td>\n",
       "    </tr>\n",
       "  </tbody>\n",
       "</table>\n",
       "</div>"
      ],
      "text/plain": [
       "                                                  precision    recall  \\\n",
       "imbalanced data - LogisticRegression               0.897638  0.638655   \n",
       "imbalanced data - LogisticRegression(without FS)   0.719764  0.683473   \n",
       "RandomOversampling data                            0.083702  0.901961   \n",
       "SMOTE - LogisticRegression                         0.057586  0.904348   \n",
       "Borderline-SMOTE - LogisticRegression              0.172622  0.879552   \n",
       "ADASYN LogisticRegression                          0.016256  0.952381   \n",
       "\n",
       "                                                  f1-score  accuracy       ROC  \n",
       "imbalanced data - LogisticRegression              0.746318  0.999223  0.974718  \n",
       "imbalanced data - LogisticRegression(without FS)  0.701149  0.998957  0.933974  \n",
       "RandomOversampling data                           0.153187  0.982143  0.979792  \n",
       "SMOTE - LogisticRegression                        0.108277  0.974223  0.980405  \n",
       "Borderline-SMOTE - LogisticRegression             0.288603  0.992235  0.948088  \n",
       "ADASYN LogisticRegression                         0.031967  0.896712  0.980465  "
      ]
     },
     "execution_count": 60,
     "metadata": {},
     "output_type": "execute_result"
    }
   ],
   "source": [
    "model_eval_train"
   ]
  },
  {
   "cell_type": "code",
   "execution_count": 61,
   "metadata": {},
   "outputs": [
    {
     "data": {
      "text/html": [
       "<div>\n",
       "<style scoped>\n",
       "    .dataframe tbody tr th:only-of-type {\n",
       "        vertical-align: middle;\n",
       "    }\n",
       "\n",
       "    .dataframe tbody tr th {\n",
       "        vertical-align: top;\n",
       "    }\n",
       "\n",
       "    .dataframe thead th {\n",
       "        text-align: right;\n",
       "    }\n",
       "</style>\n",
       "<table border=\"1\" class=\"dataframe\">\n",
       "  <thead>\n",
       "    <tr style=\"text-align: right;\">\n",
       "      <th></th>\n",
       "      <th>precision</th>\n",
       "      <th>recall</th>\n",
       "      <th>f1-score</th>\n",
       "      <th>accuracy</th>\n",
       "      <th>ROC</th>\n",
       "    </tr>\n",
       "  </thead>\n",
       "  <tbody>\n",
       "    <tr>\n",
       "      <th>imbalanced data - LogisticRegression</th>\n",
       "      <td>0.846154</td>\n",
       "      <td>0.570370</td>\n",
       "      <td>0.681416</td>\n",
       "      <td>0.999157</td>\n",
       "      <td>0.968780</td>\n",
       "    </tr>\n",
       "    <tr>\n",
       "      <th>imbalanced data - LogisticRegression(without FS)</th>\n",
       "      <td>0.705882</td>\n",
       "      <td>0.622222</td>\n",
       "      <td>0.661417</td>\n",
       "      <td>0.998993</td>\n",
       "      <td>0.881542</td>\n",
       "    </tr>\n",
       "    <tr>\n",
       "      <th>RandomOversampling data</th>\n",
       "      <td>0.073354</td>\n",
       "      <td>0.866667</td>\n",
       "      <td>0.135260</td>\n",
       "      <td>0.982491</td>\n",
       "      <td>0.981285</td>\n",
       "    </tr>\n",
       "    <tr>\n",
       "      <th>SMOTE - LogisticRegression</th>\n",
       "      <td>0.057971</td>\n",
       "      <td>0.897959</td>\n",
       "      <td>0.108911</td>\n",
       "      <td>0.974720</td>\n",
       "      <td>0.977955</td>\n",
       "    </tr>\n",
       "    <tr>\n",
       "      <th>Borderline-SMOTE - LogisticRegression</th>\n",
       "      <td>0.147175</td>\n",
       "      <td>0.829630</td>\n",
       "      <td>0.250000</td>\n",
       "      <td>0.992135</td>\n",
       "      <td>0.933410</td>\n",
       "    </tr>\n",
       "    <tr>\n",
       "      <th>ADASYN LogisticRegression</th>\n",
       "      <td>0.014632</td>\n",
       "      <td>0.970370</td>\n",
       "      <td>0.028829</td>\n",
       "      <td>0.896703</td>\n",
       "      <td>0.982815</td>\n",
       "    </tr>\n",
       "  </tbody>\n",
       "</table>\n",
       "</div>"
      ],
      "text/plain": [
       "                                                  precision    recall  \\\n",
       "imbalanced data - LogisticRegression               0.846154  0.570370   \n",
       "imbalanced data - LogisticRegression(without FS)   0.705882  0.622222   \n",
       "RandomOversampling data                            0.073354  0.866667   \n",
       "SMOTE - LogisticRegression                         0.057971  0.897959   \n",
       "Borderline-SMOTE - LogisticRegression              0.147175  0.829630   \n",
       "ADASYN LogisticRegression                          0.014632  0.970370   \n",
       "\n",
       "                                                  f1-score  accuracy       ROC  \n",
       "imbalanced data - LogisticRegression              0.681416  0.999157  0.968780  \n",
       "imbalanced data - LogisticRegression(without FS)  0.661417  0.998993  0.881542  \n",
       "RandomOversampling data                           0.135260  0.982491  0.981285  \n",
       "SMOTE - LogisticRegression                        0.108911  0.974720  0.977955  \n",
       "Borderline-SMOTE - LogisticRegression             0.250000  0.992135  0.933410  \n",
       "ADASYN LogisticRegression                         0.028829  0.896703  0.982815  "
      ]
     },
     "execution_count": 61,
     "metadata": {},
     "output_type": "execute_result"
    }
   ],
   "source": [
    "model_eval_test"
   ]
  },
  {
   "cell_type": "code",
   "execution_count": 62,
   "metadata": {},
   "outputs": [
    {
     "data": {
      "text/plain": [
       "<matplotlib.axes._subplots.AxesSubplot at 0x1bb0e5cef98>"
      ]
     },
     "execution_count": 62,
     "metadata": {},
     "output_type": "execute_result"
    },
    {
     "data": {
      "image/png": "[encoded data removed]",
      "text/plain": [
       "<Figure size 576x360 with 2 Axes>"
      ]
     },
     "metadata": {
      "needs_background": "light"
     },
     "output_type": "display_data"
    }
   ],
   "source": [
    "from sklearn.metrics import confusion_matrix\n",
    "%matplotlib inline\n",
    "\n",
    "y_pred = clf4.predict(X_test)\n",
    "cm=confusion_matrix(y_test,y_pred)\n",
    "conf_matrix=pd.DataFrame(data=cm,columns=['Predicted:0','Predicted:1'],index=['Actual:0','Actual:1'])\n",
    "plt.figure(figsize = (8,5))\n",
    "sns.heatmap(conf_matrix, annot=True,fmt='d',cmap=\"YlGnBu\")"
   ]
  },
  {
   "cell_type": "code",
   "execution_count": 63,
   "metadata": {},
   "outputs": [
    {
     "name": "stdout",
     "output_type": "stream",
     "text": [
      "              precision    recall  f1-score   support\n",
      "\n",
      "           0       1.00      0.90      0.95     85308\n",
      "           1       0.01      0.97      0.03       135\n",
      "\n",
      "    accuracy                           0.90     85443\n",
      "   macro avg       0.51      0.93      0.49     85443\n",
      "weighted avg       1.00      0.90      0.94     85443\n",
      "\n"
     ]
    }
   ],
   "source": [
    "print(classification_report(y_test, y_pred))"
   ]
  },
  {
   "cell_type": "markdown",
   "metadata": {},
   "source": [
    "# Comparison of different models"
   ]
  },
  {
   "cell_type": "code",
   "execution_count": 64,
   "metadata": {},
   "outputs": [],
   "source": [
    "final_eval_test = model_eval_test.copy(deep=True)"
   ]
  },
  {
   "cell_type": "code",
   "execution_count": 65,
   "metadata": {},
   "outputs": [],
   "source": [
    "model_eval_test.reset_index(inplace=True)"
   ]
  },
  {
   "cell_type": "code",
   "execution_count": 66,
   "metadata": {},
   "outputs": [],
   "source": [
    "model_eval_test.rename({'index': 'Method'}, axis=1, inplace=True)"
   ]
  },
  {
   "cell_type": "markdown",
   "metadata": {},
   "source": [
    "General Result"
   ]
  },
  {
   "cell_type": "code",
   "execution_count": 67,
   "metadata": {},
   "outputs": [
    {
     "data": {
      "text/html": [
       "<div>\n",
       "<style scoped>\n",
       "    .dataframe tbody tr th:only-of-type {\n",
       "        vertical-align: middle;\n",
       "    }\n",
       "\n",
       "    .dataframe tbody tr th {\n",
       "        vertical-align: top;\n",
       "    }\n",
       "\n",
       "    .dataframe thead th {\n",
       "        text-align: right;\n",
       "    }\n",
       "</style>\n",
       "<table border=\"1\" class=\"dataframe\">\n",
       "  <thead>\n",
       "    <tr style=\"text-align: right;\">\n",
       "      <th></th>\n",
       "      <th>Method</th>\n",
       "      <th>precision</th>\n",
       "      <th>recall</th>\n",
       "      <th>f1-score</th>\n",
       "      <th>accuracy</th>\n",
       "      <th>ROC</th>\n",
       "    </tr>\n",
       "  </thead>\n",
       "  <tbody>\n",
       "    <tr>\n",
       "      <th>0</th>\n",
       "      <td>imbalanced data - LogisticRegression</td>\n",
       "      <td>0.846154</td>\n",
       "      <td>0.570370</td>\n",
       "      <td>0.681416</td>\n",
       "      <td>0.999157</td>\n",
       "      <td>0.968780</td>\n",
       "    </tr>\n",
       "    <tr>\n",
       "      <th>1</th>\n",
       "      <td>imbalanced data - LogisticRegression(without FS)</td>\n",
       "      <td>0.705882</td>\n",
       "      <td>0.622222</td>\n",
       "      <td>0.661417</td>\n",
       "      <td>0.998993</td>\n",
       "      <td>0.881542</td>\n",
       "    </tr>\n",
       "    <tr>\n",
       "      <th>2</th>\n",
       "      <td>RandomOversampling data</td>\n",
       "      <td>0.073354</td>\n",
       "      <td>0.866667</td>\n",
       "      <td>0.135260</td>\n",
       "      <td>0.982491</td>\n",
       "      <td>0.981285</td>\n",
       "    </tr>\n",
       "    <tr>\n",
       "      <th>3</th>\n",
       "      <td>SMOTE - LogisticRegression</td>\n",
       "      <td>0.057971</td>\n",
       "      <td>0.897959</td>\n",
       "      <td>0.108911</td>\n",
       "      <td>0.974720</td>\n",
       "      <td>0.977955</td>\n",
       "    </tr>\n",
       "    <tr>\n",
       "      <th>4</th>\n",
       "      <td>Borderline-SMOTE - LogisticRegression</td>\n",
       "      <td>0.147175</td>\n",
       "      <td>0.829630</td>\n",
       "      <td>0.250000</td>\n",
       "      <td>0.992135</td>\n",
       "      <td>0.933410</td>\n",
       "    </tr>\n",
       "    <tr>\n",
       "      <th>5</th>\n",
       "      <td>ADASYN LogisticRegression</td>\n",
       "      <td>0.014632</td>\n",
       "      <td>0.970370</td>\n",
       "      <td>0.028829</td>\n",
       "      <td>0.896703</td>\n",
       "      <td>0.982815</td>\n",
       "    </tr>\n",
       "  </tbody>\n",
       "</table>\n",
       "</div>"
      ],
      "text/plain": [
       "                                             Method  precision    recall  \\\n",
       "0              imbalanced data - LogisticRegression   0.846154  0.570370   \n",
       "1  imbalanced data - LogisticRegression(without FS)   0.705882  0.622222   \n",
       "2                           RandomOversampling data   0.073354  0.866667   \n",
       "3                        SMOTE - LogisticRegression   0.057971  0.897959   \n",
       "4             Borderline-SMOTE - LogisticRegression   0.147175  0.829630   \n",
       "5                         ADASYN LogisticRegression   0.014632  0.970370   \n",
       "\n",
       "   f1-score  accuracy       ROC  \n",
       "0  0.681416  0.999157  0.968780  \n",
       "1  0.661417  0.998993  0.881542  \n",
       "2  0.135260  0.982491  0.981285  \n",
       "3  0.108911  0.974720  0.977955  \n",
       "4  0.250000  0.992135  0.933410  \n",
       "5  0.028829  0.896703  0.982815  "
      ]
     },
     "execution_count": 67,
     "metadata": {},
     "output_type": "execute_result"
    }
   ],
   "source": [
    "model_eval_test"
   ]
  },
  {
   "cell_type": "code",
   "execution_count": 68,
   "metadata": {},
   "outputs": [],
   "source": [
    "tidy = model_eval_test.melt(id_vars='Method').rename(columns=str.title)"
   ]
  },
  {
   "cell_type": "code",
   "execution_count": 88,
   "metadata": {},
   "outputs": [
    {
     "data": {
      "text/html": [
       "<div>\n",
       "<style scoped>\n",
       "    .dataframe tbody tr th:only-of-type {\n",
       "        vertical-align: middle;\n",
       "    }\n",
       "\n",
       "    .dataframe tbody tr th {\n",
       "        vertical-align: top;\n",
       "    }\n",
       "\n",
       "    .dataframe thead th {\n",
       "        text-align: right;\n",
       "    }\n",
       "</style>\n",
       "<table border=\"1\" class=\"dataframe\">\n",
       "  <thead>\n",
       "    <tr style=\"text-align: right;\">\n",
       "      <th></th>\n",
       "      <th>Method</th>\n",
       "      <th>Variable</th>\n",
       "      <th>Value</th>\n",
       "    </tr>\n",
       "  </thead>\n",
       "  <tbody>\n",
       "    <tr>\n",
       "      <th>0</th>\n",
       "      <td>imbalanced data - LogisticRegression</td>\n",
       "      <td>precision</td>\n",
       "      <td>0.846154</td>\n",
       "    </tr>\n",
       "    <tr>\n",
       "      <th>1</th>\n",
       "      <td>imbalanced data - LogisticRegression(without FS)</td>\n",
       "      <td>precision</td>\n",
       "      <td>0.705882</td>\n",
       "    </tr>\n",
       "    <tr>\n",
       "      <th>2</th>\n",
       "      <td>RandomOversampling data</td>\n",
       "      <td>precision</td>\n",
       "      <td>0.073354</td>\n",
       "    </tr>\n",
       "    <tr>\n",
       "      <th>3</th>\n",
       "      <td>SMOTE - LogisticRegression</td>\n",
       "      <td>precision</td>\n",
       "      <td>0.057971</td>\n",
       "    </tr>\n",
       "    <tr>\n",
       "      <th>4</th>\n",
       "      <td>Borderline-SMOTE - LogisticRegression</td>\n",
       "      <td>precision</td>\n",
       "      <td>0.147175</td>\n",
       "    </tr>\n",
       "    <tr>\n",
       "      <th>5</th>\n",
       "      <td>ADASYN LogisticRegression</td>\n",
       "      <td>precision</td>\n",
       "      <td>0.014632</td>\n",
       "    </tr>\n",
       "    <tr>\n",
       "      <th>6</th>\n",
       "      <td>imbalanced data - LogisticRegression</td>\n",
       "      <td>recall</td>\n",
       "      <td>0.570370</td>\n",
       "    </tr>\n",
       "    <tr>\n",
       "      <th>7</th>\n",
       "      <td>imbalanced data - LogisticRegression(without FS)</td>\n",
       "      <td>recall</td>\n",
       "      <td>0.622222</td>\n",
       "    </tr>\n",
       "    <tr>\n",
       "      <th>8</th>\n",
       "      <td>RandomOversampling data</td>\n",
       "      <td>recall</td>\n",
       "      <td>0.866667</td>\n",
       "    </tr>\n",
       "    <tr>\n",
       "      <th>9</th>\n",
       "      <td>SMOTE - LogisticRegression</td>\n",
       "      <td>recall</td>\n",
       "      <td>0.897959</td>\n",
       "    </tr>\n",
       "    <tr>\n",
       "      <th>10</th>\n",
       "      <td>Borderline-SMOTE - LogisticRegression</td>\n",
       "      <td>recall</td>\n",
       "      <td>0.829630</td>\n",
       "    </tr>\n",
       "    <tr>\n",
       "      <th>11</th>\n",
       "      <td>ADASYN LogisticRegression</td>\n",
       "      <td>recall</td>\n",
       "      <td>0.970370</td>\n",
       "    </tr>\n",
       "    <tr>\n",
       "      <th>12</th>\n",
       "      <td>imbalanced data - LogisticRegression</td>\n",
       "      <td>f1-score</td>\n",
       "      <td>0.681416</td>\n",
       "    </tr>\n",
       "    <tr>\n",
       "      <th>13</th>\n",
       "      <td>imbalanced data - LogisticRegression(without FS)</td>\n",
       "      <td>f1-score</td>\n",
       "      <td>0.661417</td>\n",
       "    </tr>\n",
       "    <tr>\n",
       "      <th>14</th>\n",
       "      <td>RandomOversampling data</td>\n",
       "      <td>f1-score</td>\n",
       "      <td>0.135260</td>\n",
       "    </tr>\n",
       "    <tr>\n",
       "      <th>15</th>\n",
       "      <td>SMOTE - LogisticRegression</td>\n",
       "      <td>f1-score</td>\n",
       "      <td>0.108911</td>\n",
       "    </tr>\n",
       "    <tr>\n",
       "      <th>16</th>\n",
       "      <td>Borderline-SMOTE - LogisticRegression</td>\n",
       "      <td>f1-score</td>\n",
       "      <td>0.250000</td>\n",
       "    </tr>\n",
       "    <tr>\n",
       "      <th>17</th>\n",
       "      <td>ADASYN LogisticRegression</td>\n",
       "      <td>f1-score</td>\n",
       "      <td>0.028829</td>\n",
       "    </tr>\n",
       "    <tr>\n",
       "      <th>18</th>\n",
       "      <td>imbalanced data - LogisticRegression</td>\n",
       "      <td>accuracy</td>\n",
       "      <td>0.999157</td>\n",
       "    </tr>\n",
       "    <tr>\n",
       "      <th>19</th>\n",
       "      <td>imbalanced data - LogisticRegression(without FS)</td>\n",
       "      <td>accuracy</td>\n",
       "      <td>0.998993</td>\n",
       "    </tr>\n",
       "    <tr>\n",
       "      <th>20</th>\n",
       "      <td>RandomOversampling data</td>\n",
       "      <td>accuracy</td>\n",
       "      <td>0.982491</td>\n",
       "    </tr>\n",
       "    <tr>\n",
       "      <th>21</th>\n",
       "      <td>SMOTE - LogisticRegression</td>\n",
       "      <td>accuracy</td>\n",
       "      <td>0.974720</td>\n",
       "    </tr>\n",
       "    <tr>\n",
       "      <th>22</th>\n",
       "      <td>Borderline-SMOTE - LogisticRegression</td>\n",
       "      <td>accuracy</td>\n",
       "      <td>0.992135</td>\n",
       "    </tr>\n",
       "    <tr>\n",
       "      <th>23</th>\n",
       "      <td>ADASYN LogisticRegression</td>\n",
       "      <td>accuracy</td>\n",
       "      <td>0.896703</td>\n",
       "    </tr>\n",
       "    <tr>\n",
       "      <th>24</th>\n",
       "      <td>imbalanced data - LogisticRegression</td>\n",
       "      <td>ROC</td>\n",
       "      <td>0.968780</td>\n",
       "    </tr>\n",
       "    <tr>\n",
       "      <th>25</th>\n",
       "      <td>imbalanced data - LogisticRegression(without FS)</td>\n",
       "      <td>ROC</td>\n",
       "      <td>0.881542</td>\n",
       "    </tr>\n",
       "    <tr>\n",
       "      <th>26</th>\n",
       "      <td>RandomOversampling data</td>\n",
       "      <td>ROC</td>\n",
       "      <td>0.981285</td>\n",
       "    </tr>\n",
       "    <tr>\n",
       "      <th>27</th>\n",
       "      <td>SMOTE - LogisticRegression</td>\n",
       "      <td>ROC</td>\n",
       "      <td>0.977955</td>\n",
       "    </tr>\n",
       "    <tr>\n",
       "      <th>28</th>\n",
       "      <td>Borderline-SMOTE - LogisticRegression</td>\n",
       "      <td>ROC</td>\n",
       "      <td>0.933410</td>\n",
       "    </tr>\n",
       "    <tr>\n",
       "      <th>29</th>\n",
       "      <td>ADASYN LogisticRegression</td>\n",
       "      <td>ROC</td>\n",
       "      <td>0.982815</td>\n",
       "    </tr>\n",
       "  </tbody>\n",
       "</table>\n",
       "</div>"
      ],
      "text/plain": [
       "                                              Method   Variable     Value\n",
       "0               imbalanced data - LogisticRegression  precision  0.846154\n",
       "1   imbalanced data - LogisticRegression(without FS)  precision  0.705882\n",
       "2                            RandomOversampling data  precision  0.073354\n",
       "3                         SMOTE - LogisticRegression  precision  0.057971\n",
       "4              Borderline-SMOTE - LogisticRegression  precision  0.147175\n",
       "5                          ADASYN LogisticRegression  precision  0.014632\n",
       "6               imbalanced data - LogisticRegression     recall  0.570370\n",
       "7   imbalanced data - LogisticRegression(without FS)     recall  0.622222\n",
       "8                            RandomOversampling data     recall  0.866667\n",
       "9                         SMOTE - LogisticRegression     recall  0.897959\n",
       "10             Borderline-SMOTE - LogisticRegression     recall  0.829630\n",
       "11                         ADASYN LogisticRegression     recall  0.970370\n",
       "12              imbalanced data - LogisticRegression   f1-score  0.681416\n",
       "13  imbalanced data - LogisticRegression(without FS)   f1-score  0.661417\n",
       "14                           RandomOversampling data   f1-score  0.135260\n",
       "15                        SMOTE - LogisticRegression   f1-score  0.108911\n",
       "16             Borderline-SMOTE - LogisticRegression   f1-score  0.250000\n",
       "17                         ADASYN LogisticRegression   f1-score  0.028829\n",
       "18              imbalanced data - LogisticRegression   accuracy  0.999157\n",
       "19  imbalanced data - LogisticRegression(without FS)   accuracy  0.998993\n",
       "20                           RandomOversampling data   accuracy  0.982491\n",
       "21                        SMOTE - LogisticRegression   accuracy  0.974720\n",
       "22             Borderline-SMOTE - LogisticRegression   accuracy  0.992135\n",
       "23                         ADASYN LogisticRegression   accuracy  0.896703\n",
       "24              imbalanced data - LogisticRegression        ROC  0.968780\n",
       "25  imbalanced data - LogisticRegression(without FS)        ROC  0.881542\n",
       "26                           RandomOversampling data        ROC  0.981285\n",
       "27                        SMOTE - LogisticRegression        ROC  0.977955\n",
       "28             Borderline-SMOTE - LogisticRegression        ROC  0.933410\n",
       "29                         ADASYN LogisticRegression        ROC  0.982815"
      ]
     },
     "execution_count": 88,
     "metadata": {},
     "output_type": "execute_result"
    }
   ],
   "source": [
    "tidy"
   ]
  },
  {
   "cell_type": "code",
   "execution_count": 69,
   "metadata": {},
   "outputs": [
    {
     "data": {
      "image/png": "[encoded data removed]",
      "text/plain": [
       "<Figure size 1080x720 with 1 Axes>"
      ]
     },
     "metadata": {
      "needs_background": "light"
     },
     "output_type": "display_data"
    }
   ],
   "source": [
    "plt.figure(figsize=(15,10))\n",
    "sns.barplot(x='Variable', y='Value', hue='Method', data=tidy)\n",
    "plt.tight_layout()"
   ]
  },
  {
   "cell_type": "markdown",
   "metadata": {},
   "source": [
    "Focus on Minority class"
   ]
  },
  {
   "cell_type": "code",
   "execution_count": 70,
   "metadata": {},
   "outputs": [],
   "source": [
    "data = {'F1 score':[0.68,0.66,0.14,0.11,0.25,0.03],\n",
    "       'Recall':[0.57,0.62,0.87,0.90,0.83,0.97],\n",
    "        'Precision':[0.85,0.71,0.07,0.06,0.15,0.01],\n",
    "       'Method':['imbalanced data - LogisticRegression','imbalanced data - LogisticRegression(without FS)','RandomOversampling data','SMOTE - LogisticRegression','Borderline-SMOTE - LogisticRegression','ADASYN LogisticRegression']}"
   ]
  },
  {
   "cell_type": "code",
   "execution_count": 105,
   "metadata": {},
   "outputs": [
    {
     "data": {
      "text/html": [
       "<div>\n",
       "<style scoped>\n",
       "    .dataframe tbody tr th:only-of-type {\n",
       "        vertical-align: middle;\n",
       "    }\n",
       "\n",
       "    .dataframe tbody tr th {\n",
       "        vertical-align: top;\n",
       "    }\n",
       "\n",
       "    .dataframe thead th {\n",
       "        text-align: right;\n",
       "    }\n",
       "</style>\n",
       "<table border=\"1\" class=\"dataframe\">\n",
       "  <thead>\n",
       "    <tr style=\"text-align: right;\">\n",
       "      <th></th>\n",
       "      <th>F1 score</th>\n",
       "      <th>Recall</th>\n",
       "      <th>Precision</th>\n",
       "      <th>Method</th>\n",
       "    </tr>\n",
       "  </thead>\n",
       "  <tbody>\n",
       "    <tr>\n",
       "      <th>0</th>\n",
       "      <td>0.68</td>\n",
       "      <td>0.57</td>\n",
       "      <td>0.85</td>\n",
       "      <td>imbalanced data - LogisticRegression</td>\n",
       "    </tr>\n",
       "    <tr>\n",
       "      <th>1</th>\n",
       "      <td>0.66</td>\n",
       "      <td>0.62</td>\n",
       "      <td>0.71</td>\n",
       "      <td>imbalanced data - LogisticRegression(without FS)</td>\n",
       "    </tr>\n",
       "    <tr>\n",
       "      <th>2</th>\n",
       "      <td>0.14</td>\n",
       "      <td>0.87</td>\n",
       "      <td>0.07</td>\n",
       "      <td>RandomOversampling data</td>\n",
       "    </tr>\n",
       "    <tr>\n",
       "      <th>3</th>\n",
       "      <td>0.11</td>\n",
       "      <td>0.90</td>\n",
       "      <td>0.06</td>\n",
       "      <td>SMOTE - LogisticRegression</td>\n",
       "    </tr>\n",
       "    <tr>\n",
       "      <th>4</th>\n",
       "      <td>0.25</td>\n",
       "      <td>0.83</td>\n",
       "      <td>0.15</td>\n",
       "      <td>Borderline-SMOTE - LogisticRegression</td>\n",
       "    </tr>\n",
       "    <tr>\n",
       "      <th>5</th>\n",
       "      <td>0.03</td>\n",
       "      <td>0.97</td>\n",
       "      <td>0.01</td>\n",
       "      <td>ADASYN LogisticRegression</td>\n",
       "    </tr>\n",
       "  </tbody>\n",
       "</table>\n",
       "</div>"
      ],
      "text/plain": [
       "   F1 score  Recall  Precision  \\\n",
       "0      0.68    0.57       0.85   \n",
       "1      0.66    0.62       0.71   \n",
       "2      0.14    0.87       0.07   \n",
       "3      0.11    0.90       0.06   \n",
       "4      0.25    0.83       0.15   \n",
       "5      0.03    0.97       0.01   \n",
       "\n",
       "                                             Method  \n",
       "0              imbalanced data - LogisticRegression  \n",
       "1  imbalanced data - LogisticRegression(without FS)  \n",
       "2                           RandomOversampling data  \n",
       "3                        SMOTE - LogisticRegression  \n",
       "4             Borderline-SMOTE - LogisticRegression  \n",
       "5                         ADASYN LogisticRegression  "
      ]
     },
     "execution_count": 105,
     "metadata": {},
     "output_type": "execute_result"
    }
   ],
   "source": [
    "from pandas import Series,DataFrame\n",
    "import pandas as pd\n",
    "\n",
    "df_analysis = DataFrame(data)\n",
    "df_analysis"
   ]
  },
  {
   "cell_type": "code",
   "execution_count": 106,
   "metadata": {},
   "outputs": [
    {
     "data": {
      "image/png": "[encoded data removed]",
      "text/plain": [
       "<Figure size 1080x720 with 1 Axes>"
      ]
     },
     "metadata": {
      "needs_background": "light"
     },
     "output_type": "display_data"
    }
   ],
   "source": [
    "df_analysis_tidy = df_analysis.melt(id_vars='Method').rename(columns=str.title)\n",
    "plt.figure(figsize=(15,10))\n",
    "sns.barplot(x='Variable', y='Value', hue='Method', data=df_analysis_tidy)\n",
    "plt.tight_layout()"
   ]
  },
  {
   "cell_type": "markdown",
   "metadata": {},
   "source": [
    "# Threshold"
   ]
  },
  {
   "cell_type": "markdown",
   "metadata": {},
   "source": [
    "Since the model is predicting Fraud too many type II errors is not advisable. A False Negative ( ignoring the probability of Fraud when there actualy is one) is more dangerous than a False Positive in this case. Hence inorder to increase the sensitivity, threshold can be lowered.\n",
    "Sensitivity is the recall rate."
   ]
  },
  {
   "cell_type": "code",
   "execution_count": 107,
   "metadata": {},
   "outputs": [],
   "source": [
    "X, y = splitXY(df, 'Class')\n",
    "X_train, X_test, y_train, y_test = make_train_test_split(X=X, y=y, test_size=0.3, random_state=1)"
   ]
  },
  {
   "cell_type": "code",
   "execution_count": 108,
   "metadata": {},
   "outputs": [],
   "source": [
    "X_train = X_train[selected_vars] #select the variables from variable selection proces\n",
    "X_test = X_test[selected_vars]"
   ]
  },
  {
   "cell_type": "code",
   "execution_count": 109,
   "metadata": {},
   "outputs": [],
   "source": [
    "clf = build_model(X_train, y_train)"
   ]
  },
  {
   "cell_type": "markdown",
   "metadata": {},
   "source": [
    "The smaller the threshold, the larger the recall value, and the more the model can find out the number of stolen credit cards, but the price in exchange is that the number of misjudgments is also larger. As the threshold value increases, the recall value gradually decreases, the precision value gradually increases, and the number of misjudgments also decreases. By adjusting the model threshold, control the model's anti-credit card fraud strength. If you want to find out more stolen credit cards, set a smaller threshold, otherwise, set a larger threshold."
   ]
  },
  {
   "cell_type": "code",
   "execution_count": 116,
   "metadata": {},
   "outputs": [
    {
     "name": "stderr",
     "output_type": "stream",
     "text": [
      "C:\\anaconda\\lib\\site-packages\\sklearn\\utils\\validation.py:70: FutureWarning: Pass threshold=0.0 as keyword args. From version 0.25 passing these as positional arguments will result in an error\n",
      "  FutureWarning)\n"
     ]
    },
    {
     "name": "stdout",
     "output_type": "stream",
     "text": [
      "With 0.0 threshold the Confusion Matrix is  \n",
      " [[    0 85308]\n",
      " [    0   135]] \n",
      " with 135 correct predictions and 0 Type II errors( False Negatives) \n",
      "\n",
      " Sensitivity:  1.0 Specificity:  0.0 \n",
      "\n",
      "\n",
      "\n"
     ]
    },
    {
     "name": "stderr",
     "output_type": "stream",
     "text": [
      "C:\\anaconda\\lib\\site-packages\\sklearn\\utils\\validation.py:70: FutureWarning: Pass threshold=0.1 as keyword args. From version 0.25 passing these as positional arguments will result in an error\n",
      "  FutureWarning)\n"
     ]
    },
    {
     "name": "stdout",
     "output_type": "stream",
     "text": [
      "With 0.1 threshold the Confusion Matrix is  \n",
      " [[85277    31]\n",
      " [   33   102]] \n",
      " with 85379 correct predictions and 33 Type II errors( False Negatives) \n",
      "\n",
      " Sensitivity:  0.7555555555555555 Specificity:  0.9996366108688517 \n",
      "\n",
      "\n",
      "\n"
     ]
    },
    {
     "name": "stderr",
     "output_type": "stream",
     "text": [
      "C:\\anaconda\\lib\\site-packages\\sklearn\\utils\\validation.py:70: FutureWarning: Pass threshold=0.2 as keyword args. From version 0.25 passing these as positional arguments will result in an error\n",
      "  FutureWarning)\n"
     ]
    },
    {
     "name": "stdout",
     "output_type": "stream",
     "text": [
      "With 0.2 threshold the Confusion Matrix is  \n",
      " [[85283    25]\n",
      " [   46    89]] \n",
      " with 85372 correct predictions and 46 Type II errors( False Negatives) \n",
      "\n",
      " Sensitivity:  0.6592592592592592 Specificity:  0.9997069442490739 \n",
      "\n",
      "\n",
      "\n"
     ]
    },
    {
     "name": "stderr",
     "output_type": "stream",
     "text": [
      "C:\\anaconda\\lib\\site-packages\\sklearn\\utils\\validation.py:70: FutureWarning: Pass threshold=0.3 as keyword args. From version 0.25 passing these as positional arguments will result in an error\n",
      "  FutureWarning)\n"
     ]
    },
    {
     "name": "stdout",
     "output_type": "stream",
     "text": [
      "With 0.3 threshold the Confusion Matrix is  \n",
      " [[85284    24]\n",
      " [   51    84]] \n",
      " with 85368 correct predictions and 51 Type II errors( False Negatives) \n",
      "\n",
      " Sensitivity:  0.6222222222222222 Specificity:  0.999718666479111 \n",
      "\n",
      "\n",
      "\n"
     ]
    },
    {
     "name": "stderr",
     "output_type": "stream",
     "text": [
      "C:\\anaconda\\lib\\site-packages\\sklearn\\utils\\validation.py:70: FutureWarning: Pass threshold=0.4 as keyword args. From version 0.25 passing these as positional arguments will result in an error\n",
      "  FutureWarning)\n"
     ]
    },
    {
     "name": "stdout",
     "output_type": "stream",
     "text": [
      "With 0.4 threshold the Confusion Matrix is  \n",
      " [[85290    18]\n",
      " [   56    79]] \n",
      " with 85369 correct predictions and 56 Type II errors( False Negatives) \n",
      "\n",
      " Sensitivity:  0.5851851851851851 Specificity:  0.9997889998593332 \n",
      "\n",
      "\n",
      "\n"
     ]
    },
    {
     "name": "stderr",
     "output_type": "stream",
     "text": [
      "C:\\anaconda\\lib\\site-packages\\sklearn\\utils\\validation.py:70: FutureWarning: Pass threshold=0.5 as keyword args. From version 0.25 passing these as positional arguments will result in an error\n",
      "  FutureWarning)\n"
     ]
    },
    {
     "name": "stdout",
     "output_type": "stream",
     "text": [
      "With 0.5 threshold the Confusion Matrix is  \n",
      " [[85294    14]\n",
      " [   58    77]] \n",
      " with 85371 correct predictions and 58 Type II errors( False Negatives) \n",
      "\n",
      " Sensitivity:  0.5703703703703704 Specificity:  0.9998358887794814 \n",
      "\n",
      "\n",
      "\n"
     ]
    },
    {
     "name": "stderr",
     "output_type": "stream",
     "text": [
      "C:\\anaconda\\lib\\site-packages\\sklearn\\utils\\validation.py:70: FutureWarning: Pass threshold=0.6 as keyword args. From version 0.25 passing these as positional arguments will result in an error\n",
      "  FutureWarning)\n"
     ]
    },
    {
     "name": "stdout",
     "output_type": "stream",
     "text": [
      "With 0.6 threshold the Confusion Matrix is  \n",
      " [[85295    13]\n",
      " [   60    75]] \n",
      " with 85370 correct predictions and 60 Type II errors( False Negatives) \n",
      "\n",
      " Sensitivity:  0.5555555555555556 Specificity:  0.9998476110095185 \n",
      "\n",
      "\n",
      "\n"
     ]
    },
    {
     "name": "stderr",
     "output_type": "stream",
     "text": [
      "C:\\anaconda\\lib\\site-packages\\sklearn\\utils\\validation.py:70: FutureWarning: Pass threshold=0.7 as keyword args. From version 0.25 passing these as positional arguments will result in an error\n",
      "  FutureWarning)\n"
     ]
    },
    {
     "name": "stdout",
     "output_type": "stream",
     "text": [
      "With 0.7 threshold the Confusion Matrix is  \n",
      " [[85296    12]\n",
      " [   62    73]] \n",
      " with 85369 correct predictions and 62 Type II errors( False Negatives) \n",
      "\n",
      " Sensitivity:  0.5407407407407407 Specificity:  0.9998593332395554 \n",
      "\n",
      "\n",
      "\n"
     ]
    },
    {
     "name": "stderr",
     "output_type": "stream",
     "text": [
      "C:\\anaconda\\lib\\site-packages\\sklearn\\utils\\validation.py:70: FutureWarning: Pass threshold=0.8 as keyword args. From version 0.25 passing these as positional arguments will result in an error\n",
      "  FutureWarning)\n",
      "C:\\anaconda\\lib\\site-packages\\sklearn\\utils\\validation.py:70: FutureWarning: Pass threshold=0.9 as keyword args. From version 0.25 passing these as positional arguments will result in an error\n",
      "  FutureWarning)\n"
     ]
    },
    {
     "name": "stdout",
     "output_type": "stream",
     "text": [
      "With 0.8 threshold the Confusion Matrix is  \n",
      " [[85296    12]\n",
      " [   64    71]] \n",
      " with 85367 correct predictions and 64 Type II errors( False Negatives) \n",
      "\n",
      " Sensitivity:  0.5259259259259259 Specificity:  0.9998593332395554 \n",
      "\n",
      "\n",
      "\n",
      "With 0.9 threshold the Confusion Matrix is  \n",
      " [[85297    11]\n",
      " [   74    61]] \n",
      " with 85358 correct predictions and 74 Type II errors( False Negatives) \n",
      "\n",
      " Sensitivity:  0.45185185185185184 Specificity:  0.9998710554695925 \n",
      "\n",
      "\n",
      "\n"
     ]
    },
    {
     "name": "stderr",
     "output_type": "stream",
     "text": [
      "C:\\anaconda\\lib\\site-packages\\sklearn\\utils\\validation.py:70: FutureWarning: Pass threshold=1.0 as keyword args. From version 0.25 passing these as positional arguments will result in an error\n",
      "  FutureWarning)\n"
     ]
    },
    {
     "name": "stdout",
     "output_type": "stream",
     "text": [
      "With 1.0 threshold the Confusion Matrix is  \n",
      " [[85308     0]\n",
      " [  135     0]] \n",
      " with 85308 correct predictions and 135 Type II errors( False Negatives) \n",
      "\n",
      " Sensitivity:  0.0 Specificity:  1.0 \n",
      "\n",
      "\n",
      "\n"
     ]
    }
   ],
   "source": [
    "from sklearn.preprocessing import binarize\n",
    "\n",
    "sensitivity_result = []\n",
    "specifity_result = []\n",
    "for i in range(0,11):\n",
    "    cm2=0\n",
    "    y_pred_prob_yes=clf.predict_proba(X_test)\n",
    "    y_pred2=binarize(y_pred_prob_yes,i/10)[:,1]\n",
    "    cm2=confusion_matrix(y_test,y_pred2)\n",
    "    sensitivity_result.append(cm2[1,1]/(float(cm2[1,1]+cm2[1,0])))\n",
    "    specifity_result.append(cm2[0,0]/(float(cm2[0,0]+cm2[0,1])))\n",
    "    print ('With',i/10,'threshold the Confusion Matrix is ','\\n',cm2,'\\n',\n",
    "            'with',cm2[0,0]+cm2[1,1],'correct predictions and',cm2[1,0],'Type II errors( False Negatives)','\\n\\n',\n",
    "          'Sensitivity: ',cm2[1,1]/(float(cm2[1,1]+cm2[1,0])),'Specificity: ',cm2[0,0]/(float(cm2[0,0]+cm2[0,1])),'\\n\\n\\n')"
   ]
  },
  {
   "cell_type": "code",
   "execution_count": 129,
   "metadata": {},
   "outputs": [
    {
     "data": {
      "image/png": "[encoded data removed]",
      "text/plain": [
       "<Figure size 864x504 with 1 Axes>"
      ]
     },
     "metadata": {
      "needs_background": "light"
     },
     "output_type": "display_data"
    }
   ],
   "source": [
    "from itertools import cycle\n",
    "from sklearn.metrics import precision_recall_curve\n",
    "\n",
    "thresholds = [0.1,0.2,0.3,0.4,0.5,0.6,0.7,0.8,0.9]\n",
    "colors = cycle(['navy', 'turquoise', 'darkorange', 'cornflowerblue', 'teal', 'red', 'yellow', 'green', 'blue','black'])\n",
    "\n",
    "plt.figure(figsize=(12,7))\n",
    "\n",
    "j = 1\n",
    "for i,color in zip(thresholds,colors):\n",
    "    y_test_predictions_prob = y_pred_prob_yes[:,1] > i \n",
    "\n",
    "    precision, recall, thresholds = precision_recall_curve(y_test, y_test_predictions_prob)\n",
    "    area = auc(recall, precision)\n",
    "    \n",
    "    # Plot Precision-Recall curve\n",
    "    plt.plot(recall, precision, color=color,\n",
    "                 label='Threshold: %s, AUC=%0.5f' %(i , area))\n",
    "    plt.xlabel('Recall')\n",
    "    plt.ylabel('Precision')\n",
    "    plt.ylim([0.0, 1.05])\n",
    "    plt.xlim([0.0, 1.0])\n",
    "    plt.title('Precision-Recall Curve')\n",
    "    plt.legend(loc=\"lower left\")"
   ]
  },
  {
   "cell_type": "markdown",
   "metadata": {},
   "source": [
    "# ROC Curve"
   ]
  },
  {
   "cell_type": "code",
   "execution_count": 121,
   "metadata": {},
   "outputs": [
    {
     "data": {
      "image/png": "[encoded data removed]",
      "text/plain": [
       "<Figure size 432x288 with 1 Axes>"
      ]
     },
     "metadata": {
      "needs_background": "light"
     },
     "output_type": "display_data"
    }
   ],
   "source": [
    "from sklearn.metrics import roc_curve\n",
    "\n",
    "# defalut threshold 0.5\n",
    "fpr, tpr, thresholds = roc_curve(y_test,y_pred_prob_yes[:,1])\n",
    "roc_auc = auc(fpr,tpr)\n",
    "\n",
    "plt.title('Receiver Operating Characteristic')\n",
    "plt.plot(fpr, tpr, 'b',label='AUC = %0.5f'% roc_auc)\n",
    "plt.legend(loc='lower right')\n",
    "plt.plot([0,1],[0,1],'r--')\n",
    "plt.xlim([-0.1,1.0])\n",
    "plt.ylim([-0.1,1.01])\n",
    "plt.ylabel('True Positive Rate')\n",
    "plt.xlabel('False Positive Rate')\n",
    "plt.show()"
   ]
  }
 ],
 "metadata": {
  "kernelspec": {
   "display_name": "Python 3",
   "language": "python",
   "name": "python3"
  },
  "language_info": {
   "codemirror_mode": {
    "name": "ipython",
    "version": 3
   },
   "file_extension": ".py",
   "mimetype": "text/x-python",
   "name": "python",
   "nbconvert_exporter": "python",
   "pygments_lexer": "ipython3",
   "version": "3.6.5"
  }
 },
 "nbformat": 4,
 "nbformat_minor": 4
}
