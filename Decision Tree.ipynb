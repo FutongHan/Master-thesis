{
 "cells": [
  {
   "cell_type": "markdown",
   "metadata": {},
   "source": [
    "# Decision Tree model"
   ]
  },
  {
   "cell_type": "markdown",
   "metadata": {},
   "source": [
    "Split the dataset"
   ]
  },
  {
   "cell_type": "code",
   "execution_count": 1,
   "metadata": {},
   "outputs": [],
   "source": [
    "import pandas as pd\n",
    "import numpy as np\n",
    "import matplotlib.pyplot as plt\n",
    "import seaborn as sns"
   ]
  },
  {
   "cell_type": "code",
   "execution_count": 2,
   "metadata": {},
   "outputs": [
    {
     "data": {
      "text/html": [
       "<div>\n",
       "<style scoped>\n",
       "    .dataframe tbody tr th:only-of-type {\n",
       "        vertical-align: middle;\n",
       "    }\n",
       "\n",
       "    .dataframe tbody tr th {\n",
       "        vertical-align: top;\n",
       "    }\n",
       "\n",
       "    .dataframe thead th {\n",
       "        text-align: right;\n",
       "    }\n",
       "</style>\n",
       "<table border=\"1\" class=\"dataframe\">\n",
       "  <thead>\n",
       "    <tr style=\"text-align: right;\">\n",
       "      <th></th>\n",
       "      <th>Time</th>\n",
       "      <th>V1</th>\n",
       "      <th>V2</th>\n",
       "      <th>V3</th>\n",
       "      <th>V4</th>\n",
       "      <th>V5</th>\n",
       "      <th>V6</th>\n",
       "      <th>V7</th>\n",
       "      <th>V8</th>\n",
       "      <th>V9</th>\n",
       "      <th>...</th>\n",
       "      <th>V21</th>\n",
       "      <th>V22</th>\n",
       "      <th>V23</th>\n",
       "      <th>V24</th>\n",
       "      <th>V25</th>\n",
       "      <th>V26</th>\n",
       "      <th>V27</th>\n",
       "      <th>V28</th>\n",
       "      <th>Amount</th>\n",
       "      <th>Class</th>\n",
       "    </tr>\n",
       "  </thead>\n",
       "  <tbody>\n",
       "    <tr>\n",
       "      <th>0</th>\n",
       "      <td>0.0</td>\n",
       "      <td>-1.359807</td>\n",
       "      <td>-0.072781</td>\n",
       "      <td>2.536347</td>\n",
       "      <td>1.378155</td>\n",
       "      <td>-0.338321</td>\n",
       "      <td>0.462388</td>\n",
       "      <td>0.239599</td>\n",
       "      <td>0.098698</td>\n",
       "      <td>0.363787</td>\n",
       "      <td>...</td>\n",
       "      <td>-0.018307</td>\n",
       "      <td>0.277838</td>\n",
       "      <td>-0.110474</td>\n",
       "      <td>0.066928</td>\n",
       "      <td>0.128539</td>\n",
       "      <td>-0.189115</td>\n",
       "      <td>0.133558</td>\n",
       "      <td>-0.021053</td>\n",
       "      <td>149.62</td>\n",
       "      <td>0</td>\n",
       "    </tr>\n",
       "    <tr>\n",
       "      <th>1</th>\n",
       "      <td>0.0</td>\n",
       "      <td>1.191857</td>\n",
       "      <td>0.266151</td>\n",
       "      <td>0.166480</td>\n",
       "      <td>0.448154</td>\n",
       "      <td>0.060018</td>\n",
       "      <td>-0.082361</td>\n",
       "      <td>-0.078803</td>\n",
       "      <td>0.085102</td>\n",
       "      <td>-0.255425</td>\n",
       "      <td>...</td>\n",
       "      <td>-0.225775</td>\n",
       "      <td>-0.638672</td>\n",
       "      <td>0.101288</td>\n",
       "      <td>-0.339846</td>\n",
       "      <td>0.167170</td>\n",
       "      <td>0.125895</td>\n",
       "      <td>-0.008983</td>\n",
       "      <td>0.014724</td>\n",
       "      <td>2.69</td>\n",
       "      <td>0</td>\n",
       "    </tr>\n",
       "    <tr>\n",
       "      <th>2</th>\n",
       "      <td>1.0</td>\n",
       "      <td>-1.358354</td>\n",
       "      <td>-1.340163</td>\n",
       "      <td>1.773209</td>\n",
       "      <td>0.379780</td>\n",
       "      <td>-0.503198</td>\n",
       "      <td>1.800499</td>\n",
       "      <td>0.791461</td>\n",
       "      <td>0.247676</td>\n",
       "      <td>-1.514654</td>\n",
       "      <td>...</td>\n",
       "      <td>0.247998</td>\n",
       "      <td>0.771679</td>\n",
       "      <td>0.909412</td>\n",
       "      <td>-0.689281</td>\n",
       "      <td>-0.327642</td>\n",
       "      <td>-0.139097</td>\n",
       "      <td>-0.055353</td>\n",
       "      <td>-0.059752</td>\n",
       "      <td>378.66</td>\n",
       "      <td>0</td>\n",
       "    </tr>\n",
       "    <tr>\n",
       "      <th>3</th>\n",
       "      <td>1.0</td>\n",
       "      <td>-0.966272</td>\n",
       "      <td>-0.185226</td>\n",
       "      <td>1.792993</td>\n",
       "      <td>-0.863291</td>\n",
       "      <td>-0.010309</td>\n",
       "      <td>1.247203</td>\n",
       "      <td>0.237609</td>\n",
       "      <td>0.377436</td>\n",
       "      <td>-1.387024</td>\n",
       "      <td>...</td>\n",
       "      <td>-0.108300</td>\n",
       "      <td>0.005274</td>\n",
       "      <td>-0.190321</td>\n",
       "      <td>-1.175575</td>\n",
       "      <td>0.647376</td>\n",
       "      <td>-0.221929</td>\n",
       "      <td>0.062723</td>\n",
       "      <td>0.061458</td>\n",
       "      <td>123.50</td>\n",
       "      <td>0</td>\n",
       "    </tr>\n",
       "    <tr>\n",
       "      <th>4</th>\n",
       "      <td>2.0</td>\n",
       "      <td>-1.158233</td>\n",
       "      <td>0.877737</td>\n",
       "      <td>1.548718</td>\n",
       "      <td>0.403034</td>\n",
       "      <td>-0.407193</td>\n",
       "      <td>0.095921</td>\n",
       "      <td>0.592941</td>\n",
       "      <td>-0.270533</td>\n",
       "      <td>0.817739</td>\n",
       "      <td>...</td>\n",
       "      <td>-0.009431</td>\n",
       "      <td>0.798278</td>\n",
       "      <td>-0.137458</td>\n",
       "      <td>0.141267</td>\n",
       "      <td>-0.206010</td>\n",
       "      <td>0.502292</td>\n",
       "      <td>0.219422</td>\n",
       "      <td>0.215153</td>\n",
       "      <td>69.99</td>\n",
       "      <td>0</td>\n",
       "    </tr>\n",
       "  </tbody>\n",
       "</table>\n",
       "<p>5 rows × 31 columns</p>\n",
       "</div>"
      ],
      "text/plain": [
       "   Time        V1        V2        V3        V4        V5        V6        V7  \\\n",
       "0   0.0 -1.359807 -0.072781  2.536347  1.378155 -0.338321  0.462388  0.239599   \n",
       "1   0.0  1.191857  0.266151  0.166480  0.448154  0.060018 -0.082361 -0.078803   \n",
       "2   1.0 -1.358354 -1.340163  1.773209  0.379780 -0.503198  1.800499  0.791461   \n",
       "3   1.0 -0.966272 -0.185226  1.792993 -0.863291 -0.010309  1.247203  0.237609   \n",
       "4   2.0 -1.158233  0.877737  1.548718  0.403034 -0.407193  0.095921  0.592941   \n",
       "\n",
       "         V8        V9  ...       V21       V22       V23       V24       V25  \\\n",
       "0  0.098698  0.363787  ... -0.018307  0.277838 -0.110474  0.066928  0.128539   \n",
       "1  0.085102 -0.255425  ... -0.225775 -0.638672  0.101288 -0.339846  0.167170   \n",
       "2  0.247676 -1.514654  ...  0.247998  0.771679  0.909412 -0.689281 -0.327642   \n",
       "3  0.377436 -1.387024  ... -0.108300  0.005274 -0.190321 -1.175575  0.647376   \n",
       "4 -0.270533  0.817739  ... -0.009431  0.798278 -0.137458  0.141267 -0.206010   \n",
       "\n",
       "        V26       V27       V28  Amount  Class  \n",
       "0 -0.189115  0.133558 -0.021053  149.62      0  \n",
       "1  0.125895 -0.008983  0.014724    2.69      0  \n",
       "2 -0.139097 -0.055353 -0.059752  378.66      0  \n",
       "3 -0.221929  0.062723  0.061458  123.50      0  \n",
       "4  0.502292  0.219422  0.215153   69.99      0  \n",
       "\n",
       "[5 rows x 31 columns]"
      ]
     },
     "execution_count": 2,
     "metadata": {},
     "output_type": "execute_result"
    }
   ],
   "source": [
    "df = pd.read_csv('creditcard.csv')\n",
    "df.head()"
   ]
  },
  {
   "cell_type": "code",
   "execution_count": 3,
   "metadata": {},
   "outputs": [],
   "source": [
    "from xverse.feature_subset import SplitXY\n",
    "\n",
    "def splitXY(df, target_column):\n",
    "\n",
    "    clf = SplitXY([target_column]) #Split the dataset into X and y\n",
    "    X, y = clf.fit_transform(df) #returns features (X) dataset and target(Y) as a numpy array\n",
    "    return X, y\n",
    "\n",
    "def make_train_test_split(X=None, y=None, test_size=0.3, random_state=1234):\n",
    "\n",
    "    from sklearn.model_selection import train_test_split\n",
    "    X_train, X_test, y_train, y_test = train_test_split(X, y, test_size=test_size, random_state=random_state)\n",
    "    return X_train, X_test, y_train, y_test"
   ]
  },
  {
   "cell_type": "code",
   "execution_count": 4,
   "metadata": {},
   "outputs": [],
   "source": [
    "selected_vars = ['V11', 'V12', 'V3', 'V19', 'V7', 'V14', 'V1', 'V4', 'V21', 'V2', 'V18', 'V16', 'V17', 'V9', 'V10']"
   ]
  },
  {
   "cell_type": "markdown",
   "metadata": {},
   "source": [
    "# Build Decision Tree model"
   ]
  },
  {
   "cell_type": "code",
   "execution_count": 5,
   "metadata": {},
   "outputs": [],
   "source": [
    "from sklearn.metrics import accuracy_score, roc_curve, auc, classification_report, confusion_matrix\n",
    "from sklearn.tree import DecisionTreeClassifier"
   ]
  },
  {
   "cell_type": "code",
   "execution_count": 6,
   "metadata": {},
   "outputs": [],
   "source": [
    "def build_model(X, y):\n",
    "\n",
    "    clf = DecisionTreeClassifier()\n",
    "    clf.fit(X, y)\n",
    "    return clf"
   ]
  },
  {
   "cell_type": "code",
   "execution_count": 7,
   "metadata": {},
   "outputs": [],
   "source": [
    "def evaluate_model(clf, X, y):\n",
    "    \n",
    "    pred = clf.predict(X) #predicted classes\n",
    "    accuracy = accuracy_score(pred,y) # calculate accuracy\n",
    "    fpr, tpr, _ = roc_curve(y, clf.predict_proba(X)[:,1]) # roc_curve\n",
    "    auc_value = auc(fpr,tpr) # auc_value\n",
    "    report = classification_report(y, pred, labels=[0,1], output_dict=True)\n",
    "    report_df = pd.DataFrame(report).transpose()\n",
    "    report_df = report_df.reset_index()\n",
    "    model_eval  = report_df[report_df['index'].str.contains('1')][['precision','recall','f1-score']]\n",
    "    model_eval['accuracy']  = list(report_df[report_df['index'].str.contains('accuracy')]['support'])\n",
    "    model_eval['ROC']  = auc_value\n",
    "    cf_matrix = confusion_matrix(y, pred)\n",
    "    \n",
    "    return model_eval, cf_matrix"
   ]
  },
  {
   "cell_type": "code",
   "execution_count": 8,
   "metadata": {},
   "outputs": [],
   "source": [
    "def model_eval_data(clf, X_train, y_train, \n",
    "                         X_test, y_test, \n",
    "                         model_eval_train, \n",
    "                         model_eval_test,\n",
    "                         Name=None):\n",
    "    \n",
    "    temp_eval_train, cf_matrix_train = evaluate_model(clf, X_train, y_train)\n",
    "    temp_eval_test, cf_matrix_test = evaluate_model(clf, X_test, y_test)\n",
    "    temp_eval_train.index = [Name]\n",
    "    temp_eval_test.index = [Name]\n",
    "    \n",
    "    try:\n",
    "        model_eval_train = model_eval_train.append(temp_eval_train)\n",
    "        model_eval_test = model_eval_test.append(temp_eval_test)\n",
    "    except:\n",
    "        model_eval_train = temp_eval_train\n",
    "        model_eval_test = temp_eval_test\n",
    "    \n",
    "    return model_eval_train, model_eval_test, cf_matrix_train, cf_matrix_test"
   ]
  },
  {
   "cell_type": "code",
   "execution_count": 9,
   "metadata": {},
   "outputs": [],
   "source": [
    "def make_confusion_matrix_chart(cf_matrix_train, cf_matrix_test):\n",
    "    \n",
    "    plt.figure(1, figsize=(10,5))\n",
    "\n",
    "    plt.subplot(121)\n",
    "    sns.heatmap(cf_matrix_train, annot=True, yticklabels=['Not Fraud', 'Fraud'], \n",
    "                                xticklabels=['Not Fraud', 'Fraud'], fmt='g')\n",
    "    plt.ylabel(\"Actual\")\n",
    "    plt.xlabel(\"Pred\")\n",
    "    plt.ylim([0,2])\n",
    "    plt.title('Train data')\n",
    "\n",
    "    plt.subplot(122)\n",
    "    sns.heatmap(cf_matrix_test, annot=True, yticklabels=['Not Fraud', 'Fraud'], \n",
    "                                xticklabels=['Not Fraud', 'Fraud'], fmt='g')\n",
    "    plt.ylabel(\"Actual\")\n",
    "    plt.xlabel(\"Pred\")\n",
    "    plt.ylim([0,2])\n",
    "    plt.tight_layout()\n",
    "    plt.title('Test data')\n",
    "\n",
    "    plt.tight_layout()\n",
    "    return None"
   ]
  },
  {
   "cell_type": "code",
   "execution_count": 10,
   "metadata": {},
   "outputs": [],
   "source": [
    "model_eval_train = pd.DataFrame({},[])\n",
    "model_eval_test = pd.DataFrame({},[])"
   ]
  },
  {
   "cell_type": "markdown",
   "metadata": {},
   "source": [
    "Using imbalanced data"
   ]
  },
  {
   "cell_type": "markdown",
   "metadata": {},
   "source": [
    "Compare to logistic regression: Much higher recall rate, better F1 score, worse precision rate.(focus on minority class)"
   ]
  },
  {
   "cell_type": "code",
   "execution_count": 11,
   "metadata": {},
   "outputs": [],
   "source": [
    "X, y = splitXY(df, 'Class')\n",
    "X_train, X_test, y_train, y_test = make_train_test_split(X=X, y=y, test_size=0.3, random_state=1)"
   ]
  },
  {
   "cell_type": "code",
   "execution_count": 12,
   "metadata": {},
   "outputs": [],
   "source": [
    "X_train = X_train[selected_vars] #select the variables from variable selection proces\n",
    "X_test = X_test[selected_vars]"
   ]
  },
  {
   "cell_type": "code",
   "execution_count": 13,
   "metadata": {},
   "outputs": [],
   "source": [
    "clf = build_model(X_train, y_train)"
   ]
  },
  {
   "cell_type": "code",
   "execution_count": 14,
   "metadata": {},
   "outputs": [],
   "source": [
    "model_eval_train, model_eval_test, cf_matrix_train, cf_matrix_test = model_eval_data(clf, X_train, y_train, \n",
    "                                                         X_test, y_test, \n",
    "                                                         model_eval_train, \n",
    "                                                         model_eval_test,\n",
    "                                                         Name='imbalanced data - Decision Tree')"
   ]
  },
  {
   "cell_type": "code",
   "execution_count": 15,
   "metadata": {},
   "outputs": [
    {
     "data": {
      "text/html": [
       "<div>\n",
       "<style scoped>\n",
       "    .dataframe tbody tr th:only-of-type {\n",
       "        vertical-align: middle;\n",
       "    }\n",
       "\n",
       "    .dataframe tbody tr th {\n",
       "        vertical-align: top;\n",
       "    }\n",
       "\n",
       "    .dataframe thead th {\n",
       "        text-align: right;\n",
       "    }\n",
       "</style>\n",
       "<table border=\"1\" class=\"dataframe\">\n",
       "  <thead>\n",
       "    <tr style=\"text-align: right;\">\n",
       "      <th></th>\n",
       "      <th>precision</th>\n",
       "      <th>recall</th>\n",
       "      <th>f1-score</th>\n",
       "      <th>accuracy</th>\n",
       "      <th>ROC</th>\n",
       "    </tr>\n",
       "  </thead>\n",
       "  <tbody>\n",
       "    <tr>\n",
       "      <th>imbalanced data - Decision Tree</th>\n",
       "      <td>1.0</td>\n",
       "      <td>1.0</td>\n",
       "      <td>1.0</td>\n",
       "      <td>1.0</td>\n",
       "      <td>1.0</td>\n",
       "    </tr>\n",
       "  </tbody>\n",
       "</table>\n",
       "</div>"
      ],
      "text/plain": [
       "                                 precision  recall  f1-score  accuracy  ROC\n",
       "imbalanced data - Decision Tree        1.0     1.0       1.0       1.0  1.0"
      ]
     },
     "execution_count": 15,
     "metadata": {},
     "output_type": "execute_result"
    }
   ],
   "source": [
    "model_eval_train"
   ]
  },
  {
   "cell_type": "code",
   "execution_count": 16,
   "metadata": {},
   "outputs": [
    {
     "data": {
      "text/html": [
       "<div>\n",
       "<style scoped>\n",
       "    .dataframe tbody tr th:only-of-type {\n",
       "        vertical-align: middle;\n",
       "    }\n",
       "\n",
       "    .dataframe tbody tr th {\n",
       "        vertical-align: top;\n",
       "    }\n",
       "\n",
       "    .dataframe thead th {\n",
       "        text-align: right;\n",
       "    }\n",
       "</style>\n",
       "<table border=\"1\" class=\"dataframe\">\n",
       "  <thead>\n",
       "    <tr style=\"text-align: right;\">\n",
       "      <th></th>\n",
       "      <th>precision</th>\n",
       "      <th>recall</th>\n",
       "      <th>f1-score</th>\n",
       "      <th>accuracy</th>\n",
       "      <th>ROC</th>\n",
       "    </tr>\n",
       "  </thead>\n",
       "  <tbody>\n",
       "    <tr>\n",
       "      <th>imbalanced data - Decision Tree</th>\n",
       "      <td>0.75</td>\n",
       "      <td>0.733333</td>\n",
       "      <td>0.741573</td>\n",
       "      <td>0.999192</td>\n",
       "      <td>0.866473</td>\n",
       "    </tr>\n",
       "  </tbody>\n",
       "</table>\n",
       "</div>"
      ],
      "text/plain": [
       "                                 precision    recall  f1-score  accuracy  \\\n",
       "imbalanced data - Decision Tree       0.75  0.733333  0.741573  0.999192   \n",
       "\n",
       "                                      ROC  \n",
       "imbalanced data - Decision Tree  0.866473  "
      ]
     },
     "execution_count": 16,
     "metadata": {},
     "output_type": "execute_result"
    }
   ],
   "source": [
    "model_eval_test"
   ]
  },
  {
   "cell_type": "code",
   "execution_count": 17,
   "metadata": {},
   "outputs": [
    {
     "data": {
      "text/plain": [
       "<matplotlib.axes._subplots.AxesSubplot at 0x21600909d30>"
      ]
     },
     "execution_count": 17,
     "metadata": {},
     "output_type": "execute_result"
    },
    {
     "data": {
      "image/png": "[encoded data removed]",
      "text/plain": [
       "<Figure size 576x360 with 2 Axes>"
      ]
     },
     "metadata": {
      "needs_background": "light"
     },
     "output_type": "display_data"
    }
   ],
   "source": [
    "from sklearn.metrics import confusion_matrix\n",
    "%matplotlib inline\n",
    "\n",
    "y_pred = clf.predict(X_test)\n",
    "cm=confusion_matrix(y_test,y_pred)\n",
    "conf_matrix=pd.DataFrame(data=cm,columns=['Predicted:0','Predicted:1'],index=['Actual:0','Actual:1'])\n",
    "plt.figure(figsize = (8,5))\n",
    "sns.heatmap(conf_matrix, annot=True,fmt='d',cmap=\"YlGnBu\")"
   ]
  },
  {
   "cell_type": "code",
   "execution_count": 18,
   "metadata": {},
   "outputs": [
    {
     "name": "stdout",
     "output_type": "stream",
     "text": [
      "              precision    recall  f1-score   support\n",
      "\n",
      "           0       1.00      1.00      1.00     85308\n",
      "           1       0.75      0.73      0.74       135\n",
      "\n",
      "    accuracy                           1.00     85443\n",
      "   macro avg       0.87      0.87      0.87     85443\n",
      "weighted avg       1.00      1.00      1.00     85443\n",
      "\n"
     ]
    }
   ],
   "source": [
    "print(classification_report(y_test, y_pred))"
   ]
  },
  {
   "cell_type": "markdown",
   "metadata": {},
   "source": [
    "Decision Tree Cost sensitive\n",
    "\n",
    "Cost sensitive doesn't work on Decision Tree"
   ]
  },
  {
   "cell_type": "code",
   "execution_count": 19,
   "metadata": {},
   "outputs": [],
   "source": [
    "def build_model(X, y):\n",
    "    \n",
    "    weights = {0:0.5, 1:289}\n",
    "    clf_cs = DecisionTreeClassifier(class_weight=weights)\n",
    "    clf_cs.fit(X, y)\n",
    "    return clf_cs"
   ]
  },
  {
   "cell_type": "code",
   "execution_count": 20,
   "metadata": {},
   "outputs": [],
   "source": [
    "clf_cs = build_model(X_train, y_train)"
   ]
  },
  {
   "cell_type": "code",
   "execution_count": 21,
   "metadata": {},
   "outputs": [],
   "source": [
    "model_eval_train, model_eval_test, cf_matrix_train, cf_matrix_test = model_eval_data(clf_cs, X_train, y_train, \n",
    "                                                         X_test, y_test, \n",
    "                                                         model_eval_train, \n",
    "                                                         model_eval_test,\n",
    "                                                         Name='imbalanced data - Decision Tree + CostSensitvie(with proper weight)')"
   ]
  },
  {
   "cell_type": "code",
   "execution_count": 22,
   "metadata": {},
   "outputs": [
    {
     "data": {
      "text/html": [
       "<div>\n",
       "<style scoped>\n",
       "    .dataframe tbody tr th:only-of-type {\n",
       "        vertical-align: middle;\n",
       "    }\n",
       "\n",
       "    .dataframe tbody tr th {\n",
       "        vertical-align: top;\n",
       "    }\n",
       "\n",
       "    .dataframe thead th {\n",
       "        text-align: right;\n",
       "    }\n",
       "</style>\n",
       "<table border=\"1\" class=\"dataframe\">\n",
       "  <thead>\n",
       "    <tr style=\"text-align: right;\">\n",
       "      <th></th>\n",
       "      <th>precision</th>\n",
       "      <th>recall</th>\n",
       "      <th>f1-score</th>\n",
       "      <th>accuracy</th>\n",
       "      <th>ROC</th>\n",
       "    </tr>\n",
       "  </thead>\n",
       "  <tbody>\n",
       "    <tr>\n",
       "      <th>imbalanced data - Decision Tree</th>\n",
       "      <td>0.750000</td>\n",
       "      <td>0.733333</td>\n",
       "      <td>0.741573</td>\n",
       "      <td>0.999192</td>\n",
       "      <td>0.866473</td>\n",
       "    </tr>\n",
       "    <tr>\n",
       "      <th>imbalanced data - Decision Tree + CostSensitvie(with proper weight)</th>\n",
       "      <td>0.773438</td>\n",
       "      <td>0.733333</td>\n",
       "      <td>0.752852</td>\n",
       "      <td>0.999239</td>\n",
       "      <td>0.866497</td>\n",
       "    </tr>\n",
       "  </tbody>\n",
       "</table>\n",
       "</div>"
      ],
      "text/plain": [
       "                                                    precision    recall  \\\n",
       "imbalanced data - Decision Tree                      0.750000  0.733333   \n",
       "imbalanced data - Decision Tree + CostSensitvie...   0.773438  0.733333   \n",
       "\n",
       "                                                    f1-score  accuracy  \\\n",
       "imbalanced data - Decision Tree                     0.741573  0.999192   \n",
       "imbalanced data - Decision Tree + CostSensitvie...  0.752852  0.999239   \n",
       "\n",
       "                                                         ROC  \n",
       "imbalanced data - Decision Tree                     0.866473  \n",
       "imbalanced data - Decision Tree + CostSensitvie...  0.866497  "
      ]
     },
     "execution_count": 22,
     "metadata": {},
     "output_type": "execute_result"
    }
   ],
   "source": [
    "model_eval_test"
   ]
  },
  {
   "cell_type": "code",
   "execution_count": 23,
   "metadata": {},
   "outputs": [
    {
     "data": {
      "text/plain": [
       "<matplotlib.axes._subplots.AxesSubplot at 0x2167c9f8cf8>"
      ]
     },
     "execution_count": 23,
     "metadata": {},
     "output_type": "execute_result"
    },
    {
     "data": {
      "image/png": "[encoded data removed]",
      "text/plain": [
       "<Figure size 576x360 with 2 Axes>"
      ]
     },
     "metadata": {
      "needs_background": "light"
     },
     "output_type": "display_data"
    }
   ],
   "source": [
    "from sklearn.metrics import confusion_matrix\n",
    "%matplotlib inline\n",
    "\n",
    "y_pred = clf_cs.predict(X_test)\n",
    "cm=confusion_matrix(y_test,y_pred)\n",
    "conf_matrix=pd.DataFrame(data=cm,columns=['Predicted:0','Predicted:1'],index=['Actual:0','Actual:1'])\n",
    "plt.figure(figsize = (8,5))\n",
    "sns.heatmap(conf_matrix, annot=True,fmt='d',cmap=\"YlGnBu\")"
   ]
  },
  {
   "cell_type": "markdown",
   "metadata": {},
   "source": [
    "# Randomsampling+Decision Tree"
   ]
  },
  {
   "cell_type": "markdown",
   "metadata": {},
   "source": [
    "This is the model using imbalanced data and Decision Tree.\n",
    "\n",
    "Then I will use the first sampling techniques on it: Random oversampling"
   ]
  },
  {
   "cell_type": "code",
   "execution_count": 24,
   "metadata": {},
   "outputs": [],
   "source": [
    "from imblearn.over_sampling import RandomOverSampler"
   ]
  },
  {
   "cell_type": "code",
   "execution_count": 25,
   "metadata": {},
   "outputs": [],
   "source": [
    "X, y = splitXY(df, 'Class')\n",
    "X_train, X_test, y_train, y_test = make_train_test_split(X=X, y=y, test_size=0.3, random_state=1)\n",
    "X_train = X_train[selected_vars] #select the variables from variable selection proces\n",
    "X_test = X_test[selected_vars]"
   ]
  },
  {
   "cell_type": "code",
   "execution_count": 26,
   "metadata": {},
   "outputs": [],
   "source": [
    "X_resampled, y_resampled = RandomOverSampler().fit_sample(X_train, y_train)"
   ]
  },
  {
   "cell_type": "code",
   "execution_count": 27,
   "metadata": {},
   "outputs": [],
   "source": [
    "clf2 = build_model(X_resampled, y_resampled)"
   ]
  },
  {
   "cell_type": "code",
   "execution_count": 28,
   "metadata": {},
   "outputs": [],
   "source": [
    "model_eval_train, model_eval_test, cf_matrix_train, cf_matrix_test = model_eval_data(clf2, X_train, y_train, \n",
    "                                                         X_test, y_test, \n",
    "                                                         model_eval_train, \n",
    "                                                         model_eval_test,\n",
    "                                                         Name='RandomOversampling - Decision Tree')"
   ]
  },
  {
   "cell_type": "code",
   "execution_count": 29,
   "metadata": {},
   "outputs": [
    {
     "data": {
      "text/html": [
       "<div>\n",
       "<style scoped>\n",
       "    .dataframe tbody tr th:only-of-type {\n",
       "        vertical-align: middle;\n",
       "    }\n",
       "\n",
       "    .dataframe tbody tr th {\n",
       "        vertical-align: top;\n",
       "    }\n",
       "\n",
       "    .dataframe thead th {\n",
       "        text-align: right;\n",
       "    }\n",
       "</style>\n",
       "<table border=\"1\" class=\"dataframe\">\n",
       "  <thead>\n",
       "    <tr style=\"text-align: right;\">\n",
       "      <th></th>\n",
       "      <th>precision</th>\n",
       "      <th>recall</th>\n",
       "      <th>f1-score</th>\n",
       "      <th>accuracy</th>\n",
       "      <th>ROC</th>\n",
       "    </tr>\n",
       "  </thead>\n",
       "  <tbody>\n",
       "    <tr>\n",
       "      <th>imbalanced data - Decision Tree</th>\n",
       "      <td>1.0</td>\n",
       "      <td>1.0</td>\n",
       "      <td>1.0</td>\n",
       "      <td>1.0</td>\n",
       "      <td>1.0</td>\n",
       "    </tr>\n",
       "    <tr>\n",
       "      <th>imbalanced data - Decision Tree + CostSensitvie(with proper weight)</th>\n",
       "      <td>1.0</td>\n",
       "      <td>1.0</td>\n",
       "      <td>1.0</td>\n",
       "      <td>1.0</td>\n",
       "      <td>1.0</td>\n",
       "    </tr>\n",
       "    <tr>\n",
       "      <th>RandomOversampling - Decision Tree</th>\n",
       "      <td>1.0</td>\n",
       "      <td>1.0</td>\n",
       "      <td>1.0</td>\n",
       "      <td>1.0</td>\n",
       "      <td>1.0</td>\n",
       "    </tr>\n",
       "  </tbody>\n",
       "</table>\n",
       "</div>"
      ],
      "text/plain": [
       "                                                    precision  recall  \\\n",
       "imbalanced data - Decision Tree                           1.0     1.0   \n",
       "imbalanced data - Decision Tree + CostSensitvie...        1.0     1.0   \n",
       "RandomOversampling - Decision Tree                        1.0     1.0   \n",
       "\n",
       "                                                    f1-score  accuracy  ROC  \n",
       "imbalanced data - Decision Tree                          1.0       1.0  1.0  \n",
       "imbalanced data - Decision Tree + CostSensitvie...       1.0       1.0  1.0  \n",
       "RandomOversampling - Decision Tree                       1.0       1.0  1.0  "
      ]
     },
     "execution_count": 29,
     "metadata": {},
     "output_type": "execute_result"
    }
   ],
   "source": [
    "model_eval_train"
   ]
  },
  {
   "cell_type": "code",
   "execution_count": 30,
   "metadata": {},
   "outputs": [
    {
     "data": {
      "text/html": [
       "<div>\n",
       "<style scoped>\n",
       "    .dataframe tbody tr th:only-of-type {\n",
       "        vertical-align: middle;\n",
       "    }\n",
       "\n",
       "    .dataframe tbody tr th {\n",
       "        vertical-align: top;\n",
       "    }\n",
       "\n",
       "    .dataframe thead th {\n",
       "        text-align: right;\n",
       "    }\n",
       "</style>\n",
       "<table border=\"1\" class=\"dataframe\">\n",
       "  <thead>\n",
       "    <tr style=\"text-align: right;\">\n",
       "      <th></th>\n",
       "      <th>precision</th>\n",
       "      <th>recall</th>\n",
       "      <th>f1-score</th>\n",
       "      <th>accuracy</th>\n",
       "      <th>ROC</th>\n",
       "    </tr>\n",
       "  </thead>\n",
       "  <tbody>\n",
       "    <tr>\n",
       "      <th>imbalanced data - Decision Tree</th>\n",
       "      <td>0.750000</td>\n",
       "      <td>0.733333</td>\n",
       "      <td>0.741573</td>\n",
       "      <td>0.999192</td>\n",
       "      <td>0.866473</td>\n",
       "    </tr>\n",
       "    <tr>\n",
       "      <th>imbalanced data - Decision Tree + CostSensitvie(with proper weight)</th>\n",
       "      <td>0.773438</td>\n",
       "      <td>0.733333</td>\n",
       "      <td>0.752852</td>\n",
       "      <td>0.999239</td>\n",
       "      <td>0.866497</td>\n",
       "    </tr>\n",
       "    <tr>\n",
       "      <th>RandomOversampling - Decision Tree</th>\n",
       "      <td>0.757576</td>\n",
       "      <td>0.740741</td>\n",
       "      <td>0.749064</td>\n",
       "      <td>0.999216</td>\n",
       "      <td>0.870183</td>\n",
       "    </tr>\n",
       "  </tbody>\n",
       "</table>\n",
       "</div>"
      ],
      "text/plain": [
       "                                                    precision    recall  \\\n",
       "imbalanced data - Decision Tree                      0.750000  0.733333   \n",
       "imbalanced data - Decision Tree + CostSensitvie...   0.773438  0.733333   \n",
       "RandomOversampling - Decision Tree                   0.757576  0.740741   \n",
       "\n",
       "                                                    f1-score  accuracy  \\\n",
       "imbalanced data - Decision Tree                     0.741573  0.999192   \n",
       "imbalanced data - Decision Tree + CostSensitvie...  0.752852  0.999239   \n",
       "RandomOversampling - Decision Tree                  0.749064  0.999216   \n",
       "\n",
       "                                                         ROC  \n",
       "imbalanced data - Decision Tree                     0.866473  \n",
       "imbalanced data - Decision Tree + CostSensitvie...  0.866497  \n",
       "RandomOversampling - Decision Tree                  0.870183  "
      ]
     },
     "execution_count": 30,
     "metadata": {},
     "output_type": "execute_result"
    }
   ],
   "source": [
    "model_eval_test"
   ]
  },
  {
   "cell_type": "code",
   "execution_count": 31,
   "metadata": {},
   "outputs": [
    {
     "data": {
      "text/plain": [
       "<matplotlib.axes._subplots.AxesSubplot at 0x21600909dd8>"
      ]
     },
     "execution_count": 31,
     "metadata": {},
     "output_type": "execute_result"
    },
    {
     "data": {
      "image/png": "[encoded data removed]",
      "text/plain": [
       "<Figure size 576x360 with 2 Axes>"
      ]
     },
     "metadata": {
      "needs_background": "light"
     },
     "output_type": "display_data"
    }
   ],
   "source": [
    "from sklearn.metrics import confusion_matrix\n",
    "%matplotlib inline\n",
    "\n",
    "y_pred = clf2.predict(X_test)\n",
    "cm=confusion_matrix(y_test,y_pred)\n",
    "conf_matrix=pd.DataFrame(data=cm,columns=['Predicted:0','Predicted:1'],index=['Actual:0','Actual:1'])\n",
    "plt.figure(figsize = (8,5))\n",
    "sns.heatmap(conf_matrix, annot=True,fmt='d',cmap=\"YlGnBu\")"
   ]
  },
  {
   "cell_type": "code",
   "execution_count": 32,
   "metadata": {},
   "outputs": [
    {
     "name": "stdout",
     "output_type": "stream",
     "text": [
      "              precision    recall  f1-score   support\n",
      "\n",
      "           0       1.00      1.00      1.00     85308\n",
      "           1       0.76      0.74      0.75       135\n",
      "\n",
      "    accuracy                           1.00     85443\n",
      "   macro avg       0.88      0.87      0.87     85443\n",
      "weighted avg       1.00      1.00      1.00     85443\n",
      "\n"
     ]
    }
   ],
   "source": [
    "print(classification_report(y_test, y_pred))"
   ]
  },
  {
   "cell_type": "markdown",
   "metadata": {},
   "source": [
    "# Smote-logisticregression"
   ]
  },
  {
   "cell_type": "code",
   "execution_count": 33,
   "metadata": {},
   "outputs": [],
   "source": [
    "from imblearn.over_sampling import SMOTE\n",
    "#from sklearn.model_selection import GridSearchCV"
   ]
  },
  {
   "cell_type": "code",
   "execution_count": 34,
   "metadata": {},
   "outputs": [],
   "source": [
    "X, y = splitXY(df, 'Class')\n",
    "X_train, X_test, y_train, y_test = make_train_test_split(X=X, y=y, test_size=0.3, random_state=0)\n",
    "X_train = X_train[selected_vars] #select the variables from variable selection proces\n",
    "X_test = X_test[selected_vars]"
   ]
  },
  {
   "cell_type": "code",
   "execution_count": 35,
   "metadata": {},
   "outputs": [],
   "source": [
    "smote = SMOTE(random_state=5)\n",
    "X_sm, y_sm = smote.fit_resample(X_train, y_train)"
   ]
  },
  {
   "cell_type": "code",
   "execution_count": 36,
   "metadata": {},
   "outputs": [],
   "source": [
    "clf3 = build_model(X_sm, y_sm)"
   ]
  },
  {
   "cell_type": "code",
   "execution_count": 37,
   "metadata": {},
   "outputs": [],
   "source": [
    "model_eval_train, model_eval_test, cf_matrix_train, cf_matrix_test = model_eval_data(clf3, X_train, y_train, \n",
    "                                                         X_test, y_test, \n",
    "                                                         model_eval_train, \n",
    "                                                         model_eval_test,\n",
    "                                                         Name='SMOTE - Decision Tree')"
   ]
  },
  {
   "cell_type": "code",
   "execution_count": 38,
   "metadata": {},
   "outputs": [],
   "source": [
    "y_pred = clf3.predict(X_test)"
   ]
  },
  {
   "cell_type": "code",
   "execution_count": 39,
   "metadata": {},
   "outputs": [
    {
     "data": {
      "text/plain": [
       "<matplotlib.axes._subplots.AxesSubplot at 0x21602deeb70>"
      ]
     },
     "execution_count": 39,
     "metadata": {},
     "output_type": "execute_result"
    },
    {
     "data": {
      "image/png": "[encoded data removed]",
      "text/plain": [
       "<Figure size 576x360 with 2 Axes>"
      ]
     },
     "metadata": {
      "needs_background": "light"
     },
     "output_type": "display_data"
    }
   ],
   "source": [
    "from sklearn.metrics import confusion_matrix\n",
    "%matplotlib inline\n",
    "\n",
    "y_pred = clf3.predict(X_test)\n",
    "cm=confusion_matrix(y_test,y_pred)\n",
    "conf_matrix=pd.DataFrame(data=cm,columns=['Predicted:0','Predicted:1'],index=['Actual:0','Actual:1'])\n",
    "plt.figure(figsize = (8,5))\n",
    "sns.heatmap(conf_matrix, annot=True,fmt='d',cmap=\"YlGnBu\")"
   ]
  },
  {
   "cell_type": "code",
   "execution_count": 40,
   "metadata": {},
   "outputs": [
    {
     "data": {
      "text/html": [
       "<div>\n",
       "<style scoped>\n",
       "    .dataframe tbody tr th:only-of-type {\n",
       "        vertical-align: middle;\n",
       "    }\n",
       "\n",
       "    .dataframe tbody tr th {\n",
       "        vertical-align: top;\n",
       "    }\n",
       "\n",
       "    .dataframe thead th {\n",
       "        text-align: right;\n",
       "    }\n",
       "</style>\n",
       "<table border=\"1\" class=\"dataframe\">\n",
       "  <thead>\n",
       "    <tr style=\"text-align: right;\">\n",
       "      <th></th>\n",
       "      <th>precision</th>\n",
       "      <th>recall</th>\n",
       "      <th>f1-score</th>\n",
       "      <th>accuracy</th>\n",
       "      <th>ROC</th>\n",
       "    </tr>\n",
       "  </thead>\n",
       "  <tbody>\n",
       "    <tr>\n",
       "      <th>imbalanced data - Decision Tree</th>\n",
       "      <td>1.0</td>\n",
       "      <td>1.0</td>\n",
       "      <td>1.0</td>\n",
       "      <td>1.0</td>\n",
       "      <td>1.0</td>\n",
       "    </tr>\n",
       "    <tr>\n",
       "      <th>imbalanced data - Decision Tree + CostSensitvie(with proper weight)</th>\n",
       "      <td>1.0</td>\n",
       "      <td>1.0</td>\n",
       "      <td>1.0</td>\n",
       "      <td>1.0</td>\n",
       "      <td>1.0</td>\n",
       "    </tr>\n",
       "    <tr>\n",
       "      <th>RandomOversampling - Decision Tree</th>\n",
       "      <td>1.0</td>\n",
       "      <td>1.0</td>\n",
       "      <td>1.0</td>\n",
       "      <td>1.0</td>\n",
       "      <td>1.0</td>\n",
       "    </tr>\n",
       "    <tr>\n",
       "      <th>SMOTE - Decision Tree</th>\n",
       "      <td>1.0</td>\n",
       "      <td>1.0</td>\n",
       "      <td>1.0</td>\n",
       "      <td>1.0</td>\n",
       "      <td>1.0</td>\n",
       "    </tr>\n",
       "  </tbody>\n",
       "</table>\n",
       "</div>"
      ],
      "text/plain": [
       "                                                    precision  recall  \\\n",
       "imbalanced data - Decision Tree                           1.0     1.0   \n",
       "imbalanced data - Decision Tree + CostSensitvie...        1.0     1.0   \n",
       "RandomOversampling - Decision Tree                        1.0     1.0   \n",
       "SMOTE - Decision Tree                                     1.0     1.0   \n",
       "\n",
       "                                                    f1-score  accuracy  ROC  \n",
       "imbalanced data - Decision Tree                          1.0       1.0  1.0  \n",
       "imbalanced data - Decision Tree + CostSensitvie...       1.0       1.0  1.0  \n",
       "RandomOversampling - Decision Tree                       1.0       1.0  1.0  \n",
       "SMOTE - Decision Tree                                    1.0       1.0  1.0  "
      ]
     },
     "execution_count": 40,
     "metadata": {},
     "output_type": "execute_result"
    }
   ],
   "source": [
    "model_eval_train"
   ]
  },
  {
   "cell_type": "code",
   "execution_count": 41,
   "metadata": {},
   "outputs": [
    {
     "data": {
      "text/html": [
       "<div>\n",
       "<style scoped>\n",
       "    .dataframe tbody tr th:only-of-type {\n",
       "        vertical-align: middle;\n",
       "    }\n",
       "\n",
       "    .dataframe tbody tr th {\n",
       "        vertical-align: top;\n",
       "    }\n",
       "\n",
       "    .dataframe thead th {\n",
       "        text-align: right;\n",
       "    }\n",
       "</style>\n",
       "<table border=\"1\" class=\"dataframe\">\n",
       "  <thead>\n",
       "    <tr style=\"text-align: right;\">\n",
       "      <th></th>\n",
       "      <th>precision</th>\n",
       "      <th>recall</th>\n",
       "      <th>f1-score</th>\n",
       "      <th>accuracy</th>\n",
       "      <th>ROC</th>\n",
       "    </tr>\n",
       "  </thead>\n",
       "  <tbody>\n",
       "    <tr>\n",
       "      <th>imbalanced data - Decision Tree</th>\n",
       "      <td>0.750000</td>\n",
       "      <td>0.733333</td>\n",
       "      <td>0.741573</td>\n",
       "      <td>0.999192</td>\n",
       "      <td>0.866473</td>\n",
       "    </tr>\n",
       "    <tr>\n",
       "      <th>imbalanced data - Decision Tree + CostSensitvie(with proper weight)</th>\n",
       "      <td>0.773438</td>\n",
       "      <td>0.733333</td>\n",
       "      <td>0.752852</td>\n",
       "      <td>0.999239</td>\n",
       "      <td>0.866497</td>\n",
       "    </tr>\n",
       "    <tr>\n",
       "      <th>RandomOversampling - Decision Tree</th>\n",
       "      <td>0.757576</td>\n",
       "      <td>0.740741</td>\n",
       "      <td>0.749064</td>\n",
       "      <td>0.999216</td>\n",
       "      <td>0.870183</td>\n",
       "    </tr>\n",
       "    <tr>\n",
       "      <th>SMOTE - Decision Tree</th>\n",
       "      <td>0.455752</td>\n",
       "      <td>0.700680</td>\n",
       "      <td>0.552279</td>\n",
       "      <td>0.998045</td>\n",
       "      <td>0.849619</td>\n",
       "    </tr>\n",
       "  </tbody>\n",
       "</table>\n",
       "</div>"
      ],
      "text/plain": [
       "                                                    precision    recall  \\\n",
       "imbalanced data - Decision Tree                      0.750000  0.733333   \n",
       "imbalanced data - Decision Tree + CostSensitvie...   0.773438  0.733333   \n",
       "RandomOversampling - Decision Tree                   0.757576  0.740741   \n",
       "SMOTE - Decision Tree                                0.455752  0.700680   \n",
       "\n",
       "                                                    f1-score  accuracy  \\\n",
       "imbalanced data - Decision Tree                     0.741573  0.999192   \n",
       "imbalanced data - Decision Tree + CostSensitvie...  0.752852  0.999239   \n",
       "RandomOversampling - Decision Tree                  0.749064  0.999216   \n",
       "SMOTE - Decision Tree                               0.552279  0.998045   \n",
       "\n",
       "                                                         ROC  \n",
       "imbalanced data - Decision Tree                     0.866473  \n",
       "imbalanced data - Decision Tree + CostSensitvie...  0.866497  \n",
       "RandomOversampling - Decision Tree                  0.870183  \n",
       "SMOTE - Decision Tree                               0.849619  "
      ]
     },
     "execution_count": 41,
     "metadata": {},
     "output_type": "execute_result"
    }
   ],
   "source": [
    "model_eval_test"
   ]
  },
  {
   "cell_type": "code",
   "execution_count": 42,
   "metadata": {},
   "outputs": [
    {
     "name": "stdout",
     "output_type": "stream",
     "text": [
      "              precision    recall  f1-score   support\n",
      "\n",
      "           0       1.00      1.00      1.00     85296\n",
      "           1       0.46      0.70      0.55       147\n",
      "\n",
      "    accuracy                           1.00     85443\n",
      "   macro avg       0.73      0.85      0.78     85443\n",
      "weighted avg       1.00      1.00      1.00     85443\n",
      "\n"
     ]
    }
   ],
   "source": [
    "print(classification_report(y_test, y_pred))"
   ]
  },
  {
   "cell_type": "markdown",
   "metadata": {},
   "source": [
    "# Borderline-Smote+Decision Tree"
   ]
  },
  {
   "cell_type": "code",
   "execution_count": 43,
   "metadata": {},
   "outputs": [],
   "source": [
    "from imblearn.over_sampling import BorderlineSMOTE"
   ]
  },
  {
   "cell_type": "code",
   "execution_count": 44,
   "metadata": {},
   "outputs": [],
   "source": [
    "X, y = splitXY(df, 'Class')\n",
    "X_train, X_test, y_train, y_test = make_train_test_split(X=X, y=y, test_size=0.3, random_state=1)\n",
    "X_train = X_train[selected_vars] #select the variables from variable selection proces\n",
    "X_test = X_test[selected_vars]"
   ]
  },
  {
   "cell_type": "code",
   "execution_count": 45,
   "metadata": {},
   "outputs": [],
   "source": [
    "bsm = BorderlineSMOTE(random_state=1,kind=\"borderline-1\")"
   ]
  },
  {
   "cell_type": "code",
   "execution_count": 46,
   "metadata": {},
   "outputs": [],
   "source": [
    "X_bsm, y_bsm = bsm.fit_resample(X_train, y_train)"
   ]
  },
  {
   "cell_type": "code",
   "execution_count": 47,
   "metadata": {},
   "outputs": [],
   "source": [
    "clf5 = build_model(X_bsm, y_bsm)"
   ]
  },
  {
   "cell_type": "code",
   "execution_count": 48,
   "metadata": {},
   "outputs": [],
   "source": [
    "model_eval_train, model_eval_test, cf_matrix_train, cf_matrix_test = model_eval_data(clf5, X_train, y_train, \n",
    "                                                         X_test, y_test, \n",
    "                                                         model_eval_train, \n",
    "                                                         model_eval_test,\n",
    "                                                         Name='Borderline-SMOTE - Decision Tree')"
   ]
  },
  {
   "cell_type": "code",
   "execution_count": 49,
   "metadata": {},
   "outputs": [
    {
     "data": {
      "text/html": [
       "<div>\n",
       "<style scoped>\n",
       "    .dataframe tbody tr th:only-of-type {\n",
       "        vertical-align: middle;\n",
       "    }\n",
       "\n",
       "    .dataframe tbody tr th {\n",
       "        vertical-align: top;\n",
       "    }\n",
       "\n",
       "    .dataframe thead th {\n",
       "        text-align: right;\n",
       "    }\n",
       "</style>\n",
       "<table border=\"1\" class=\"dataframe\">\n",
       "  <thead>\n",
       "    <tr style=\"text-align: right;\">\n",
       "      <th></th>\n",
       "      <th>precision</th>\n",
       "      <th>recall</th>\n",
       "      <th>f1-score</th>\n",
       "      <th>accuracy</th>\n",
       "      <th>ROC</th>\n",
       "    </tr>\n",
       "  </thead>\n",
       "  <tbody>\n",
       "    <tr>\n",
       "      <th>imbalanced data - Decision Tree</th>\n",
       "      <td>1.0</td>\n",
       "      <td>1.0</td>\n",
       "      <td>1.0</td>\n",
       "      <td>1.0</td>\n",
       "      <td>1.0</td>\n",
       "    </tr>\n",
       "    <tr>\n",
       "      <th>imbalanced data - Decision Tree + CostSensitvie(with proper weight)</th>\n",
       "      <td>1.0</td>\n",
       "      <td>1.0</td>\n",
       "      <td>1.0</td>\n",
       "      <td>1.0</td>\n",
       "      <td>1.0</td>\n",
       "    </tr>\n",
       "    <tr>\n",
       "      <th>RandomOversampling - Decision Tree</th>\n",
       "      <td>1.0</td>\n",
       "      <td>1.0</td>\n",
       "      <td>1.0</td>\n",
       "      <td>1.0</td>\n",
       "      <td>1.0</td>\n",
       "    </tr>\n",
       "    <tr>\n",
       "      <th>SMOTE - Decision Tree</th>\n",
       "      <td>1.0</td>\n",
       "      <td>1.0</td>\n",
       "      <td>1.0</td>\n",
       "      <td>1.0</td>\n",
       "      <td>1.0</td>\n",
       "    </tr>\n",
       "    <tr>\n",
       "      <th>Borderline-SMOTE - Decision Tree</th>\n",
       "      <td>1.0</td>\n",
       "      <td>1.0</td>\n",
       "      <td>1.0</td>\n",
       "      <td>1.0</td>\n",
       "      <td>1.0</td>\n",
       "    </tr>\n",
       "  </tbody>\n",
       "</table>\n",
       "</div>"
      ],
      "text/plain": [
       "                                                    precision  recall  \\\n",
       "imbalanced data - Decision Tree                           1.0     1.0   \n",
       "imbalanced data - Decision Tree + CostSensitvie...        1.0     1.0   \n",
       "RandomOversampling - Decision Tree                        1.0     1.0   \n",
       "SMOTE - Decision Tree                                     1.0     1.0   \n",
       "Borderline-SMOTE - Decision Tree                          1.0     1.0   \n",
       "\n",
       "                                                    f1-score  accuracy  ROC  \n",
       "imbalanced data - Decision Tree                          1.0       1.0  1.0  \n",
       "imbalanced data - Decision Tree + CostSensitvie...       1.0       1.0  1.0  \n",
       "RandomOversampling - Decision Tree                       1.0       1.0  1.0  \n",
       "SMOTE - Decision Tree                                    1.0       1.0  1.0  \n",
       "Borderline-SMOTE - Decision Tree                         1.0       1.0  1.0  "
      ]
     },
     "execution_count": 49,
     "metadata": {},
     "output_type": "execute_result"
    }
   ],
   "source": [
    "model_eval_train"
   ]
  },
  {
   "cell_type": "code",
   "execution_count": 50,
   "metadata": {},
   "outputs": [
    {
     "data": {
      "text/html": [
       "<div>\n",
       "<style scoped>\n",
       "    .dataframe tbody tr th:only-of-type {\n",
       "        vertical-align: middle;\n",
       "    }\n",
       "\n",
       "    .dataframe tbody tr th {\n",
       "        vertical-align: top;\n",
       "    }\n",
       "\n",
       "    .dataframe thead th {\n",
       "        text-align: right;\n",
       "    }\n",
       "</style>\n",
       "<table border=\"1\" class=\"dataframe\">\n",
       "  <thead>\n",
       "    <tr style=\"text-align: right;\">\n",
       "      <th></th>\n",
       "      <th>precision</th>\n",
       "      <th>recall</th>\n",
       "      <th>f1-score</th>\n",
       "      <th>accuracy</th>\n",
       "      <th>ROC</th>\n",
       "    </tr>\n",
       "  </thead>\n",
       "  <tbody>\n",
       "    <tr>\n",
       "      <th>imbalanced data - Decision Tree</th>\n",
       "      <td>0.750000</td>\n",
       "      <td>0.733333</td>\n",
       "      <td>0.741573</td>\n",
       "      <td>0.999192</td>\n",
       "      <td>0.866473</td>\n",
       "    </tr>\n",
       "    <tr>\n",
       "      <th>imbalanced data - Decision Tree + CostSensitvie(with proper weight)</th>\n",
       "      <td>0.773438</td>\n",
       "      <td>0.733333</td>\n",
       "      <td>0.752852</td>\n",
       "      <td>0.999239</td>\n",
       "      <td>0.866497</td>\n",
       "    </tr>\n",
       "    <tr>\n",
       "      <th>RandomOversampling - Decision Tree</th>\n",
       "      <td>0.757576</td>\n",
       "      <td>0.740741</td>\n",
       "      <td>0.749064</td>\n",
       "      <td>0.999216</td>\n",
       "      <td>0.870183</td>\n",
       "    </tr>\n",
       "    <tr>\n",
       "      <th>SMOTE - Decision Tree</th>\n",
       "      <td>0.455752</td>\n",
       "      <td>0.700680</td>\n",
       "      <td>0.552279</td>\n",
       "      <td>0.998045</td>\n",
       "      <td>0.849619</td>\n",
       "    </tr>\n",
       "    <tr>\n",
       "      <th>Borderline-SMOTE - Decision Tree</th>\n",
       "      <td>0.685714</td>\n",
       "      <td>0.711111</td>\n",
       "      <td>0.698182</td>\n",
       "      <td>0.999029</td>\n",
       "      <td>0.855298</td>\n",
       "    </tr>\n",
       "  </tbody>\n",
       "</table>\n",
       "</div>"
      ],
      "text/plain": [
       "                                                    precision    recall  \\\n",
       "imbalanced data - Decision Tree                      0.750000  0.733333   \n",
       "imbalanced data - Decision Tree + CostSensitvie...   0.773438  0.733333   \n",
       "RandomOversampling - Decision Tree                   0.757576  0.740741   \n",
       "SMOTE - Decision Tree                                0.455752  0.700680   \n",
       "Borderline-SMOTE - Decision Tree                     0.685714  0.711111   \n",
       "\n",
       "                                                    f1-score  accuracy  \\\n",
       "imbalanced data - Decision Tree                     0.741573  0.999192   \n",
       "imbalanced data - Decision Tree + CostSensitvie...  0.752852  0.999239   \n",
       "RandomOversampling - Decision Tree                  0.749064  0.999216   \n",
       "SMOTE - Decision Tree                               0.552279  0.998045   \n",
       "Borderline-SMOTE - Decision Tree                    0.698182  0.999029   \n",
       "\n",
       "                                                         ROC  \n",
       "imbalanced data - Decision Tree                     0.866473  \n",
       "imbalanced data - Decision Tree + CostSensitvie...  0.866497  \n",
       "RandomOversampling - Decision Tree                  0.870183  \n",
       "SMOTE - Decision Tree                               0.849619  \n",
       "Borderline-SMOTE - Decision Tree                    0.855298  "
      ]
     },
     "execution_count": 50,
     "metadata": {},
     "output_type": "execute_result"
    }
   ],
   "source": [
    "model_eval_test"
   ]
  },
  {
   "cell_type": "code",
   "execution_count": 51,
   "metadata": {},
   "outputs": [
    {
     "data": {
      "text/plain": [
       "<matplotlib.axes._subplots.AxesSubplot at 0x21600ef2978>"
      ]
     },
     "execution_count": 51,
     "metadata": {},
     "output_type": "execute_result"
    },
    {
     "data": {
      "image/png": "[encoded data removed]",
      "text/plain": [
       "<Figure size 576x360 with 2 Axes>"
      ]
     },
     "metadata": {
      "needs_background": "light"
     },
     "output_type": "display_data"
    }
   ],
   "source": [
    "from sklearn.metrics import confusion_matrix\n",
    "%matplotlib inline\n",
    "\n",
    "y_pred = clf5.predict(X_test)\n",
    "cm=confusion_matrix(y_test,y_pred)\n",
    "conf_matrix=pd.DataFrame(data=cm,columns=['Predicted:0','Predicted:1'],index=['Actual:0','Actual:1'])\n",
    "plt.figure(figsize = (8,5))\n",
    "sns.heatmap(conf_matrix, annot=True,fmt='d',cmap=\"YlGnBu\")"
   ]
  },
  {
   "cell_type": "code",
   "execution_count": 52,
   "metadata": {},
   "outputs": [
    {
     "name": "stdout",
     "output_type": "stream",
     "text": [
      "              precision    recall  f1-score   support\n",
      "\n",
      "           0       1.00      1.00      1.00     85308\n",
      "           1       0.69      0.71      0.70       135\n",
      "\n",
      "    accuracy                           1.00     85443\n",
      "   macro avg       0.84      0.86      0.85     85443\n",
      "weighted avg       1.00      1.00      1.00     85443\n",
      "\n"
     ]
    }
   ],
   "source": [
    "print(classification_report(y_test, y_pred))"
   ]
  },
  {
   "cell_type": "markdown",
   "metadata": {},
   "source": [
    "ADASYN"
   ]
  },
  {
   "cell_type": "code",
   "execution_count": 53,
   "metadata": {},
   "outputs": [],
   "source": [
    "from imblearn.over_sampling import ADASYN "
   ]
  },
  {
   "cell_type": "code",
   "execution_count": 54,
   "metadata": {},
   "outputs": [],
   "source": [
    "X, y = splitXY(df, 'Class')\n",
    "X_train, X_test, y_train, y_test = make_train_test_split(X=X, y=y, test_size=0.3, random_state=1)\n",
    "X_train = X_train[selected_vars] #select the variables from variable selection proces\n",
    "X_test = X_test[selected_vars]"
   ]
  },
  {
   "cell_type": "code",
   "execution_count": 55,
   "metadata": {},
   "outputs": [],
   "source": [
    "ada = ADASYN()\n",
    "adaX, aday = ada.fit_sample(X_train, y_train)"
   ]
  },
  {
   "cell_type": "code",
   "execution_count": 56,
   "metadata": {},
   "outputs": [],
   "source": [
    "clf4 = build_model(adaX, aday)"
   ]
  },
  {
   "cell_type": "code",
   "execution_count": 57,
   "metadata": {},
   "outputs": [],
   "source": [
    "model_eval_train, model_eval_test, cf_matrix_train, cf_matrix_test = model_eval_data(clf4, X_train, y_train, \n",
    "                                                         X_test, y_test, \n",
    "                                                         model_eval_train, \n",
    "                                                         model_eval_test,\n",
    "                                                         Name='ADASYN Decision Tree')"
   ]
  },
  {
   "cell_type": "code",
   "execution_count": 58,
   "metadata": {},
   "outputs": [
    {
     "data": {
      "text/html": [
       "<div>\n",
       "<style scoped>\n",
       "    .dataframe tbody tr th:only-of-type {\n",
       "        vertical-align: middle;\n",
       "    }\n",
       "\n",
       "    .dataframe tbody tr th {\n",
       "        vertical-align: top;\n",
       "    }\n",
       "\n",
       "    .dataframe thead th {\n",
       "        text-align: right;\n",
       "    }\n",
       "</style>\n",
       "<table border=\"1\" class=\"dataframe\">\n",
       "  <thead>\n",
       "    <tr style=\"text-align: right;\">\n",
       "      <th></th>\n",
       "      <th>precision</th>\n",
       "      <th>recall</th>\n",
       "      <th>f1-score</th>\n",
       "      <th>accuracy</th>\n",
       "      <th>ROC</th>\n",
       "    </tr>\n",
       "  </thead>\n",
       "  <tbody>\n",
       "    <tr>\n",
       "      <th>imbalanced data - Decision Tree</th>\n",
       "      <td>1.0</td>\n",
       "      <td>1.0</td>\n",
       "      <td>1.0</td>\n",
       "      <td>1.0</td>\n",
       "      <td>1.0</td>\n",
       "    </tr>\n",
       "    <tr>\n",
       "      <th>imbalanced data - Decision Tree + CostSensitvie(with proper weight)</th>\n",
       "      <td>1.0</td>\n",
       "      <td>1.0</td>\n",
       "      <td>1.0</td>\n",
       "      <td>1.0</td>\n",
       "      <td>1.0</td>\n",
       "    </tr>\n",
       "    <tr>\n",
       "      <th>RandomOversampling - Decision Tree</th>\n",
       "      <td>1.0</td>\n",
       "      <td>1.0</td>\n",
       "      <td>1.0</td>\n",
       "      <td>1.0</td>\n",
       "      <td>1.0</td>\n",
       "    </tr>\n",
       "    <tr>\n",
       "      <th>SMOTE - Decision Tree</th>\n",
       "      <td>1.0</td>\n",
       "      <td>1.0</td>\n",
       "      <td>1.0</td>\n",
       "      <td>1.0</td>\n",
       "      <td>1.0</td>\n",
       "    </tr>\n",
       "    <tr>\n",
       "      <th>Borderline-SMOTE - Decision Tree</th>\n",
       "      <td>1.0</td>\n",
       "      <td>1.0</td>\n",
       "      <td>1.0</td>\n",
       "      <td>1.0</td>\n",
       "      <td>1.0</td>\n",
       "    </tr>\n",
       "    <tr>\n",
       "      <th>ADASYN Decision Tree</th>\n",
       "      <td>1.0</td>\n",
       "      <td>1.0</td>\n",
       "      <td>1.0</td>\n",
       "      <td>1.0</td>\n",
       "      <td>1.0</td>\n",
       "    </tr>\n",
       "  </tbody>\n",
       "</table>\n",
       "</div>"
      ],
      "text/plain": [
       "                                                    precision  recall  \\\n",
       "imbalanced data - Decision Tree                           1.0     1.0   \n",
       "imbalanced data - Decision Tree + CostSensitvie...        1.0     1.0   \n",
       "RandomOversampling - Decision Tree                        1.0     1.0   \n",
       "SMOTE - Decision Tree                                     1.0     1.0   \n",
       "Borderline-SMOTE - Decision Tree                          1.0     1.0   \n",
       "ADASYN Decision Tree                                      1.0     1.0   \n",
       "\n",
       "                                                    f1-score  accuracy  ROC  \n",
       "imbalanced data - Decision Tree                          1.0       1.0  1.0  \n",
       "imbalanced data - Decision Tree + CostSensitvie...       1.0       1.0  1.0  \n",
       "RandomOversampling - Decision Tree                       1.0       1.0  1.0  \n",
       "SMOTE - Decision Tree                                    1.0       1.0  1.0  \n",
       "Borderline-SMOTE - Decision Tree                         1.0       1.0  1.0  \n",
       "ADASYN Decision Tree                                     1.0       1.0  1.0  "
      ]
     },
     "execution_count": 58,
     "metadata": {},
     "output_type": "execute_result"
    }
   ],
   "source": [
    "model_eval_train"
   ]
  },
  {
   "cell_type": "code",
   "execution_count": 59,
   "metadata": {},
   "outputs": [
    {
     "data": {
      "text/html": [
       "<div>\n",
       "<style scoped>\n",
       "    .dataframe tbody tr th:only-of-type {\n",
       "        vertical-align: middle;\n",
       "    }\n",
       "\n",
       "    .dataframe tbody tr th {\n",
       "        vertical-align: top;\n",
       "    }\n",
       "\n",
       "    .dataframe thead th {\n",
       "        text-align: right;\n",
       "    }\n",
       "</style>\n",
       "<table border=\"1\" class=\"dataframe\">\n",
       "  <thead>\n",
       "    <tr style=\"text-align: right;\">\n",
       "      <th></th>\n",
       "      <th>precision</th>\n",
       "      <th>recall</th>\n",
       "      <th>f1-score</th>\n",
       "      <th>accuracy</th>\n",
       "      <th>ROC</th>\n",
       "    </tr>\n",
       "  </thead>\n",
       "  <tbody>\n",
       "    <tr>\n",
       "      <th>imbalanced data - Decision Tree</th>\n",
       "      <td>0.750000</td>\n",
       "      <td>0.733333</td>\n",
       "      <td>0.741573</td>\n",
       "      <td>0.999192</td>\n",
       "      <td>0.866473</td>\n",
       "    </tr>\n",
       "    <tr>\n",
       "      <th>imbalanced data - Decision Tree + CostSensitvie(with proper weight)</th>\n",
       "      <td>0.773438</td>\n",
       "      <td>0.733333</td>\n",
       "      <td>0.752852</td>\n",
       "      <td>0.999239</td>\n",
       "      <td>0.866497</td>\n",
       "    </tr>\n",
       "    <tr>\n",
       "      <th>RandomOversampling - Decision Tree</th>\n",
       "      <td>0.757576</td>\n",
       "      <td>0.740741</td>\n",
       "      <td>0.749064</td>\n",
       "      <td>0.999216</td>\n",
       "      <td>0.870183</td>\n",
       "    </tr>\n",
       "    <tr>\n",
       "      <th>SMOTE - Decision Tree</th>\n",
       "      <td>0.455752</td>\n",
       "      <td>0.700680</td>\n",
       "      <td>0.552279</td>\n",
       "      <td>0.998045</td>\n",
       "      <td>0.849619</td>\n",
       "    </tr>\n",
       "    <tr>\n",
       "      <th>Borderline-SMOTE - Decision Tree</th>\n",
       "      <td>0.685714</td>\n",
       "      <td>0.711111</td>\n",
       "      <td>0.698182</td>\n",
       "      <td>0.999029</td>\n",
       "      <td>0.855298</td>\n",
       "    </tr>\n",
       "    <tr>\n",
       "      <th>ADASYN Decision Tree</th>\n",
       "      <td>0.404762</td>\n",
       "      <td>0.755556</td>\n",
       "      <td>0.527132</td>\n",
       "      <td>0.997858</td>\n",
       "      <td>0.876899</td>\n",
       "    </tr>\n",
       "  </tbody>\n",
       "</table>\n",
       "</div>"
      ],
      "text/plain": [
       "                                                    precision    recall  \\\n",
       "imbalanced data - Decision Tree                      0.750000  0.733333   \n",
       "imbalanced data - Decision Tree + CostSensitvie...   0.773438  0.733333   \n",
       "RandomOversampling - Decision Tree                   0.757576  0.740741   \n",
       "SMOTE - Decision Tree                                0.455752  0.700680   \n",
       "Borderline-SMOTE - Decision Tree                     0.685714  0.711111   \n",
       "ADASYN Decision Tree                                 0.404762  0.755556   \n",
       "\n",
       "                                                    f1-score  accuracy  \\\n",
       "imbalanced data - Decision Tree                     0.741573  0.999192   \n",
       "imbalanced data - Decision Tree + CostSensitvie...  0.752852  0.999239   \n",
       "RandomOversampling - Decision Tree                  0.749064  0.999216   \n",
       "SMOTE - Decision Tree                               0.552279  0.998045   \n",
       "Borderline-SMOTE - Decision Tree                    0.698182  0.999029   \n",
       "ADASYN Decision Tree                                0.527132  0.997858   \n",
       "\n",
       "                                                         ROC  \n",
       "imbalanced data - Decision Tree                     0.866473  \n",
       "imbalanced data - Decision Tree + CostSensitvie...  0.866497  \n",
       "RandomOversampling - Decision Tree                  0.870183  \n",
       "SMOTE - Decision Tree                               0.849619  \n",
       "Borderline-SMOTE - Decision Tree                    0.855298  \n",
       "ADASYN Decision Tree                                0.876899  "
      ]
     },
     "execution_count": 59,
     "metadata": {},
     "output_type": "execute_result"
    }
   ],
   "source": [
    "model_eval_test"
   ]
  },
  {
   "cell_type": "code",
   "execution_count": 60,
   "metadata": {},
   "outputs": [
    {
     "data": {
      "text/plain": [
       "<matplotlib.axes._subplots.AxesSubplot at 0x21600a61780>"
      ]
     },
     "execution_count": 60,
     "metadata": {},
     "output_type": "execute_result"
    },
    {
     "data": {
      "image/png": "[encoded data removed]",
      "text/plain": [
       "<Figure size 576x360 with 2 Axes>"
      ]
     },
     "metadata": {
      "needs_background": "light"
     },
     "output_type": "display_data"
    }
   ],
   "source": [
    "from sklearn.metrics import confusion_matrix\n",
    "%matplotlib inline\n",
    "\n",
    "y_pred = clf4.predict(X_test)\n",
    "cm=confusion_matrix(y_test,y_pred)\n",
    "conf_matrix=pd.DataFrame(data=cm,columns=['Predicted:0','Predicted:1'],index=['Actual:0','Actual:1'])\n",
    "plt.figure(figsize = (8,5))\n",
    "sns.heatmap(conf_matrix, annot=True,fmt='d',cmap=\"YlGnBu\")"
   ]
  },
  {
   "cell_type": "code",
   "execution_count": 61,
   "metadata": {},
   "outputs": [
    {
     "name": "stdout",
     "output_type": "stream",
     "text": [
      "              precision    recall  f1-score   support\n",
      "\n",
      "           0       1.00      1.00      1.00     85308\n",
      "           1       0.40      0.76      0.53       135\n",
      "\n",
      "    accuracy                           1.00     85443\n",
      "   macro avg       0.70      0.88      0.76     85443\n",
      "weighted avg       1.00      1.00      1.00     85443\n",
      "\n"
     ]
    }
   ],
   "source": [
    "print(classification_report(y_test, y_pred))"
   ]
  },
  {
   "cell_type": "markdown",
   "metadata": {},
   "source": [
    "# Comparison of different models"
   ]
  },
  {
   "cell_type": "code",
   "execution_count": 62,
   "metadata": {},
   "outputs": [],
   "source": [
    "final_eval_test = model_eval_test.copy(deep=True)"
   ]
  },
  {
   "cell_type": "code",
   "execution_count": 63,
   "metadata": {},
   "outputs": [],
   "source": [
    "model_eval_test.reset_index(inplace=True)"
   ]
  },
  {
   "cell_type": "code",
   "execution_count": 64,
   "metadata": {},
   "outputs": [],
   "source": [
    "model_eval_test.rename({'index': 'Method'}, axis=1, inplace=True)"
   ]
  },
  {
   "cell_type": "markdown",
   "metadata": {},
   "source": [
    "General Result"
   ]
  },
  {
   "cell_type": "code",
   "execution_count": 65,
   "metadata": {},
   "outputs": [
    {
     "data": {
      "text/html": [
       "<div>\n",
       "<style scoped>\n",
       "    .dataframe tbody tr th:only-of-type {\n",
       "        vertical-align: middle;\n",
       "    }\n",
       "\n",
       "    .dataframe tbody tr th {\n",
       "        vertical-align: top;\n",
       "    }\n",
       "\n",
       "    .dataframe thead th {\n",
       "        text-align: right;\n",
       "    }\n",
       "</style>\n",
       "<table border=\"1\" class=\"dataframe\">\n",
       "  <thead>\n",
       "    <tr style=\"text-align: right;\">\n",
       "      <th></th>\n",
       "      <th>Method</th>\n",
       "      <th>precision</th>\n",
       "      <th>recall</th>\n",
       "      <th>f1-score</th>\n",
       "      <th>accuracy</th>\n",
       "      <th>ROC</th>\n",
       "    </tr>\n",
       "  </thead>\n",
       "  <tbody>\n",
       "    <tr>\n",
       "      <th>0</th>\n",
       "      <td>imbalanced data - Decision Tree</td>\n",
       "      <td>0.750000</td>\n",
       "      <td>0.733333</td>\n",
       "      <td>0.741573</td>\n",
       "      <td>0.999192</td>\n",
       "      <td>0.866473</td>\n",
       "    </tr>\n",
       "    <tr>\n",
       "      <th>1</th>\n",
       "      <td>imbalanced data - Decision Tree + CostSensitvi...</td>\n",
       "      <td>0.773438</td>\n",
       "      <td>0.733333</td>\n",
       "      <td>0.752852</td>\n",
       "      <td>0.999239</td>\n",
       "      <td>0.866497</td>\n",
       "    </tr>\n",
       "    <tr>\n",
       "      <th>2</th>\n",
       "      <td>RandomOversampling - Decision Tree</td>\n",
       "      <td>0.757576</td>\n",
       "      <td>0.740741</td>\n",
       "      <td>0.749064</td>\n",
       "      <td>0.999216</td>\n",
       "      <td>0.870183</td>\n",
       "    </tr>\n",
       "    <tr>\n",
       "      <th>3</th>\n",
       "      <td>SMOTE - Decision Tree</td>\n",
       "      <td>0.455752</td>\n",
       "      <td>0.700680</td>\n",
       "      <td>0.552279</td>\n",
       "      <td>0.998045</td>\n",
       "      <td>0.849619</td>\n",
       "    </tr>\n",
       "    <tr>\n",
       "      <th>4</th>\n",
       "      <td>Borderline-SMOTE - Decision Tree</td>\n",
       "      <td>0.685714</td>\n",
       "      <td>0.711111</td>\n",
       "      <td>0.698182</td>\n",
       "      <td>0.999029</td>\n",
       "      <td>0.855298</td>\n",
       "    </tr>\n",
       "    <tr>\n",
       "      <th>5</th>\n",
       "      <td>ADASYN Decision Tree</td>\n",
       "      <td>0.404762</td>\n",
       "      <td>0.755556</td>\n",
       "      <td>0.527132</td>\n",
       "      <td>0.997858</td>\n",
       "      <td>0.876899</td>\n",
       "    </tr>\n",
       "  </tbody>\n",
       "</table>\n",
       "</div>"
      ],
      "text/plain": [
       "                                              Method  precision    recall  \\\n",
       "0                    imbalanced data - Decision Tree   0.750000  0.733333   \n",
       "1  imbalanced data - Decision Tree + CostSensitvi...   0.773438  0.733333   \n",
       "2                 RandomOversampling - Decision Tree   0.757576  0.740741   \n",
       "3                              SMOTE - Decision Tree   0.455752  0.700680   \n",
       "4                   Borderline-SMOTE - Decision Tree   0.685714  0.711111   \n",
       "5                               ADASYN Decision Tree   0.404762  0.755556   \n",
       "\n",
       "   f1-score  accuracy       ROC  \n",
       "0  0.741573  0.999192  0.866473  \n",
       "1  0.752852  0.999239  0.866497  \n",
       "2  0.749064  0.999216  0.870183  \n",
       "3  0.552279  0.998045  0.849619  \n",
       "4  0.698182  0.999029  0.855298  \n",
       "5  0.527132  0.997858  0.876899  "
      ]
     },
     "execution_count": 65,
     "metadata": {},
     "output_type": "execute_result"
    }
   ],
   "source": [
    "model_eval_test"
   ]
  },
  {
   "cell_type": "code",
   "execution_count": 66,
   "metadata": {},
   "outputs": [],
   "source": [
    "tidy = model_eval_test.melt(id_vars='Method').rename(columns=str.title)"
   ]
  },
  {
   "cell_type": "code",
   "execution_count": 67,
   "metadata": {},
   "outputs": [
    {
     "data": {
      "image/png": "[encoded data removed]",
      "text/plain": [
       "<Figure size 1080x720 with 1 Axes>"
      ]
     },
     "metadata": {
      "needs_background": "light"
     },
     "output_type": "display_data"
    }
   ],
   "source": [
    "plt.figure(figsize=(15,10))\n",
    "sns.barplot(x='Variable', y='Value', hue='Method', data=tidy)\n",
    "plt.tight_layout()"
   ]
  }
 ],
 "metadata": {
  "kernelspec": {
   "display_name": "Python 3",
   "language": "python",
   "name": "python3"
  },
  "language_info": {
   "codemirror_mode": {
    "name": "ipython",
    "version": 3
   },
   "file_extension": ".py",
   "mimetype": "text/x-python",
   "name": "python",
   "nbconvert_exporter": "python",
   "pygments_lexer": "ipython3",
   "version": "3.6.5"
  }
 },
 "nbformat": 4,
 "nbformat_minor": 4
}
